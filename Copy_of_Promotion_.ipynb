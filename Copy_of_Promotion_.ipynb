{
  "nbformat": 4,
  "nbformat_minor": 0,
  "metadata": {
    "kernelspec": {
      "display_name": "Python 3",
      "language": "python",
      "name": "python3"
    },
    "language_info": {
      "codemirror_mode": {
        "name": "ipython",
        "version": 3
      },
      "file_extension": ".py",
      "mimetype": "text/x-python",
      "name": "python",
      "nbconvert_exporter": "python",
      "pygments_lexer": "ipython3",
      "version": "3.7.4"
    },
    "colab": {
      "name": "Copy of Promotion .ipynb",
      "provenance": [],
      "collapsed_sections": [],
      "toc_visible": true
    }
  },
  "cells": [
    {
      "cell_type": "code",
      "metadata": {
        "id": "zw1ttb5Jrn7g",
        "colab": {
          "base_uri": "https://localhost:8080/",
          "height": 71
        },
        "outputId": "5d8e4ecc-c35a-4e96-8f9b-415669235f12"
      },
      "source": [
        "import pandas as pd\n",
        "import numpy as np\n",
        "import matplotlib.pyplot as plt\n",
        "%matplotlib inline\n",
        "import seaborn as sns"
      ],
      "execution_count": null,
      "outputs": [
        {
          "output_type": "stream",
          "text": [
            "/usr/local/lib/python3.6/dist-packages/statsmodels/tools/_testing.py:19: FutureWarning: pandas.util.testing is deprecated. Use the functions in the public API at pandas.testing instead.\n",
            "  import pandas.util.testing as tm\n"
          ],
          "name": "stderr"
        }
      ]
    },
    {
      "cell_type": "code",
      "metadata": {
        "id": "qZW5bG19rn7p",
        "colab": {
          "base_uri": "https://localhost:8080/",
          "height": 292
        },
        "outputId": "b9c89630-3ab8-4b9f-e911-fe1aa9d4a0fe"
      },
      "source": [
        "data='train_LZdllcl.csv'\n",
        "prom_df=pd.read_csv(data)\n",
        "prom_df.head()"
      ],
      "execution_count": null,
      "outputs": [
        {
          "output_type": "execute_result",
          "data": {
            "text/html": [
              "<div>\n",
              "<style scoped>\n",
              "    .dataframe tbody tr th:only-of-type {\n",
              "        vertical-align: middle;\n",
              "    }\n",
              "\n",
              "    .dataframe tbody tr th {\n",
              "        vertical-align: top;\n",
              "    }\n",
              "\n",
              "    .dataframe thead th {\n",
              "        text-align: right;\n",
              "    }\n",
              "</style>\n",
              "<table border=\"1\" class=\"dataframe\">\n",
              "  <thead>\n",
              "    <tr style=\"text-align: right;\">\n",
              "      <th></th>\n",
              "      <th>employee_id</th>\n",
              "      <th>department</th>\n",
              "      <th>region</th>\n",
              "      <th>education</th>\n",
              "      <th>gender</th>\n",
              "      <th>recruitment_channel</th>\n",
              "      <th>no_of_trainings</th>\n",
              "      <th>age</th>\n",
              "      <th>previous_year_rating</th>\n",
              "      <th>length_of_service</th>\n",
              "      <th>KPIs_met &gt;80%</th>\n",
              "      <th>awards_won?</th>\n",
              "      <th>avg_training_score</th>\n",
              "      <th>is_promoted</th>\n",
              "    </tr>\n",
              "  </thead>\n",
              "  <tbody>\n",
              "    <tr>\n",
              "      <th>0</th>\n",
              "      <td>65438</td>\n",
              "      <td>Sales &amp; Marketing</td>\n",
              "      <td>region_7</td>\n",
              "      <td>Master's &amp; above</td>\n",
              "      <td>f</td>\n",
              "      <td>sourcing</td>\n",
              "      <td>1</td>\n",
              "      <td>35</td>\n",
              "      <td>5.0</td>\n",
              "      <td>8</td>\n",
              "      <td>1</td>\n",
              "      <td>0</td>\n",
              "      <td>49</td>\n",
              "      <td>0</td>\n",
              "    </tr>\n",
              "    <tr>\n",
              "      <th>1</th>\n",
              "      <td>65141</td>\n",
              "      <td>Operations</td>\n",
              "      <td>region_22</td>\n",
              "      <td>Bachelor's</td>\n",
              "      <td>m</td>\n",
              "      <td>other</td>\n",
              "      <td>1</td>\n",
              "      <td>30</td>\n",
              "      <td>5.0</td>\n",
              "      <td>4</td>\n",
              "      <td>0</td>\n",
              "      <td>0</td>\n",
              "      <td>60</td>\n",
              "      <td>0</td>\n",
              "    </tr>\n",
              "    <tr>\n",
              "      <th>2</th>\n",
              "      <td>7513</td>\n",
              "      <td>Sales &amp; Marketing</td>\n",
              "      <td>region_19</td>\n",
              "      <td>Bachelor's</td>\n",
              "      <td>m</td>\n",
              "      <td>sourcing</td>\n",
              "      <td>1</td>\n",
              "      <td>34</td>\n",
              "      <td>3.0</td>\n",
              "      <td>7</td>\n",
              "      <td>0</td>\n",
              "      <td>0</td>\n",
              "      <td>50</td>\n",
              "      <td>0</td>\n",
              "    </tr>\n",
              "    <tr>\n",
              "      <th>3</th>\n",
              "      <td>2542</td>\n",
              "      <td>Sales &amp; Marketing</td>\n",
              "      <td>region_23</td>\n",
              "      <td>Bachelor's</td>\n",
              "      <td>m</td>\n",
              "      <td>other</td>\n",
              "      <td>2</td>\n",
              "      <td>39</td>\n",
              "      <td>1.0</td>\n",
              "      <td>10</td>\n",
              "      <td>0</td>\n",
              "      <td>0</td>\n",
              "      <td>50</td>\n",
              "      <td>0</td>\n",
              "    </tr>\n",
              "    <tr>\n",
              "      <th>4</th>\n",
              "      <td>48945</td>\n",
              "      <td>Technology</td>\n",
              "      <td>region_26</td>\n",
              "      <td>Bachelor's</td>\n",
              "      <td>m</td>\n",
              "      <td>other</td>\n",
              "      <td>1</td>\n",
              "      <td>45</td>\n",
              "      <td>3.0</td>\n",
              "      <td>2</td>\n",
              "      <td>0</td>\n",
              "      <td>0</td>\n",
              "      <td>73</td>\n",
              "      <td>0</td>\n",
              "    </tr>\n",
              "  </tbody>\n",
              "</table>\n",
              "</div>"
            ],
            "text/plain": [
              "   employee_id         department  ... avg_training_score is_promoted\n",
              "0        65438  Sales & Marketing  ...                 49           0\n",
              "1        65141         Operations  ...                 60           0\n",
              "2         7513  Sales & Marketing  ...                 50           0\n",
              "3         2542  Sales & Marketing  ...                 50           0\n",
              "4        48945         Technology  ...                 73           0\n",
              "\n",
              "[5 rows x 14 columns]"
            ]
          },
          "metadata": {
            "tags": []
          },
          "execution_count": 2
        }
      ]
    },
    {
      "cell_type": "code",
      "metadata": {
        "id": "B9dsuASyrn7w",
        "colab": {
          "base_uri": "https://localhost:8080/",
          "height": 272
        },
        "outputId": "a3e55273-1cec-4297-df1c-09d5d806f766"
      },
      "source": [
        "prom_df.dtypes"
      ],
      "execution_count": null,
      "outputs": [
        {
          "output_type": "execute_result",
          "data": {
            "text/plain": [
              "employee_id               int64\n",
              "department               object\n",
              "region                   object\n",
              "education                object\n",
              "gender                   object\n",
              "recruitment_channel      object\n",
              "no_of_trainings           int64\n",
              "age                       int64\n",
              "previous_year_rating    float64\n",
              "length_of_service         int64\n",
              "KPIs_met >80%             int64\n",
              "awards_won?               int64\n",
              "avg_training_score        int64\n",
              "is_promoted               int64\n",
              "dtype: object"
            ]
          },
          "metadata": {
            "tags": []
          },
          "execution_count": 3
        }
      ]
    },
    {
      "cell_type": "code",
      "metadata": {
        "id": "NK6Y4siNrn72"
      },
      "source": [
        "del prom_df['employee_id']"
      ],
      "execution_count": null,
      "outputs": []
    },
    {
      "cell_type": "markdown",
      "metadata": {
        "id": "Gi02SuVlrn78"
      },
      "source": [
        "## Data Preprocessing"
      ]
    },
    {
      "cell_type": "code",
      "metadata": {
        "id": "NhwA2qiTrn79",
        "colab": {
          "base_uri": "https://localhost:8080/",
          "height": 255
        },
        "outputId": "ba78779a-8ea4-4c7b-99fd-380a807eb43e"
      },
      "source": [
        "prom_df.isna().sum()"
      ],
      "execution_count": null,
      "outputs": [
        {
          "output_type": "execute_result",
          "data": {
            "text/plain": [
              "department                 0\n",
              "region                     0\n",
              "education               2409\n",
              "gender                     0\n",
              "recruitment_channel        0\n",
              "no_of_trainings            0\n",
              "age                        0\n",
              "previous_year_rating    4124\n",
              "length_of_service          0\n",
              "KPIs_met >80%              0\n",
              "awards_won?                0\n",
              "avg_training_score         0\n",
              "is_promoted                0\n",
              "dtype: int64"
            ]
          },
          "metadata": {
            "tags": []
          },
          "execution_count": 5
        }
      ]
    },
    {
      "cell_type": "code",
      "metadata": {
        "id": "acDutfkVrn8C"
      },
      "source": [
        "prom_df.dropna(axis=0,how='any',inplace=True)"
      ],
      "execution_count": null,
      "outputs": []
    },
    {
      "cell_type": "code",
      "metadata": {
        "id": "r7gKikmlrn8H",
        "colab": {
          "base_uri": "https://localhost:8080/",
          "height": 34
        },
        "outputId": "7e1d5bfb-492a-4b09-b677-e35bc6ca5da1"
      },
      "source": [
        "prom_df.shape"
      ],
      "execution_count": null,
      "outputs": [
        {
          "output_type": "execute_result",
          "data": {
            "text/plain": [
              "(48660, 13)"
            ]
          },
          "metadata": {
            "tags": []
          },
          "execution_count": 7
        }
      ]
    },
    {
      "cell_type": "code",
      "metadata": {
        "id": "UeMXqdBGrn8M",
        "colab": {
          "base_uri": "https://localhost:8080/",
          "height": 847
        },
        "outputId": "928445f0-15ae-44ac-88fb-334a7a2df659"
      },
      "source": [
        "fig=plt.figure(figsize=(9,5))\n",
        "axis=fig.add_axes([0,1,1,1])\n",
        "sns.catplot(x=\"department\",kind=\"count\",hue=\"is_promoted\",data=prom_df,palette=\"pastel\",ax=axis)\n",
        "axis.set_title('Department Data')"
      ],
      "execution_count": null,
      "outputs": [
        {
          "output_type": "stream",
          "text": [
            "/usr/local/lib/python3.6/dist-packages/seaborn/categorical.py:3717: UserWarning: catplot is a figure-level function and does not accept target axes. You may wish to try countplot\n",
            "  warnings.warn(msg, UserWarning)\n"
          ],
          "name": "stderr"
        },
        {
          "output_type": "execute_result",
          "data": {
            "text/plain": [
              "Text(0.5, 1.0, 'Department Data')"
            ]
          },
          "metadata": {
            "tags": []
          },
          "execution_count": 8
        },
        {
          "output_type": "display_data",
          "data": {
            "image/png": "[encoded data removed]",
            "text/plain": [
              "<Figure size 648x360 with 1 Axes>"
            ]
          },
          "metadata": {
            "tags": [],
            "needs_background": "light"
          }
        },
        {
          "output_type": "display_data",
          "data": {
            "image/png": "[encoded data removed]",
            "text/plain": [
              "<Figure size 429.25x360 with 1 Axes>"
            ]
          },
          "metadata": {
            "tags": [],
            "needs_background": "light"
          }
        }
      ]
    },
    {
      "cell_type": "code",
      "metadata": {
        "id": "JR8PoWFGrn8R"
      },
      "source": [
        "# The highest chance of getting promoted is in Sales $ Marketing and Operations column"
      ],
      "execution_count": null,
      "outputs": []
    },
    {
      "cell_type": "code",
      "metadata": {
        "id": "8BCt-Qesrn8V",
        "colab": {
          "base_uri": "https://localhost:8080/",
          "height": 612
        },
        "outputId": "e4ec764b-63ae-49c6-e0ed-e902840c3fa8"
      },
      "source": [
        "prom_df['region'].value_counts()"
      ],
      "execution_count": null,
      "outputs": [
        {
          "output_type": "execute_result",
          "data": {
            "text/plain": [
              "region_2     10811\n",
              "region_22     5435\n",
              "region_7      4397\n",
              "region_15     2512\n",
              "region_13     2463\n",
              "region_26     1966\n",
              "region_31     1692\n",
              "region_4      1626\n",
              "region_27     1418\n",
              "region_16     1319\n",
              "region_11     1189\n",
              "region_28     1143\n",
              "region_23     1104\n",
              "region_29      896\n",
              "region_19      838\n",
              "region_20      780\n",
              "region_32      773\n",
              "region_14      770\n",
              "region_17      742\n",
              "region_25      721\n",
              "region_5       690\n",
              "region_10      614\n",
              "region_30      602\n",
              "region_6       579\n",
              "region_8       578\n",
              "region_1       553\n",
              "region_24      462\n",
              "region_12      425\n",
              "region_21      370\n",
              "region_3       331\n",
              "region_9       324\n",
              "region_33      260\n",
              "region_34      253\n",
              "region_18       24\n",
              "Name: region, dtype: int64"
            ]
          },
          "metadata": {
            "tags": []
          },
          "execution_count": 10
        }
      ]
    },
    {
      "cell_type": "code",
      "metadata": {
        "id": "QcilUGyArn8Z"
      },
      "source": [
        "from sklearn.preprocessing import LabelEncoder\n",
        "le=LabelEncoder()\n",
        "prom_df['region']=le.fit_transform(prom_df['region'])"
      ],
      "execution_count": null,
      "outputs": []
    },
    {
      "cell_type": "code",
      "metadata": {
        "id": "fCS9FHu3rn8d",
        "colab": {
          "base_uri": "https://localhost:8080/",
          "height": 612
        },
        "outputId": "83e3041e-c556-40fa-9a27-aef7f2047481"
      },
      "source": [
        "prom_df['region'].value_counts()"
      ],
      "execution_count": null,
      "outputs": [
        {
          "output_type": "execute_result",
          "data": {
            "text/plain": [
              "11    10811\n",
              "14     5435\n",
              "31     4397\n",
              "6      2512\n",
              "4      2463\n",
              "18     1966\n",
              "24     1692\n",
              "28     1626\n",
              "19     1418\n",
              "7      1319\n",
              "2      1189\n",
              "20     1143\n",
              "15     1104\n",
              "21      896\n",
              "10      838\n",
              "12      780\n",
              "25      773\n",
              "5       770\n",
              "8       742\n",
              "17      721\n",
              "29      690\n",
              "1       614\n",
              "23      602\n",
              "30      579\n",
              "32      578\n",
              "0       553\n",
              "16      462\n",
              "3       425\n",
              "13      370\n",
              "22      331\n",
              "33      324\n",
              "26      260\n",
              "27      253\n",
              "9        24\n",
              "Name: region, dtype: int64"
            ]
          },
          "metadata": {
            "tags": []
          },
          "execution_count": 12
        }
      ]
    },
    {
      "cell_type": "code",
      "metadata": {
        "id": "MxpBLUKXrn8i",
        "colab": {
          "base_uri": "https://localhost:8080/",
          "height": 34
        },
        "outputId": "15aeed34-b360-48b0-9f1c-0b9a4e337f18"
      },
      "source": [
        "prom_df['region'].dtype"
      ],
      "execution_count": null,
      "outputs": [
        {
          "output_type": "execute_result",
          "data": {
            "text/plain": [
              "dtype('int64')"
            ]
          },
          "metadata": {
            "tags": []
          },
          "execution_count": 13
        }
      ]
    },
    {
      "cell_type": "code",
      "metadata": {
        "id": "SJvY6pJfrn8n",
        "colab": {
          "base_uri": "https://localhost:8080/",
          "height": 847
        },
        "outputId": "66c6c21a-28e0-4213-901b-631015a2df15"
      },
      "source": [
        "lis=[11,14,31,6,4,18,24,28,19,7,20,2,15,21]\n",
        "sample=prom_df.loc[prom_df['region'].isin(lis)]\n",
        "sample.head()\n",
        "fig=plt.figure(figsize=(9,5))\n",
        "axis=fig.add_axes([0,1,1,1])\n",
        "sns.catplot(x=\"region\",kind=\"count\",hue=\"is_promoted\",data=sample,palette=\"pastel\",ax=axis)\n",
        "axis.set_title('Region')"
      ],
      "execution_count": null,
      "outputs": [
        {
          "output_type": "stream",
          "text": [
            "/usr/local/lib/python3.6/dist-packages/seaborn/categorical.py:3717: UserWarning: catplot is a figure-level function and does not accept target axes. You may wish to try countplot\n",
            "  warnings.warn(msg, UserWarning)\n"
          ],
          "name": "stderr"
        },
        {
          "output_type": "execute_result",
          "data": {
            "text/plain": [
              "Text(0.5, 1.0, 'Region')"
            ]
          },
          "metadata": {
            "tags": []
          },
          "execution_count": 14
        },
        {
          "output_type": "display_data",
          "data": {
            "image/png": "[encoded data removed]",
            "text/plain": [
              "<Figure size 648x360 with 1 Axes>"
            ]
          },
          "metadata": {
            "tags": [],
            "needs_background": "light"
          }
        },
        {
          "output_type": "display_data",
          "data": {
            "image/png": "[encoded data removed]",
            "text/plain": [
              "<Figure size 429.25x360 with 1 Axes>"
            ]
          },
          "metadata": {
            "tags": [],
            "needs_background": "light"
          }
        }
      ]
    },
    {
      "cell_type": "code",
      "metadata": {
        "id": "_aO41JQ6rn8q"
      },
      "source": [
        "#Region column is not giving any clear impact on chances of promotion due to it's varying distribution\n",
        "del prom_df['region']"
      ],
      "execution_count": null,
      "outputs": []
    },
    {
      "cell_type": "code",
      "metadata": {
        "id": "PkiejU-Krn8u",
        "colab": {
          "base_uri": "https://localhost:8080/",
          "height": 85
        },
        "outputId": "d7b9682a-cdde-436e-8bf1-febe84805ab9"
      },
      "source": [
        "prom_df['education'].value_counts()"
      ],
      "execution_count": null,
      "outputs": [
        {
          "output_type": "execute_result",
          "data": {
            "text/plain": [
              "Bachelor's          33404\n",
              "Master's & above    14798\n",
              "Below Secondary       458\n",
              "Name: education, dtype: int64"
            ]
          },
          "metadata": {
            "tags": []
          },
          "execution_count": 16
        }
      ]
    },
    {
      "cell_type": "code",
      "metadata": {
        "id": "YQCfQpdJrn80",
        "colab": {
          "base_uri": "https://localhost:8080/",
          "height": 847
        },
        "outputId": "c1695a9b-d5fd-4264-8ebb-049a571683dc"
      },
      "source": [
        "fig=plt.figure(figsize=(9,5))\n",
        "axis=fig.add_axes([0,1,1,1])\n",
        "sns.catplot(x=\"education\",kind=\"count\",hue=\"is_promoted\",data=prom_df,palette=\"pastel\",ax=axis)\n",
        "axis.set_title('education')"
      ],
      "execution_count": null,
      "outputs": [
        {
          "output_type": "stream",
          "text": [
            "/usr/local/lib/python3.6/dist-packages/seaborn/categorical.py:3717: UserWarning: catplot is a figure-level function and does not accept target axes. You may wish to try countplot\n",
            "  warnings.warn(msg, UserWarning)\n"
          ],
          "name": "stderr"
        },
        {
          "output_type": "execute_result",
          "data": {
            "text/plain": [
              "Text(0.5, 1.0, 'education')"
            ]
          },
          "metadata": {
            "tags": []
          },
          "execution_count": 17
        },
        {
          "output_type": "display_data",
          "data": {
            "image/png": "[encoded data removed]",
            "text/plain": [
              "<Figure size 648x360 with 1 Axes>"
            ]
          },
          "metadata": {
            "tags": [],
            "needs_background": "light"
          }
        },
        {
          "output_type": "display_data",
          "data": {
            "image/png": "[encoded data removed]",
            "text/plain": [
              "<Figure size 429.25x360 with 1 Axes>"
            ]
          },
          "metadata": {
            "tags": [],
            "needs_background": "light"
          }
        }
      ]
    },
    {
      "cell_type": "code",
      "metadata": {
        "id": "Cmb7GN5rrn84"
      },
      "source": [
        "#Below Secondary data is not available to a good extent\n",
        "#But clearly the proportion of Master and above is slightly more than Bachelor's education"
      ],
      "execution_count": null,
      "outputs": []
    },
    {
      "cell_type": "code",
      "metadata": {
        "id": "YNzTgJxVrn88"
      },
      "source": [
        "sample=pd.get_dummies(prom_df['education'])\n",
        "prom_df=pd.concat([sample,prom_df],axis=1)\n",
        "del prom_df['education']"
      ],
      "execution_count": null,
      "outputs": []
    },
    {
      "cell_type": "code",
      "metadata": {
        "id": "quSQE2horn8_",
        "colab": {
          "base_uri": "https://localhost:8080/",
          "height": 68
        },
        "outputId": "1adbd8a2-82fd-41cb-8b5a-28be150b7ece"
      },
      "source": [
        "prom_df.gender.value_counts()"
      ],
      "execution_count": null,
      "outputs": [
        {
          "output_type": "execute_result",
          "data": {
            "text/plain": [
              "m    33852\n",
              "f    14808\n",
              "Name: gender, dtype: int64"
            ]
          },
          "metadata": {
            "tags": []
          },
          "execution_count": 20
        }
      ]
    },
    {
      "cell_type": "code",
      "metadata": {
        "id": "YHmBGol2rn9D"
      },
      "source": [
        "female_prop=len(prom_df[(prom_df['gender']=='f') & (prom_df['is_promoted']==1)])/len(prom_df[(prom_df['gender']=='f')])\n",
        "male_prop=len(prom_df[(prom_df['gender']=='m') & (prom_df['is_promoted']==1)])/len(prom_df[(prom_df['gender']=='m')])"
      ],
      "execution_count": null,
      "outputs": []
    },
    {
      "cell_type": "code",
      "metadata": {
        "id": "ntyIC3Hurn9I",
        "colab": {
          "base_uri": "https://localhost:8080/",
          "height": 316
        },
        "outputId": "98024ceb-c787-42a3-8a39-99d50ccd346d"
      },
      "source": [
        "\n",
        "lis1=['female','male']\n",
        "lis2=[female_prop/(female_prop+male_prop),male_prop/(female_prop+male_prop)]\n",
        "plt.pie(lis2,labels=lis1,radius=1)"
      ],
      "execution_count": null,
      "outputs": [
        {
          "output_type": "execute_result",
          "data": {
            "text/plain": [
              "([<matplotlib.patches.Wedge at 0x7f25266edef0>,\n",
              "  <matplotlib.patches.Wedge at 0x7f2526777470>],\n",
              " [Text(-0.07123219762999024, 1.0976912015775668, 'female'),\n",
              "  Text(0.07123219762999035, -1.0976912015775668, 'male')])"
            ]
          },
          "metadata": {
            "tags": []
          },
          "execution_count": 22
        },
        {
          "output_type": "display_data",
          "data": {
            "image/png": "[encoded data removed]",
            "text/plain": [
              "<Figure size 432x288 with 1 Axes>"
            ]
          },
          "metadata": {
            "tags": []
          }
        }
      ]
    },
    {
      "cell_type": "code",
      "metadata": {
        "id": "ib4QDYZarn9M"
      },
      "source": [
        "#Clearly female candidates have slightly more chances to get promoted than males"
      ],
      "execution_count": null,
      "outputs": []
    },
    {
      "cell_type": "code",
      "metadata": {
        "id": "VHMtdum7rn9P"
      },
      "source": [
        "sample=pd.get_dummies(prom_df['gender'])\n",
        "prom_df=pd.concat([sample,prom_df],axis=1)\n",
        "del prom_df['gender']"
      ],
      "execution_count": null,
      "outputs": []
    },
    {
      "cell_type": "code",
      "metadata": {
        "id": "NLb7Pk5Xrn9U",
        "colab": {
          "base_uri": "https://localhost:8080/",
          "height": 85
        },
        "outputId": "f5fc091f-f1fe-40a2-c6b8-c4841fc1c2bc"
      },
      "source": [
        "prom_df.recruitment_channel.value_counts()"
      ],
      "execution_count": null,
      "outputs": [
        {
          "output_type": "execute_result",
          "data": {
            "text/plain": [
              "other       27017\n",
              "sourcing    20623\n",
              "referred     1020\n",
              "Name: recruitment_channel, dtype: int64"
            ]
          },
          "metadata": {
            "tags": []
          },
          "execution_count": 25
        }
      ]
    },
    {
      "cell_type": "code",
      "metadata": {
        "id": "sltONPFprn9Z",
        "colab": {
          "base_uri": "https://localhost:8080/",
          "height": 350
        },
        "outputId": "5f684239-3f3e-4fd3-ea74-c4b2a41255d3"
      },
      "source": [
        "other=len(prom_df[(prom_df['recruitment_channel']=='other') & (prom_df['is_promoted']==1)])/len(prom_df[(prom_df['recruitment_channel']=='other')])\n",
        "sourcing=len(prom_df[(prom_df['recruitment_channel']=='sourcing') & (prom_df['is_promoted']==1)])/len(prom_df[(prom_df['recruitment_channel']=='sourcing')])\n",
        "referred=other=len(prom_df[(prom_df['recruitment_channel']=='referred') & (prom_df['is_promoted']==1)])/len(prom_df[(prom_df['recruitment_channel']=='referred')])\n",
        "list1=['other','sourcing','referred']\n",
        "s=other+sourcing+referred\n",
        "list2=[other/s,sourcing/s,referred/s]\n",
        "plt.pie(list2,labels=list1,radius=1,explode=[0,0,.1])"
      ],
      "execution_count": null,
      "outputs": [
        {
          "output_type": "execute_result",
          "data": {
            "text/plain": [
              "([<matplotlib.patches.Wedge at 0x7f2526744240>,\n",
              "  <matplotlib.patches.Wedge at 0x7f2526744780>,\n",
              "  <matplotlib.patches.Wedge at 0x7f2526744c88>],\n",
              " [Text(0.42886629623798134, 1.0129529603842007, 'other'),\n",
              "  Text(-1.0999999999999954, -1.0298943258065002e-07, 'sourcing'),\n",
              "  Text(0.46785434827306405, -1.1050395055390494, 'referred')])"
            ]
          },
          "metadata": {
            "tags": []
          },
          "execution_count": 26
        },
        {
          "output_type": "display_data",
          "data": {
            "image/png": "[encoded data removed]",
            "text/plain": [
              "<Figure size 432x288 with 1 Axes>"
            ]
          },
          "metadata": {
            "tags": []
          }
        }
      ]
    },
    {
      "cell_type": "code",
      "metadata": {
        "id": "l9QxtFvvrn9d"
      },
      "source": [
        "#sufficient data for referred is not available. That's why it can be said for sure that referred has highest proportion\n",
        "# Comparing other and sourcing, chances of promotion for those admitted through other means are more"
      ],
      "execution_count": null,
      "outputs": []
    },
    {
      "cell_type": "code",
      "metadata": {
        "id": "jgH2WSr3rn9h"
      },
      "source": [
        "sample=pd.get_dummies(prom_df['recruitment_channel'])\n",
        "prom_df=pd.concat([sample,prom_df],axis=1)\n",
        "del prom_df['recruitment_channel']"
      ],
      "execution_count": null,
      "outputs": []
    },
    {
      "cell_type": "code",
      "metadata": {
        "id": "l04pCs-Zrn9l",
        "colab": {
          "base_uri": "https://localhost:8080/",
          "height": 204
        },
        "outputId": "aa2ca919-5251-4f22-a46a-62d976598058"
      },
      "source": [
        "prom_df['no_of_trainings'].value_counts()"
      ],
      "execution_count": null,
      "outputs": [
        {
          "output_type": "execute_result",
          "data": {
            "text/plain": [
              "1     39400\n",
              "2      7107\n",
              "3      1579\n",
              "4       402\n",
              "5       116\n",
              "6        34\n",
              "7        10\n",
              "10        5\n",
              "8         4\n",
              "9         3\n",
              "Name: no_of_trainings, dtype: int64"
            ]
          },
          "metadata": {
            "tags": []
          },
          "execution_count": 29
        }
      ]
    },
    {
      "cell_type": "code",
      "metadata": {
        "id": "Kb_l2ZqJrn9p"
      },
      "source": [
        "#Since no. of observations for 6 and above training is exceedingly less. We'll analyze using data upto 5 trainings\n",
        "dic={}\n",
        "for i in range(1,6):\n",
        "    dic['train'+str(i)]=len(prom_df[(prom_df['no_of_trainings']==i) & (prom_df['is_promoted']==1)])/len(prom_df[(prom_df['no_of_trainings']==i)])"
      ],
      "execution_count": null,
      "outputs": []
    },
    {
      "cell_type": "code",
      "metadata": {
        "id": "xqut1Dlyrn9t"
      },
      "source": [
        "names=np.array(list(dic.keys()))\n",
        "values=np.array(list(dic.values()))"
      ],
      "execution_count": null,
      "outputs": []
    },
    {
      "cell_type": "code",
      "metadata": {
        "id": "lZLJa0G3rn9y",
        "colab": {
          "base_uri": "https://localhost:8080/",
          "height": 282
        },
        "outputId": "3c0e46a3-9099-4f4a-e0ac-0908dac0ecc0"
      },
      "source": [
        "plt.plot(names,values,marker='o',markersize=2)"
      ],
      "execution_count": null,
      "outputs": [
        {
          "output_type": "execute_result",
          "data": {
            "text/plain": [
              "[<matplotlib.lines.Line2D at 0x7f252670ba58>]"
            ]
          },
          "metadata": {
            "tags": []
          },
          "execution_count": 32
        },
        {
          "output_type": "display_data",
          "data": {
            "image/png": "[encoded data removed]",
            "text/plain": [
              "<Figure size 432x288 with 1 Axes>"
            ]
          },
          "metadata": {
            "tags": [],
            "needs_background": "light"
          }
        }
      ]
    },
    {
      "cell_type": "code",
      "metadata": {
        "id": "6LcNtZm8rn92"
      },
      "source": [
        "#Here is a continuously decreasing trend for no. of training."
      ],
      "execution_count": null,
      "outputs": []
    },
    {
      "cell_type": "code",
      "metadata": {
        "id": "6I9ryLznrn95",
        "colab": {
          "base_uri": "https://localhost:8080/",
          "height": 51
        },
        "outputId": "8740ea4c-fafd-46d4-d269-58a5533c1dad"
      },
      "source": [
        "print(prom_df['age'].max())\n",
        "print(prom_df['age'].min())"
      ],
      "execution_count": null,
      "outputs": [
        {
          "output_type": "stream",
          "text": [
            "60\n",
            "20\n"
          ],
          "name": "stdout"
        }
      ]
    },
    {
      "cell_type": "code",
      "metadata": {
        "id": "5dId1qn4rn99",
        "colab": {
          "base_uri": "https://localhost:8080/",
          "height": 296
        },
        "outputId": "294d7953-b6ed-4125-e116-d23b937f1e1f"
      },
      "source": [
        "sample1=prom_df[prom_df['is_promoted']==1]\n",
        "sample2=prom_df[prom_df['is_promoted']==0]\n",
        "sns.distplot(sample1['age'],bins=20,hist=False,kde=True,color='orange',vertical=False,label='promoted')\n",
        "sns.distplot(sample2['age'],bins=20,hist=False,kde=True,color='red',vertical=False,label='not_promoted')"
      ],
      "execution_count": null,
      "outputs": [
        {
          "output_type": "execute_result",
          "data": {
            "text/plain": [
              "<matplotlib.axes._subplots.AxesSubplot at 0x7f252672ff28>"
            ]
          },
          "metadata": {
            "tags": []
          },
          "execution_count": 35
        },
        {
          "output_type": "display_data",
          "data": {
            "image/png": "[encoded data removed]",
            "text/plain": [
              "<Figure size 432x288 with 1 Axes>"
            ]
          },
          "metadata": {
            "tags": [],
            "needs_background": "light"
          }
        }
      ]
    },
    {
      "cell_type": "code",
      "metadata": {
        "id": "ErbbeA1qrn-A"
      },
      "source": [
        "#Proportion of people promoted is same is almost all ages"
      ],
      "execution_count": null,
      "outputs": []
    },
    {
      "cell_type": "code",
      "metadata": {
        "id": "osdFh_UUrn-D",
        "colab": {
          "base_uri": "https://localhost:8080/",
          "height": 119
        },
        "outputId": "37135e63-944a-494c-eac0-aba67e00d394"
      },
      "source": [
        "prom_df['previous_year_rating'].value_counts()"
      ],
      "execution_count": null,
      "outputs": [
        {
          "output_type": "execute_result",
          "data": {
            "text/plain": [
              "3.0    17867\n",
              "5.0    11362\n",
              "4.0     9509\n",
              "1.0     5887\n",
              "2.0     4035\n",
              "Name: previous_year_rating, dtype: int64"
            ]
          },
          "metadata": {
            "tags": []
          },
          "execution_count": 37
        }
      ]
    },
    {
      "cell_type": "code",
      "metadata": {
        "id": "0aw4AXiVrn-L"
      },
      "source": [
        "dic={}\n",
        "for i in range(1,6):\n",
        "    dic['rating'+str(i)]=len(prom_df[(prom_df['previous_year_rating']==i) & (prom_df['is_promoted']==1)])/len(prom_df[(prom_df['previous_year_rating']==i)])"
      ],
      "execution_count": null,
      "outputs": []
    },
    {
      "cell_type": "code",
      "metadata": {
        "id": "BlKEFx1rrn-O",
        "colab": {
          "base_uri": "https://localhost:8080/",
          "height": 282
        },
        "outputId": "2ef872a4-cf70-41d5-f8e2-85df3edf71c5"
      },
      "source": [
        "names=list(dic.keys())\n",
        "values=list(dic.values())\n",
        "plt.plot(names,values,marker='o',markersize=4,color='yellow')"
      ],
      "execution_count": null,
      "outputs": [
        {
          "output_type": "execute_result",
          "data": {
            "text/plain": [
              "[<matplotlib.lines.Line2D at 0x7f2526629d30>]"
            ]
          },
          "metadata": {
            "tags": []
          },
          "execution_count": 39
        },
        {
          "output_type": "display_data",
          "data": {
            "image/png": "[encoded data removed]",
            "text/plain": [
              "<Figure size 432x288 with 1 Axes>"
            ]
          },
          "metadata": {
            "tags": [],
            "needs_background": "light"
          }
        }
      ]
    },
    {
      "cell_type": "code",
      "metadata": {
        "id": "44zpKivsrn-S"
      },
      "source": [
        "#As the rating increases chances of promotion increases. Chances becomes drastically high for rating of 5.0"
      ],
      "execution_count": null,
      "outputs": []
    },
    {
      "cell_type": "code",
      "metadata": {
        "id": "a9D1aF9Crn-W",
        "colab": {
          "base_uri": "https://localhost:8080/",
          "height": 51
        },
        "outputId": "4acf7a69-9853-43a7-af4e-118500b71149"
      },
      "source": [
        "print(prom_df['length_of_service'].max())\n",
        "print(prom_df['length_of_service'].min())"
      ],
      "execution_count": null,
      "outputs": [
        {
          "output_type": "stream",
          "text": [
            "37\n",
            "1\n"
          ],
          "name": "stdout"
        }
      ]
    },
    {
      "cell_type": "code",
      "metadata": {
        "id": "Ttv0SuhErn-c",
        "colab": {
          "base_uri": "https://localhost:8080/",
          "height": 297
        },
        "outputId": "55c73377-88db-444b-f2eb-190b7bf01097"
      },
      "source": [
        "sample1=prom_df[prom_df['is_promoted']==1]\n",
        "sample2=prom_df[prom_df['is_promoted']==0]\n",
        "sns.distplot(sample1['length_of_service'],bins=20,hist=False,kde=True,color='orange',vertical=False,label='promoted')\n",
        "sns.distplot(sample2['length_of_service'],bins=20,hist=False,kde=True,color='red',vertical=False,label='not_promoted')"
      ],
      "execution_count": null,
      "outputs": [
        {
          "output_type": "execute_result",
          "data": {
            "text/plain": [
              "<matplotlib.axes._subplots.AxesSubplot at 0x7f25265c3c88>"
            ]
          },
          "metadata": {
            "tags": []
          },
          "execution_count": 42
        },
        {
          "output_type": "display_data",
          "data": {
            "image/png": "[encoded data removed]",
            "text/plain": [
              "<Figure size 432x288 with 1 Axes>"
            ]
          },
          "metadata": {
            "tags": [],
            "needs_background": "light"
          }
        }
      ]
    },
    {
      "cell_type": "code",
      "metadata": {
        "id": "lQUvqAtyrn-g"
      },
      "source": [
        "#The proportion for each length of service is almost same\n",
        "#Most of the employees of company have worked between 3 to 15 years"
      ],
      "execution_count": null,
      "outputs": []
    },
    {
      "cell_type": "code",
      "metadata": {
        "id": "DHRHzt2Orn-l",
        "colab": {
          "base_uri": "https://localhost:8080/",
          "height": 68
        },
        "outputId": "f68bffbf-77f0-42d6-c836-1e31dc06158d"
      },
      "source": [
        "prom_df['KPIs_met >80%'].value_counts()"
      ],
      "execution_count": null,
      "outputs": [
        {
          "output_type": "execute_result",
          "data": {
            "text/plain": [
              "0    31314\n",
              "1    17346\n",
              "Name: KPIs_met >80%, dtype: int64"
            ]
          },
          "metadata": {
            "tags": []
          },
          "execution_count": 44
        }
      ]
    },
    {
      "cell_type": "code",
      "metadata": {
        "id": "LKaRSydPrn-q",
        "colab": {
          "base_uri": "https://localhost:8080/",
          "height": 386
        },
        "outputId": "230afe68-ae53-47a7-ce62-96fdafe36c0d"
      },
      "source": [
        "sns.catplot(x=\"KPIs_met >80%\",kind=\"count\",hue=\"is_promoted\",data=prom_df,palette=\"pastel\")\n",
        "axis.set_title(\"KPIs_met >80%\")"
      ],
      "execution_count": null,
      "outputs": [
        {
          "output_type": "execute_result",
          "data": {
            "text/plain": [
              "Text(0.5, 1.0, 'KPIs_met >80%')"
            ]
          },
          "metadata": {
            "tags": []
          },
          "execution_count": 45
        },
        {
          "output_type": "display_data",
          "data": {
            "image/png": "[encoded data removed]",
            "text/plain": [
              "<Figure size 429.25x360 with 1 Axes>"
            ]
          },
          "metadata": {
            "tags": [],
            "needs_background": "light"
          }
        }
      ]
    },
    {
      "cell_type": "code",
      "metadata": {
        "id": "3OTw2fFErn-w"
      },
      "source": [
        "#Clearly, those employees for which KPI>80% chances of promotion is more"
      ],
      "execution_count": null,
      "outputs": []
    },
    {
      "cell_type": "code",
      "metadata": {
        "id": "k0IKJ0ZFrn-2",
        "colab": {
          "base_uri": "https://localhost:8080/",
          "height": 68
        },
        "outputId": "9d2ba70b-1926-4696-cc80-56d17489966f"
      },
      "source": [
        "prom_df['awards_won?'].value_counts()"
      ],
      "execution_count": null,
      "outputs": [
        {
          "output_type": "execute_result",
          "data": {
            "text/plain": [
              "0    47534\n",
              "1     1126\n",
              "Name: awards_won?, dtype: int64"
            ]
          },
          "metadata": {
            "tags": []
          },
          "execution_count": 47
        }
      ]
    },
    {
      "cell_type": "code",
      "metadata": {
        "id": "cn4tsivcrn-7",
        "colab": {
          "base_uri": "https://localhost:8080/",
          "height": 316
        },
        "outputId": "ec97871b-3993-4b02-9dc2-97416c510b58"
      },
      "source": [
        "award_y=len(prom_df[(prom_df['awards_won?']==1) & (prom_df['is_promoted']==1)])/len(prom_df[(prom_df['awards_won?']==1)])\n",
        "award_n=len(prom_df[(prom_df['awards_won?']==0) & (prom_df['is_promoted']==1)])/len(prom_df[(prom_df['awards_won?']==0)])\n",
        "s=award_y+award_n\n",
        "list1=[award_y/s,award_n/s]\n",
        "list2=['award_y','award_n']\n",
        "plt.pie(x=list1,labels=list2)"
      ],
      "execution_count": null,
      "outputs": [
        {
          "output_type": "execute_result",
          "data": {
            "text/plain": [
              "([<matplotlib.patches.Wedge at 0x7f25268b3da0>,\n",
              "  <matplotlib.patches.Wedge at 0x7f25268b3438>],\n",
              " [Text(-0.9815242591370925, 0.49659855892398824, 'award_y'),\n",
              "  Text(0.9815242823845479, -0.4965985129755207, 'award_n')])"
            ]
          },
          "metadata": {
            "tags": []
          },
          "execution_count": 48
        },
        {
          "output_type": "display_data",
          "data": {
            "image/png": "[encoded data removed]",
            "text/plain": [
              "<Figure size 432x288 with 1 Axes>"
            ]
          },
          "metadata": {
            "tags": []
          }
        }
      ]
    },
    {
      "cell_type": "code",
      "metadata": {
        "id": "7K4eI0zbrn-_"
      },
      "source": [
        "#Chances of getting promotion having award won is very high as compared to others"
      ],
      "execution_count": null,
      "outputs": []
    },
    {
      "cell_type": "code",
      "metadata": {
        "id": "wTuoKxnurn_E",
        "colab": {
          "base_uri": "https://localhost:8080/",
          "height": 51
        },
        "outputId": "7a991835-6c02-47a2-d466-772b20e85818"
      },
      "source": [
        "print(prom_df['avg_training_score'].max())\n",
        "print(prom_df['avg_training_score'].min())"
      ],
      "execution_count": null,
      "outputs": [
        {
          "output_type": "stream",
          "text": [
            "99\n",
            "39\n"
          ],
          "name": "stdout"
        }
      ]
    },
    {
      "cell_type": "code",
      "metadata": {
        "id": "NBD24OtLrn_H",
        "colab": {
          "base_uri": "https://localhost:8080/",
          "height": 297
        },
        "outputId": "64bc16c8-d4bf-4824-8ea3-5cf2e6da76f4"
      },
      "source": [
        "sample1=prom_df[prom_df['is_promoted']==1]\n",
        "sample2=prom_df[prom_df['is_promoted']==0]\n",
        "sns.distplot(sample1['avg_training_score'],bins=30,hist=False,kde=True,color='orange',vertical=False,label='promoted')\n",
        "sns.distplot(sample2['avg_training_score'],bins=30,hist=False,kde=True,color='red',vertical=False,label='not_promoted')"
      ],
      "execution_count": null,
      "outputs": [
        {
          "output_type": "execute_result",
          "data": {
            "text/plain": [
              "<matplotlib.axes._subplots.AxesSubplot at 0x7f25267d4668>"
            ]
          },
          "metadata": {
            "tags": []
          },
          "execution_count": 51
        },
        {
          "output_type": "display_data",
          "data": {
            "image/png": "[encoded data removed]",
            "text/plain": [
              "<Figure size 432x288 with 1 Axes>"
            ]
          },
          "metadata": {
            "tags": [],
            "needs_background": "light"
          }
        }
      ]
    },
    {
      "cell_type": "code",
      "metadata": {
        "id": "-0spOi0jrn_K"
      },
      "source": [
        "#The graph clearly shows that as the training score increases chances of promotion increases"
      ],
      "execution_count": null,
      "outputs": []
    },
    {
      "cell_type": "markdown",
      "metadata": {
        "id": "5rlMH4_Qrn_R"
      },
      "source": [
        "## Model Building"
      ]
    },
    {
      "cell_type": "code",
      "metadata": {
        "id": "dHIrPXAVrn_R",
        "colab": {
          "base_uri": "https://localhost:8080/",
          "height": 323
        },
        "outputId": "df5a90e5-4686-4858-a327-a9051c278803"
      },
      "source": [
        "prom_df.dtypes"
      ],
      "execution_count": null,
      "outputs": [
        {
          "output_type": "execute_result",
          "data": {
            "text/plain": [
              "other                     uint8\n",
              "referred                  uint8\n",
              "sourcing                  uint8\n",
              "f                         uint8\n",
              "m                         uint8\n",
              "Bachelor's                uint8\n",
              "Below Secondary           uint8\n",
              "Master's & above          uint8\n",
              "department               object\n",
              "no_of_trainings           int64\n",
              "age                       int64\n",
              "previous_year_rating    float64\n",
              "length_of_service         int64\n",
              "KPIs_met >80%             int64\n",
              "awards_won?               int64\n",
              "avg_training_score        int64\n",
              "is_promoted               int64\n",
              "dtype: object"
            ]
          },
          "metadata": {
            "tags": []
          },
          "execution_count": 53
        }
      ]
    },
    {
      "cell_type": "code",
      "metadata": {
        "id": "0n9EyTl3rn_Z"
      },
      "source": [
        "prom_df['department']=le.fit_transform(prom_df['department'])"
      ],
      "execution_count": null,
      "outputs": []
    },
    {
      "cell_type": "code",
      "metadata": {
        "id": "PzPPC1Egrn_e"
      },
      "source": [
        "#We have seen that age and length_of_service has no serious impact on promotion chances\n",
        "del prom_df['age']\n",
        "del prom_df['length_of_service']"
      ],
      "execution_count": null,
      "outputs": []
    },
    {
      "cell_type": "code",
      "metadata": {
        "id": "bvDT7cF3rn_k"
      },
      "source": [
        "X=prom_df.iloc[:,0:-1].values\n",
        "y=prom_df.iloc[:,-1].values"
      ],
      "execution_count": null,
      "outputs": []
    },
    {
      "cell_type": "code",
      "metadata": {
        "id": "mGTnPgdcrn_o",
        "colab": {
          "base_uri": "https://localhost:8080/",
          "height": 34
        },
        "outputId": "26e47efd-8b71-47a8-938d-b275d75db9de"
      },
      "source": [
        "X.shape"
      ],
      "execution_count": null,
      "outputs": [
        {
          "output_type": "execute_result",
          "data": {
            "text/plain": [
              "(48660, 14)"
            ]
          },
          "metadata": {
            "tags": []
          },
          "execution_count": 57
        }
      ]
    },
    {
      "cell_type": "code",
      "metadata": {
        "id": "j_iaIlknrn_v",
        "colab": {
          "base_uri": "https://localhost:8080/",
          "height": 34
        },
        "outputId": "00581a19-b2ca-4a31-9f74-445ffa7d4a1e"
      },
      "source": [
        "y.shape"
      ],
      "execution_count": null,
      "outputs": [
        {
          "output_type": "execute_result",
          "data": {
            "text/plain": [
              "(48660,)"
            ]
          },
          "metadata": {
            "tags": []
          },
          "execution_count": 58
        }
      ]
    },
    {
      "cell_type": "code",
      "metadata": {
        "id": "egWzjfDBrn_y"
      },
      "source": [
        "from sklearn.preprocessing import StandardScaler\n",
        "SS=StandardScaler()\n",
        "X=SS.fit_transform(X)"
      ],
      "execution_count": null,
      "outputs": []
    },
    {
      "cell_type": "markdown",
      "metadata": {
        "id": "vjK6H2qern_1"
      },
      "source": [
        "### Logistic Regression"
      ]
    },
    {
      "cell_type": "code",
      "metadata": {
        "id": "HXbwmemHrn_2"
      },
      "source": [
        "from sklearn.linear_model import LogisticRegression\n",
        "LR=LogisticRegression(C=5,random_state=0,solver='lbfgs')"
      ],
      "execution_count": null,
      "outputs": []
    },
    {
      "cell_type": "code",
      "metadata": {
        "id": "42O4ZgK1rn_6"
      },
      "source": [
        "from sklearn.model_selection import cross_val_score"
      ],
      "execution_count": null,
      "outputs": []
    },
    {
      "cell_type": "code",
      "metadata": {
        "id": "5c6Z3UX4rn_-"
      },
      "source": [
        "score_acc=cross_val_score(estimator=LR,X=X,y=y,scoring='accuracy',cv=10)\n",
        "score_f1=cross_val_score(estimator=LR,X=X,y=y,scoring='f1',cv=10)"
      ],
      "execution_count": null,
      "outputs": []
    },
    {
      "cell_type": "code",
      "metadata": {
        "id": "uL4uwBH4roAC",
        "colab": {
          "base_uri": "https://localhost:8080/",
          "height": 51
        },
        "outputId": "687a53f0-7e64-4bfa-b582-739b6ae67d78"
      },
      "source": [
        "print(score_acc.mean())\n",
        "print(score_f1.mean())"
      ],
      "execution_count": null,
      "outputs": [
        {
          "output_type": "stream",
          "text": [
            "0.9157418824496506\n",
            "0.13203524197971167\n"
          ],
          "name": "stdout"
        }
      ]
    },
    {
      "cell_type": "markdown",
      "metadata": {
        "id": "NMMCUwyYoDeL"
      },
      "source": [
        "**Accuracy score in Logistic Regression is .91**"
      ]
    },
    {
      "cell_type": "markdown",
      "metadata": {
        "id": "30zu3idyroAG"
      },
      "source": [
        "### KNN classifier"
      ]
    },
    {
      "cell_type": "code",
      "metadata": {
        "id": "L6yc10ACroAH"
      },
      "source": [
        "from sklearn.neighbors import KNeighborsClassifier"
      ],
      "execution_count": null,
      "outputs": []
    },
    {
      "cell_type": "code",
      "metadata": {
        "id": "G7HTg9zCroAM"
      },
      "source": [
        "KNC=KNeighborsClassifier(n_neighbors=5)"
      ],
      "execution_count": null,
      "outputs": []
    },
    {
      "cell_type": "code",
      "metadata": {
        "id": "kvkj-cAAroAR"
      },
      "source": [
        "score_acc=cross_val_score(estimator=KNC,X=X,y=y,scoring='accuracy',cv=10,n_jobs=-1)\n",
        "score_f1=cross_val_score(estimator=KNC,X=X,y=y,scoring='f1',cv=10,n_jobs=-1)"
      ],
      "execution_count": null,
      "outputs": []
    },
    {
      "cell_type": "code",
      "metadata": {
        "id": "MpcWyq18roAT",
        "colab": {
          "base_uri": "https://localhost:8080/",
          "height": 51
        },
        "outputId": "8bae9371-904e-4e46-9199-7f5b9609d1b8"
      },
      "source": [
        "print(score_acc.mean())\n",
        "print(score_f1.mean())"
      ],
      "execution_count": null,
      "outputs": [
        {
          "output_type": "stream",
          "text": [
            "0.9249075215782984\n",
            "0.38707325485555144\n"
          ],
          "name": "stdout"
        }
      ]
    },
    {
      "cell_type": "markdown",
      "metadata": {
        "id": "iNijMs7DoKrV"
      },
      "source": [
        "**Accuracy score in KNN classifier is .92**"
      ]
    },
    {
      "cell_type": "markdown",
      "metadata": {
        "id": "2CPwMfOItGq8"
      },
      "source": [
        "### naive bayes"
      ]
    },
    {
      "cell_type": "code",
      "metadata": {
        "id": "qSNctYc4roAW"
      },
      "source": [
        "from sklearn.naive_bayes import GaussianNB"
      ],
      "execution_count": null,
      "outputs": []
    },
    {
      "cell_type": "code",
      "metadata": {
        "id": "6zoH9e0atnEU"
      },
      "source": [
        "GNB=GaussianNB()"
      ],
      "execution_count": null,
      "outputs": []
    },
    {
      "cell_type": "code",
      "metadata": {
        "id": "2PDQotn0tzAv"
      },
      "source": [
        "score_acc=cross_val_score(estimator=GNB,X=X,y=y,scoring='accuracy',cv=10,n_jobs=-1)\n",
        "score_f1=cross_val_score(estimator=GNB,X=X,y=y,scoring='f1',cv=10,n_jobs=-1)"
      ],
      "execution_count": null,
      "outputs": []
    },
    {
      "cell_type": "code",
      "metadata": {
        "id": "nKFEJ8cVt6gh",
        "colab": {
          "base_uri": "https://localhost:8080/",
          "height": 51
        },
        "outputId": "c414e6cb-8cbc-4033-8718-a4b033451246"
      },
      "source": [
        "print(score_acc.mean())\n",
        "print(score_f1.mean())"
      ],
      "execution_count": null,
      "outputs": [
        {
          "output_type": "stream",
          "text": [
            "0.8957254418413483\n",
            "0.2023354270153018\n"
          ],
          "name": "stdout"
        }
      ]
    },
    {
      "cell_type": "markdown",
      "metadata": {
        "id": "89zDBKvyoTd9"
      },
      "source": [
        "**Accuracy score in Naive Bayes is .89**"
      ]
    },
    {
      "cell_type": "markdown",
      "metadata": {
        "id": "fn8ZUpkNt_2W"
      },
      "source": [
        "### SVC"
      ]
    },
    {
      "cell_type": "code",
      "metadata": {
        "id": "T1zdUkrot88A"
      },
      "source": [
        "from sklearn.svm import SVC"
      ],
      "execution_count": null,
      "outputs": []
    },
    {
      "cell_type": "code",
      "metadata": {
        "id": "VKDKVrOiuJy4"
      },
      "source": [
        "svc=SVC()"
      ],
      "execution_count": null,
      "outputs": []
    },
    {
      "cell_type": "code",
      "metadata": {
        "id": "p14o_oGuuWzX"
      },
      "source": [
        "from sklearn.model_selection import RandomizedSearchCV"
      ],
      "execution_count": null,
      "outputs": []
    },
    {
      "cell_type": "code",
      "metadata": {
        "id": "T-xSCJ5iuhhT"
      },
      "source": [
        "parameters={'C':[.1,.5,.8,1,3],\n",
        "            'kernel':['rbf','sigmoid'],\n",
        "            'gamma':[.1,.5,.05]}"
      ],
      "execution_count": null,
      "outputs": []
    },
    {
      "cell_type": "code",
      "metadata": {
        "id": "a_DNlqsjvXJU"
      },
      "source": [
        "RCV=RandomizedSearchCV(estimator=svc,param_distributions=parameters,n_iter=5,scoring='accuracy',random_state=0,n_jobs=-1)"
      ],
      "execution_count": null,
      "outputs": []
    },
    {
      "cell_type": "code",
      "metadata": {
        "id": "EILQVpOavr9c",
        "colab": {
          "base_uri": "https://localhost:8080/",
          "height": 238
        },
        "outputId": "7f5433cf-7120-4330-8a0b-06cc5e2417a0"
      },
      "source": [
        "RCV.fit(X,y)"
      ],
      "execution_count": null,
      "outputs": [
        {
          "output_type": "execute_result",
          "data": {
            "text/plain": [
              "RandomizedSearchCV(cv=None, error_score=nan,\n",
              "                   estimator=SVC(C=1.0, break_ties=False, cache_size=200,\n",
              "                                 class_weight=None, coef0=0.0,\n",
              "                                 decision_function_shape='ovr', degree=3,\n",
              "                                 gamma='scale', kernel='rbf', max_iter=-1,\n",
              "                                 probability=False, random_state=None,\n",
              "                                 shrinking=True, tol=0.001, verbose=False),\n",
              "                   iid='deprecated', n_iter=5, n_jobs=-1,\n",
              "                   param_distributions={'C': [0.1, 0.5, 0.8, 1, 3],\n",
              "                                        'gamma': [0.1, 0.5, 0.05],\n",
              "                                        'kernel': ['rbf', 'sigmoid']},\n",
              "                   pre_dispatch='2*n_jobs', random_state=0, refit=True,\n",
              "                   return_train_score=False, scoring='accuracy', verbose=0)"
            ]
          },
          "metadata": {
            "tags": []
          },
          "execution_count": 82
        }
      ]
    },
    {
      "cell_type": "code",
      "metadata": {
        "id": "VzM0TPOcv4nq",
        "colab": {
          "base_uri": "https://localhost:8080/",
          "height": 51
        },
        "outputId": "ce1b2c6f-c133-4216-842f-f77b892686aa"
      },
      "source": [
        "print(RCV.best_params_)\n",
        "print(RCV.best_score_)"
      ],
      "execution_count": null,
      "outputs": [
        {
          "output_type": "stream",
          "text": [
            "{'kernel': 'rbf', 'gamma': 0.5, 'C': 3}\n",
            "0.9298397040690507\n"
          ],
          "name": "stdout"
        }
      ]
    },
    {
      "cell_type": "code",
      "metadata": {
        "id": "jxrfdfC6y4rP"
      },
      "source": [
        "svc=SVC(C=5,kernel='rbf',gamma=.5,random_state=0)"
      ],
      "execution_count": null,
      "outputs": []
    },
    {
      "cell_type": "code",
      "metadata": {
        "id": "ijjd9F47zZjO",
        "colab": {
          "base_uri": "https://localhost:8080/",
          "height": 51
        },
        "outputId": "1b18fc43-1a87-49d3-d33e-bad9db0b1306"
      },
      "source": [
        "score_acc=cross_val_score(estimator=svc,X=X,y=y,scoring='accuracy',cv=5)\n",
        "score_f1=cross_val_score(estimator=svc,X=X,y=y,scoring='f1',cv=5)\n",
        "print(score_acc.mean())\n",
        "print(score_f1.mean())\n"
      ],
      "execution_count": null,
      "outputs": [
        {
          "output_type": "stream",
          "text": [
            "0.9309288943690917\n",
            "0.39282692320047186\n"
          ],
          "name": "stdout"
        }
      ]
    },
    {
      "cell_type": "markdown",
      "metadata": {
        "id": "rCa5Y9gpob-0"
      },
      "source": [
        "**Accuracy score in SVC is .93**"
      ]
    },
    {
      "cell_type": "markdown",
      "metadata": {
        "id": "MB_-WFiu0X13"
      },
      "source": [
        "### Decision Tree Classifier"
      ]
    },
    {
      "cell_type": "code",
      "metadata": {
        "id": "WG_g4cCbzpIa"
      },
      "source": [
        "from sklearn.tree import DecisionTreeClassifier"
      ],
      "execution_count": null,
      "outputs": []
    },
    {
      "cell_type": "code",
      "metadata": {
        "id": "fS6_u21L5Fhm"
      },
      "source": [
        "DTC=DecisionTreeClassifier(criterion='gini',splitter='best',random_state=0)"
      ],
      "execution_count": null,
      "outputs": []
    },
    {
      "cell_type": "code",
      "metadata": {
        "id": "KpeXHOdL5h08"
      },
      "source": [
        "parameters={'max_depth':[15,13,14,16,19],\n",
        "            'max_features':[10,12,11,13]}\n",
        "RCV=RandomizedSearchCV(estimator=DTC,param_distributions=parameters,n_iter=5,scoring='accuracy',random_state=0)"
      ],
      "execution_count": null,
      "outputs": []
    },
    {
      "cell_type": "code",
      "metadata": {
        "id": "A1f9It146s6o",
        "colab": {
          "base_uri": "https://localhost:8080/",
          "height": 372
        },
        "outputId": "39f7124c-70b6-4e91-a3c5-e67bc4550b8f"
      },
      "source": [
        "RCV.fit(X,y)"
      ],
      "execution_count": null,
      "outputs": [
        {
          "output_type": "execute_result",
          "data": {
            "text/plain": [
              "RandomizedSearchCV(cv=None, error_score=nan,\n",
              "                   estimator=DecisionTreeClassifier(ccp_alpha=0.0,\n",
              "                                                    class_weight=None,\n",
              "                                                    criterion='gini',\n",
              "                                                    max_depth=None,\n",
              "                                                    max_features=None,\n",
              "                                                    max_leaf_nodes=None,\n",
              "                                                    min_impurity_decrease=0.0,\n",
              "                                                    min_impurity_split=None,\n",
              "                                                    min_samples_leaf=1,\n",
              "                                                    min_samples_split=2,\n",
              "                                                    min_weight_fraction_leaf=0.0,\n",
              "                                                    presort='deprecated',\n",
              "                                                    random_state=0,\n",
              "                                                    splitter='best'),\n",
              "                   iid='deprecated', n_iter=5, n_jobs=None,\n",
              "                   param_distributions={'max_depth': [15, 13, 14, 16, 19],\n",
              "                                        'max_features': [10, 12, 11, 13]},\n",
              "                   pre_dispatch='2*n_jobs', random_state=0, refit=True,\n",
              "                   return_train_score=False, scoring='accuracy', verbose=0)"
            ]
          },
          "metadata": {
            "tags": []
          },
          "execution_count": 108
        }
      ]
    },
    {
      "cell_type": "code",
      "metadata": {
        "id": "_ElSlIgg6wQ7",
        "colab": {
          "base_uri": "https://localhost:8080/",
          "height": 52
        },
        "outputId": "048e51ca-03d2-4508-ed40-a68a8dec5447"
      },
      "source": [
        "print(RCV.best_params_)\n",
        "print(RCV.best_score_)"
      ],
      "execution_count": null,
      "outputs": [
        {
          "output_type": "stream",
          "text": [
            "{'max_features': 11, 'max_depth': 14}\n",
            "0.9369913686806411\n"
          ],
          "name": "stdout"
        }
      ]
    },
    {
      "cell_type": "code",
      "metadata": {
        "id": "LuZUfOZn64jg",
        "colab": {
          "base_uri": "https://localhost:8080/",
          "height": 52
        },
        "outputId": "b7cbc42a-9a6d-47bc-f71e-f27897f889cd"
      },
      "source": [
        "DTC=DecisionTreeClassifier(criterion='gini',splitter='best',random_state=0,max_features=11,max_depth=14)\n",
        "score_acc=cross_val_score(estimator=DTC,X=X,y=y,scoring='accuracy',cv=5)\n",
        "score_f1=cross_val_score(estimator=DTC,X=X,y=y,scoring='f1',cv=5)\n",
        "print(score_acc.mean())\n",
        "print(score_f1.mean())\n"
      ],
      "execution_count": null,
      "outputs": [
        {
          "output_type": "stream",
          "text": [
            "0.9369913686806411\n",
            "0.4929545117030708\n"
          ],
          "name": "stdout"
        }
      ]
    },
    {
      "cell_type": "markdown",
      "metadata": {
        "id": "jOgZY3JQojrq"
      },
      "source": [
        "**Accuracy score with decision Tree classifier is .937**"
      ]
    },
    {
      "cell_type": "markdown",
      "metadata": {
        "id": "93ershPS8f-3"
      },
      "source": [
        "### Random Forest Classifier"
      ]
    },
    {
      "cell_type": "code",
      "metadata": {
        "id": "OeS_U4FE8cUV"
      },
      "source": [
        "from sklearn.ensemble import RandomForestClassifier"
      ],
      "execution_count": null,
      "outputs": []
    },
    {
      "cell_type": "code",
      "metadata": {
        "id": "FXdJS3dE8od6"
      },
      "source": [
        "RFC=RandomForestClassifier(n_estimators=100,random_state=0,max_features=10,max_depth=10)"
      ],
      "execution_count": null,
      "outputs": []
    },
    {
      "cell_type": "code",
      "metadata": {
        "id": "WJuqR6jv9aad"
      },
      "source": [
        "parameters={'max_depth':[15,13,10],\n",
        "            'max_features':[10,12,9,13],\n",
        "            'n_estimators':[50,100,150]}\n",
        "RCV=RandomizedSearchCV(estimator=RFC,param_distributions=parameters,n_iter=5,scoring='accuracy',random_state=0)"
      ],
      "execution_count": null,
      "outputs": []
    },
    {
      "cell_type": "code",
      "metadata": {
        "id": "HzfOiSMj93A0",
        "colab": {
          "base_uri": "https://localhost:8080/",
          "height": 836
        },
        "outputId": "cb35b5f9-ec74-478b-fd92-c0f9fb317939"
      },
      "source": [
        "RCV.fit(X,y)"
      ],
      "execution_count": null,
      "outputs": [
        {
          "output_type": "stream",
          "text": [
            "/usr/local/lib/python3.6/dist-packages/sklearn/model_selection/_validation.py:536: FitFailedWarning: Estimator fit failed. The score on this train-test partition for these parameters will be set to nan. Details: \n",
            "ValueError: max_features must be in (0, n_features]\n",
            "\n",
            "  FitFailedWarning)\n",
            "/usr/local/lib/python3.6/dist-packages/sklearn/model_selection/_validation.py:536: FitFailedWarning: Estimator fit failed. The score on this train-test partition for these parameters will be set to nan. Details: \n",
            "ValueError: max_features must be in (0, n_features]\n",
            "\n",
            "  FitFailedWarning)\n",
            "/usr/local/lib/python3.6/dist-packages/sklearn/model_selection/_validation.py:536: FitFailedWarning: Estimator fit failed. The score on this train-test partition for these parameters will be set to nan. Details: \n",
            "ValueError: max_features must be in (0, n_features]\n",
            "\n",
            "  FitFailedWarning)\n",
            "/usr/local/lib/python3.6/dist-packages/sklearn/model_selection/_validation.py:536: FitFailedWarning: Estimator fit failed. The score on this train-test partition for these parameters will be set to nan. Details: \n",
            "ValueError: max_features must be in (0, n_features]\n",
            "\n",
            "  FitFailedWarning)\n",
            "/usr/local/lib/python3.6/dist-packages/sklearn/model_selection/_validation.py:536: FitFailedWarning: Estimator fit failed. The score on this train-test partition for these parameters will be set to nan. Details: \n",
            "ValueError: max_features must be in (0, n_features]\n",
            "\n",
            "  FitFailedWarning)\n"
          ],
          "name": "stderr"
        },
        {
          "output_type": "execute_result",
          "data": {
            "text/plain": [
              "RandomizedSearchCV(cv=None, error_score=nan,\n",
              "                   estimator=RandomForestClassifier(bootstrap=True,\n",
              "                                                    ccp_alpha=0.0,\n",
              "                                                    class_weight=None,\n",
              "                                                    criterion='gini',\n",
              "                                                    max_depth=10,\n",
              "                                                    max_features=10,\n",
              "                                                    max_leaf_nodes=None,\n",
              "                                                    max_samples=None,\n",
              "                                                    min_impurity_decrease=0.0,\n",
              "                                                    min_impurity_split=None,\n",
              "                                                    min_samples_leaf=1,\n",
              "                                                    min_samples_split=2,\n",
              "                                                    min_weight_fraction_leaf=0.0,\n",
              "                                                    n_estimators=100,\n",
              "                                                    n_jobs=None,\n",
              "                                                    oob_score=False,\n",
              "                                                    random_state=0, verbose=0,\n",
              "                                                    warm_start=False),\n",
              "                   iid='deprecated', n_iter=5, n_jobs=None,\n",
              "                   param_distributions={'max_depth': [15, 10, 13],\n",
              "                                        'max_features': [14, 10, 12, 15],\n",
              "                                        'n_estimators': [50, 100, 150]},\n",
              "                   pre_dispatch='2*n_jobs', random_state=0, refit=True,\n",
              "                   return_train_score=False, scoring='accuracy', verbose=0)"
            ]
          },
          "metadata": {
            "tags": []
          },
          "execution_count": 119
        }
      ]
    },
    {
      "cell_type": "code",
      "metadata": {
        "id": "oqCINb5095jZ",
        "colab": {
          "base_uri": "https://localhost:8080/",
          "height": 52
        },
        "outputId": "dffd0f11-c65b-468a-f069-4728728238de"
      },
      "source": [
        "print(RCV.best_params_)\n",
        "print(RCV.best_score_)"
      ],
      "execution_count": null,
      "outputs": [
        {
          "output_type": "stream",
          "text": [
            "{'n_estimators': 100, 'max_features': 12, 'max_depth': 13}\n",
            "0.9399095766543362\n"
          ],
          "name": "stdout"
        }
      ]
    },
    {
      "cell_type": "code",
      "metadata": {
        "id": "-xBwyAFC-YcM",
        "colab": {
          "base_uri": "https://localhost:8080/",
          "height": 52
        },
        "outputId": "a837533c-fb0e-4a16-ed1e-f798f7319f62"
      },
      "source": [
        "RFC=RandomForestClassifier(n_estimators=100,random_state=0,max_features=12,max_depth=13)\n",
        "score_acc=cross_val_score(estimator=RFC,X=X,y=y,scoring='accuracy',cv=5)\n",
        "score_f1=cross_val_score(estimator=RFC,X=X,y=y,scoring='f1',cv=5)\n",
        "print(score_acc.mean())\n",
        "print(score_f1.mean())\n"
      ],
      "execution_count": null,
      "outputs": [
        {
          "output_type": "stream",
          "text": [
            "0.9399095766543362\n",
            "0.5023577860580979\n"
          ],
          "name": "stdout"
        }
      ]
    },
    {
      "cell_type": "markdown",
      "metadata": {
        "id": "Hwsx2IjAosyD"
      },
      "source": [
        "**Accuracy Score with Random Forest Classifier is .94**"
      ]
    },
    {
      "cell_type": "markdown",
      "metadata": {
        "id": "gISwHvUJ_5tO"
      },
      "source": [
        "### Gradient Boosting Classifier"
      ]
    },
    {
      "cell_type": "code",
      "metadata": {
        "id": "XNKQpUCT_W9p"
      },
      "source": [
        "from sklearn.ensemble import GradientBoostingClassifier"
      ],
      "execution_count": null,
      "outputs": []
    },
    {
      "cell_type": "code",
      "metadata": {
        "id": "goY27lb0AB1T"
      },
      "source": [
        "GBC=GradientBoostingClassifier(loss='deviance',learning_rate=.1,n_estimators=100,random_state=0)"
      ],
      "execution_count": null,
      "outputs": []
    },
    {
      "cell_type": "code",
      "metadata": {
        "id": "kZmeM82kAU2a"
      },
      "source": [
        "parameters={'max_depth':[15,13,10],\n",
        "            'max_features':[10,12,9,13],\n",
        "            'n_estimators':[50,100,150],\n",
        "            'learning_rate':[.1,.05,.08,.3]}\n",
        "RCV=RandomizedSearchCV(estimator=GBC,param_distributions=parameters,n_iter=5,scoring='accuracy',random_state=0)"
      ],
      "execution_count": null,
      "outputs": []
    },
    {
      "cell_type": "code",
      "metadata": {
        "id": "YqleohvzBDAy",
        "colab": {
          "base_uri": "https://localhost:8080/",
          "height": 514
        },
        "outputId": "7e2a9a06-9601-416d-a92c-d50430800545"
      },
      "source": [
        "RCV.fit(X,y)"
      ],
      "execution_count": null,
      "outputs": [
        {
          "output_type": "execute_result",
          "data": {
            "text/plain": [
              "RandomizedSearchCV(cv=None, error_score=nan,\n",
              "                   estimator=GradientBoostingClassifier(ccp_alpha=0.0,\n",
              "                                                        criterion='friedman_mse',\n",
              "                                                        init=None,\n",
              "                                                        learning_rate=0.1,\n",
              "                                                        loss='deviance',\n",
              "                                                        max_depth=3,\n",
              "                                                        max_features=None,\n",
              "                                                        max_leaf_nodes=None,\n",
              "                                                        min_impurity_decrease=0.0,\n",
              "                                                        min_impurity_split=None,\n",
              "                                                        min_samples_leaf=1,\n",
              "                                                        min_samples_split=2,\n",
              "                                                        min_weight_fraction_leaf=0.0,\n",
              "                                                        n_estimators=100,\n",
              "                                                        n_...\n",
              "                                                        subsample=1.0,\n",
              "                                                        tol=0.0001,\n",
              "                                                        validation_fraction=0.1,\n",
              "                                                        verbose=0,\n",
              "                                                        warm_start=False),\n",
              "                   iid='deprecated', n_iter=5, n_jobs=None,\n",
              "                   param_distributions={'learning_rate': [0.1, 0.05, 0.08, 0.3],\n",
              "                                        'max_depth': [15, 13, 10],\n",
              "                                        'max_features': [10, 12, 9, 13],\n",
              "                                        'n_estimators': [50, 100, 150]},\n",
              "                   pre_dispatch='2*n_jobs', random_state=0, refit=True,\n",
              "                   return_train_score=False, scoring='accuracy', verbose=0)"
            ]
          },
          "metadata": {
            "tags": []
          },
          "execution_count": 126
        }
      ]
    },
    {
      "cell_type": "code",
      "metadata": {
        "id": "UGFEVH8ZBJZy",
        "colab": {
          "base_uri": "https://localhost:8080/",
          "height": 52
        },
        "outputId": "a2debc2c-0567-4237-b6c3-8a28d67edc30"
      },
      "source": [
        "print(RCV.best_params_)\n",
        "print(RCV.best_score_)"
      ],
      "execution_count": null,
      "outputs": [
        {
          "output_type": "stream",
          "text": [
            "{'n_estimators': 100, 'max_features': 10, 'max_depth': 10, 'learning_rate': 0.08}\n",
            "0.9382655158240855\n"
          ],
          "name": "stdout"
        }
      ]
    },
    {
      "cell_type": "code",
      "metadata": {
        "id": "z_deKD4BDB5L",
        "colab": {
          "base_uri": "https://localhost:8080/",
          "height": 34
        },
        "outputId": "977b290a-dbec-43b6-862f-5786f712a7ed"
      },
      "source": [
        "GBC=GradientBoostingClassifier(loss='deviance',learning_rate=.08,n_estimators=100,random_state=0,max_features=11,max_depth=10)\n",
        "score_f1=cross_val_score(GBC,X=X,y=y,scoring='f1',cv=5)\n",
        "print(score_f1.mean())"
      ],
      "execution_count": null,
      "outputs": [
        {
          "output_type": "stream",
          "text": [
            "0.5065002923336144\n"
          ],
          "name": "stdout"
        }
      ]
    },
    {
      "cell_type": "code",
      "metadata": {
        "id": "vIyCBfueDwMm",
        "colab": {
          "base_uri": "https://localhost:8080/",
          "height": 34
        },
        "outputId": "0ed2331c-c939-4428-d4cd-166450c555ab"
      },
      "source": [
        "score_acc=cross_val_score(GBC,X=X,y=y,scoring='accuracy',cv=5)\n",
        "print(score_acc.mean())"
      ],
      "execution_count": null,
      "outputs": [
        {
          "output_type": "stream",
          "text": [
            "0.93832716810522\n"
          ],
          "name": "stdout"
        }
      ]
    },
    {
      "cell_type": "markdown",
      "metadata": {
        "id": "_rnhstuho4aa"
      },
      "source": [
        "**Accuracy score with Gradient Boosting Classifier is .938**"
      ]
    },
    {
      "cell_type": "markdown",
      "metadata": {
        "id": "t5PnacGgpJln"
      },
      "source": [
        "**Both Gradient Boosting and Random Forest Classifier gives approx equal performance but Random Forest has slightly better accuracy score**"
      ]
    },
    {
      "cell_type": "code",
      "metadata": {
        "id": "UfaYprTApYPh"
      },
      "source": [
        ""
      ],
      "execution_count": null,
      "outputs": []
    }
  ]
}