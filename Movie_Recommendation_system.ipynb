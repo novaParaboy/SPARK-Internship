{
  "nbformat": 4,
  "nbformat_minor": 0,
  "metadata": {
    "kernelspec": {
      "display_name": "Python 3",
      "language": "python",
      "name": "python3"
    },
    "language_info": {
      "codemirror_mode": {
        "name": "ipython",
        "version": 3
      },
      "file_extension": ".py",
      "mimetype": "text/x-python",
      "name": "python",
      "nbconvert_exporter": "python",
      "pygments_lexer": "ipython3",
      "version": "3.7.4"
    },
    "colab": {
      "name": "Movie Recommendation system.ipynb",
      "provenance": []
    }
  },
  "cells": [
    {
      "cell_type": "code",
      "metadata": {
        "id": "IFNedqPOm_fj"
      },
      "source": [
        "import pandas as pd\n",
        "import numpy as np\n",
        "import matplotlib.pyplot as plt"
      ],
      "execution_count": null,
      "outputs": []
    },
    {
      "cell_type": "code",
      "metadata": {
        "id": "s1AkwKxxm_fv"
      },
      "source": [
        "movies_df=pd.read_csv(r'C:\\Users\\HP PC\\Downloads\\ml-latest\\movies.csv')\n",
        "rating_df=pd.read_csv(r'C:\\Users\\HP PC\\Downloads\\ml-latest\\ratings.csv')\n"
      ],
      "execution_count": null,
      "outputs": []
    },
    {
      "cell_type": "code",
      "metadata": {
        "id": "qoFfPb8gm_fw",
        "outputId": "c6175c82-c13f-414d-b574-5d47cd04f2a7"
      },
      "source": [
        "movies_df.head()"
      ],
      "execution_count": null,
      "outputs": [
        {
          "output_type": "execute_result",
          "data": {
            "text/html": [
              "<div>\n",
              "<style scoped>\n",
              "    .dataframe tbody tr th:only-of-type {\n",
              "        vertical-align: middle;\n",
              "    }\n",
              "\n",
              "    .dataframe tbody tr th {\n",
              "        vertical-align: top;\n",
              "    }\n",
              "\n",
              "    .dataframe thead th {\n",
              "        text-align: right;\n",
              "    }\n",
              "</style>\n",
              "<table border=\"1\" class=\"dataframe\">\n",
              "  <thead>\n",
              "    <tr style=\"text-align: right;\">\n",
              "      <th></th>\n",
              "      <th>movieId</th>\n",
              "      <th>title</th>\n",
              "      <th>genres</th>\n",
              "    </tr>\n",
              "  </thead>\n",
              "  <tbody>\n",
              "    <tr>\n",
              "      <td>0</td>\n",
              "      <td>1</td>\n",
              "      <td>Toy Story (1995)</td>\n",
              "      <td>Adventure|Animation|Children|Comedy|Fantasy</td>\n",
              "    </tr>\n",
              "    <tr>\n",
              "      <td>1</td>\n",
              "      <td>2</td>\n",
              "      <td>Jumanji (1995)</td>\n",
              "      <td>Adventure|Children|Fantasy</td>\n",
              "    </tr>\n",
              "    <tr>\n",
              "      <td>2</td>\n",
              "      <td>3</td>\n",
              "      <td>Grumpier Old Men (1995)</td>\n",
              "      <td>Comedy|Romance</td>\n",
              "    </tr>\n",
              "    <tr>\n",
              "      <td>3</td>\n",
              "      <td>4</td>\n",
              "      <td>Waiting to Exhale (1995)</td>\n",
              "      <td>Comedy|Drama|Romance</td>\n",
              "    </tr>\n",
              "    <tr>\n",
              "      <td>4</td>\n",
              "      <td>5</td>\n",
              "      <td>Father of the Bride Part II (1995)</td>\n",
              "      <td>Comedy</td>\n",
              "    </tr>\n",
              "  </tbody>\n",
              "</table>\n",
              "</div>"
            ],
            "text/plain": [
              "   movieId                               title  \\\n",
              "0        1                    Toy Story (1995)   \n",
              "1        2                      Jumanji (1995)   \n",
              "2        3             Grumpier Old Men (1995)   \n",
              "3        4            Waiting to Exhale (1995)   \n",
              "4        5  Father of the Bride Part II (1995)   \n",
              "\n",
              "                                        genres  \n",
              "0  Adventure|Animation|Children|Comedy|Fantasy  \n",
              "1                   Adventure|Children|Fantasy  \n",
              "2                               Comedy|Romance  \n",
              "3                         Comedy|Drama|Romance  \n",
              "4                                       Comedy  "
            ]
          },
          "metadata": {
            "tags": []
          },
          "execution_count": 3
        }
      ]
    },
    {
      "cell_type": "code",
      "metadata": {
        "id": "55zM7uOom_f1",
        "outputId": "d31c0562-97c3-42e7-cbb9-3662572743ae"
      },
      "source": [
        "rating_df.head()"
      ],
      "execution_count": null,
      "outputs": [
        {
          "output_type": "execute_result",
          "data": {
            "text/html": [
              "<div>\n",
              "<style scoped>\n",
              "    .dataframe tbody tr th:only-of-type {\n",
              "        vertical-align: middle;\n",
              "    }\n",
              "\n",
              "    .dataframe tbody tr th {\n",
              "        vertical-align: top;\n",
              "    }\n",
              "\n",
              "    .dataframe thead th {\n",
              "        text-align: right;\n",
              "    }\n",
              "</style>\n",
              "<table border=\"1\" class=\"dataframe\">\n",
              "  <thead>\n",
              "    <tr style=\"text-align: right;\">\n",
              "      <th></th>\n",
              "      <th>userId</th>\n",
              "      <th>movieId</th>\n",
              "      <th>rating</th>\n",
              "      <th>timestamp</th>\n",
              "    </tr>\n",
              "  </thead>\n",
              "  <tbody>\n",
              "    <tr>\n",
              "      <td>0</td>\n",
              "      <td>1</td>\n",
              "      <td>169</td>\n",
              "      <td>2.5</td>\n",
              "      <td>1204927694</td>\n",
              "    </tr>\n",
              "    <tr>\n",
              "      <td>1</td>\n",
              "      <td>1</td>\n",
              "      <td>2471</td>\n",
              "      <td>3.0</td>\n",
              "      <td>1204927438</td>\n",
              "    </tr>\n",
              "    <tr>\n",
              "      <td>2</td>\n",
              "      <td>1</td>\n",
              "      <td>48516</td>\n",
              "      <td>5.0</td>\n",
              "      <td>1204927435</td>\n",
              "    </tr>\n",
              "    <tr>\n",
              "      <td>3</td>\n",
              "      <td>2</td>\n",
              "      <td>2571</td>\n",
              "      <td>3.5</td>\n",
              "      <td>1436165433</td>\n",
              "    </tr>\n",
              "    <tr>\n",
              "      <td>4</td>\n",
              "      <td>2</td>\n",
              "      <td>109487</td>\n",
              "      <td>4.0</td>\n",
              "      <td>1436165496</td>\n",
              "    </tr>\n",
              "  </tbody>\n",
              "</table>\n",
              "</div>"
            ],
            "text/plain": [
              "   userId  movieId  rating   timestamp\n",
              "0       1      169     2.5  1204927694\n",
              "1       1     2471     3.0  1204927438\n",
              "2       1    48516     5.0  1204927435\n",
              "3       2     2571     3.5  1436165433\n",
              "4       2   109487     4.0  1436165496"
            ]
          },
          "metadata": {
            "tags": []
          },
          "execution_count": 4
        }
      ]
    },
    {
      "cell_type": "code",
      "metadata": {
        "id": "tYBxnLusm_f2",
        "outputId": "ec6c5e3c-cd24-4105-831c-88b776b73282"
      },
      "source": [
        "movies_df.shape"
      ],
      "execution_count": null,
      "outputs": [
        {
          "output_type": "execute_result",
          "data": {
            "text/plain": [
              "(34208, 3)"
            ]
          },
          "metadata": {
            "tags": []
          },
          "execution_count": 5
        }
      ]
    },
    {
      "cell_type": "code",
      "metadata": {
        "id": "cIEBoEuYm_f2",
        "outputId": "6346954d-2dfd-453b-fcdd-110826edc268"
      },
      "source": [
        "rating_df.shape"
      ],
      "execution_count": null,
      "outputs": [
        {
          "output_type": "execute_result",
          "data": {
            "text/plain": [
              "(22884377, 4)"
            ]
          },
          "metadata": {
            "tags": []
          },
          "execution_count": 6
        }
      ]
    },
    {
      "cell_type": "code",
      "metadata": {
        "id": "a3C8w2Zfm_f3"
      },
      "source": [
        "#In rating_df, we don't need timestamp column for our analysis, so we'll remove it\n",
        "del rating_df['timestamp']"
      ],
      "execution_count": null,
      "outputs": []
    },
    {
      "cell_type": "markdown",
      "metadata": {
        "id": "jgAl3btIm_f4"
      },
      "source": [
        "In recommendation system, to recommend user; we need input of his past experiences.\n",
        "In our system, we'll ask user about the movies he had already watched and his rating for that movie"
      ]
    },
    {
      "cell_type": "code",
      "metadata": {
        "id": "fg0LGNcom_f4",
        "outputId": "3edeafdf-fe42-44b4-81a8-a6053569a21f"
      },
      "source": [
        "print('Enter latest 5 movies that you have watched along with rating:')\n",
        "print('Remember: First letter of each movie must be capital. If movie has \\'The\\' keyword write like \\'Toy Story, The\\'')\n",
        "movie=[]\n",
        "rating=[]\n",
        "for i in range(5):\n",
        "    print('movie:')\n",
        "    movie.append(str(input()))\n",
        "    print('rating:')\n",
        "    rating.append(input())\n",
        "\n",
        "user_input={'title':movie,'rating':rating}"
      ],
      "execution_count": null,
      "outputs": [
        {
          "output_type": "stream",
          "text": [
            "Enter latest 5 movies that you have watched along with rating:\n",
            "Remember: First letter of each movie must be capital. If movie has 'The' keyword write like 'Toy Story, The'\n",
            "movie:\n",
            "Junior\n",
            "rating:\n",
            "3\n",
            "movie:\n",
            "Kiss of Death\n",
            "rating:\n",
            "4\n",
            "movie:\n",
            "Little Women\n",
            "rating:\n",
            "2.5\n",
            "movie:\n",
            "Fluke\n",
            "rating:\n",
            "4.5\n",
            "movie:\n",
            "My Family\n",
            "rating:\n",
            "5\n"
          ],
          "name": "stdout"
        }
      ]
    },
    {
      "cell_type": "code",
      "metadata": {
        "id": "kEY8h1bgm_f5",
        "outputId": "1170ba82-50cb-45c3-980f-977f0429350b"
      },
      "source": [
        "user_input_df=pd.DataFrame(user_input)\n",
        "user_input_df"
      ],
      "execution_count": null,
      "outputs": [
        {
          "output_type": "execute_result",
          "data": {
            "text/html": [
              "<div>\n",
              "<style scoped>\n",
              "    .dataframe tbody tr th:only-of-type {\n",
              "        vertical-align: middle;\n",
              "    }\n",
              "\n",
              "    .dataframe tbody tr th {\n",
              "        vertical-align: top;\n",
              "    }\n",
              "\n",
              "    .dataframe thead th {\n",
              "        text-align: right;\n",
              "    }\n",
              "</style>\n",
              "<table border=\"1\" class=\"dataframe\">\n",
              "  <thead>\n",
              "    <tr style=\"text-align: right;\">\n",
              "      <th></th>\n",
              "      <th>title</th>\n",
              "      <th>rating</th>\n",
              "    </tr>\n",
              "  </thead>\n",
              "  <tbody>\n",
              "    <tr>\n",
              "      <td>0</td>\n",
              "      <td>Junior</td>\n",
              "      <td>3</td>\n",
              "    </tr>\n",
              "    <tr>\n",
              "      <td>1</td>\n",
              "      <td>Kiss of Death</td>\n",
              "      <td>4</td>\n",
              "    </tr>\n",
              "    <tr>\n",
              "      <td>2</td>\n",
              "      <td>Little Women</td>\n",
              "      <td>2.5</td>\n",
              "    </tr>\n",
              "    <tr>\n",
              "      <td>3</td>\n",
              "      <td>Fluke</td>\n",
              "      <td>4.5</td>\n",
              "    </tr>\n",
              "    <tr>\n",
              "      <td>4</td>\n",
              "      <td>My Family</td>\n",
              "      <td>5</td>\n",
              "    </tr>\n",
              "  </tbody>\n",
              "</table>\n",
              "</div>"
            ],
            "text/plain": [
              "           title rating\n",
              "0         Junior      3\n",
              "1  Kiss of Death      4\n",
              "2   Little Women    2.5\n",
              "3          Fluke    4.5\n",
              "4      My Family      5"
            ]
          },
          "metadata": {
            "tags": []
          },
          "execution_count": 10
        }
      ]
    },
    {
      "cell_type": "code",
      "metadata": {
        "id": "nWjWThXZm_f5"
      },
      "source": [
        "#In movies_df column year is associated with title, it's better to seperate them\n",
        "movies_df['year']=movies_df['title'].str.extract('(\\(\\d\\d\\d\\d\\))',expand=False)\n",
        "movies_df['year']=movies_df['year'].str.extract('(\\d\\d\\d\\d)',expand=False)\n",
        "movies_df['title']=movies_df['title'].str.replace('(\\(\\d\\d\\d\\d\\))',' ')\n",
        "movies_df['title']=movies_df['title'].apply(lambda x: x.strip())"
      ],
      "execution_count": null,
      "outputs": []
    },
    {
      "cell_type": "code",
      "metadata": {
        "id": "2AM7Xn21m_f6",
        "outputId": "86b6115b-a0de-4fa9-cf3e-d4915cf2777e"
      },
      "source": [
        "rating_df.dtypes"
      ],
      "execution_count": null,
      "outputs": [
        {
          "output_type": "execute_result",
          "data": {
            "text/plain": [
              "userId       int64\n",
              "movieId      int64\n",
              "rating     float64\n",
              "dtype: object"
            ]
          },
          "metadata": {
            "tags": []
          },
          "execution_count": 12
        }
      ]
    },
    {
      "cell_type": "code",
      "metadata": {
        "id": "jcP1KO4nm_f7",
        "outputId": "243909ee-759e-47e2-c14d-33ec64b75729"
      },
      "source": [
        "user_input_df.dtypes"
      ],
      "execution_count": null,
      "outputs": [
        {
          "output_type": "execute_result",
          "data": {
            "text/plain": [
              "title     object\n",
              "rating    object\n",
              "dtype: object"
            ]
          },
          "metadata": {
            "tags": []
          },
          "execution_count": 13
        }
      ]
    },
    {
      "cell_type": "code",
      "metadata": {
        "id": "NoJDV2mim_f7"
      },
      "source": [
        "user_input_df['rating']=user_input_df['rating'].astype(float)"
      ],
      "execution_count": null,
      "outputs": []
    },
    {
      "cell_type": "markdown",
      "metadata": {
        "id": "faooJPP4m_f8"
      },
      "source": [
        "### Collaborative Filtering"
      ]
    },
    {
      "cell_type": "markdown",
      "metadata": {
        "id": "LnRitYAjm_f8"
      },
      "source": [
        "In this type of recommendation system, movie is recommended to the user based on other similar users.\n",
        "That's why it is also called user-user recommendation system"
      ]
    },
    {
      "cell_type": "markdown",
      "metadata": {
        "id": "1KlH_LPrm_f8"
      },
      "source": [
        "The process for creating a User Based recommendation system is as follows:\n",
        "- Select a user with the movies the user has watched\n",
        "- Based on his rating to movies, find the top X neighbours \n",
        "- Get the watched movie record of the user for each neighbour.\n",
        "- Calculate a similarity score using some formula\n",
        "- Recommend the items with the highest score\n"
      ]
    },
    {
      "cell_type": "code",
      "metadata": {
        "id": "-Zzjm5-8m_f9",
        "outputId": "08baffb6-cb9a-489e-de0b-087dc3c6ed57"
      },
      "source": [
        "input_movies=movies_df.loc[movies_df['title'].isin(user_input_df['title'].tolist()),['title','movieId']]\n",
        "input_movies.sort_values(by='movieId',axis=0, inplace=True)\n",
        "input_movies=input_movies[0:5]\n",
        "input_movies=pd.merge(input_movies,user_input_df)\n",
        "input_movies"
      ],
      "execution_count": null,
      "outputs": [
        {
          "output_type": "execute_result",
          "data": {
            "text/html": [
              "<div>\n",
              "<style scoped>\n",
              "    .dataframe tbody tr th:only-of-type {\n",
              "        vertical-align: middle;\n",
              "    }\n",
              "\n",
              "    .dataframe tbody tr th {\n",
              "        vertical-align: top;\n",
              "    }\n",
              "\n",
              "    .dataframe thead th {\n",
              "        text-align: right;\n",
              "    }\n",
              "</style>\n",
              "<table border=\"1\" class=\"dataframe\">\n",
              "  <thead>\n",
              "    <tr style=\"text-align: right;\">\n",
              "      <th></th>\n",
              "      <th>title</th>\n",
              "      <th>movieId</th>\n",
              "      <th>rating</th>\n",
              "    </tr>\n",
              "  </thead>\n",
              "  <tbody>\n",
              "    <tr>\n",
              "      <td>0</td>\n",
              "      <td>Fluke</td>\n",
              "      <td>241</td>\n",
              "      <td>4.5</td>\n",
              "    </tr>\n",
              "    <tr>\n",
              "      <td>1</td>\n",
              "      <td>Junior</td>\n",
              "      <td>256</td>\n",
              "      <td>3.0</td>\n",
              "    </tr>\n",
              "    <tr>\n",
              "      <td>2</td>\n",
              "      <td>Kiss of Death</td>\n",
              "      <td>259</td>\n",
              "      <td>4.0</td>\n",
              "    </tr>\n",
              "    <tr>\n",
              "      <td>3</td>\n",
              "      <td>Little Women</td>\n",
              "      <td>261</td>\n",
              "      <td>2.5</td>\n",
              "    </tr>\n",
              "    <tr>\n",
              "      <td>4</td>\n",
              "      <td>My Family</td>\n",
              "      <td>279</td>\n",
              "      <td>5.0</td>\n",
              "    </tr>\n",
              "  </tbody>\n",
              "</table>\n",
              "</div>"
            ],
            "text/plain": [
              "           title  movieId  rating\n",
              "0          Fluke      241     4.5\n",
              "1         Junior      256     3.0\n",
              "2  Kiss of Death      259     4.0\n",
              "3   Little Women      261     2.5\n",
              "4      My Family      279     5.0"
            ]
          },
          "metadata": {
            "tags": []
          },
          "execution_count": 15
        }
      ]
    },
    {
      "cell_type": "code",
      "metadata": {
        "id": "MJJ5yJzbm_f9",
        "outputId": "625e0eb4-6dd3-4046-ed04-45d5087e505c"
      },
      "source": [
        "user_subset=rating_df[rating_df['movieId'].isin(input_movies['movieId'].tolist())]\n",
        "user_subset.head()"
      ],
      "execution_count": null,
      "outputs": [
        {
          "output_type": "execute_result",
          "data": {
            "text/html": [
              "<div>\n",
              "<style scoped>\n",
              "    .dataframe tbody tr th:only-of-type {\n",
              "        vertical-align: middle;\n",
              "    }\n",
              "\n",
              "    .dataframe tbody tr th {\n",
              "        vertical-align: top;\n",
              "    }\n",
              "\n",
              "    .dataframe thead th {\n",
              "        text-align: right;\n",
              "    }\n",
              "</style>\n",
              "<table border=\"1\" class=\"dataframe\">\n",
              "  <thead>\n",
              "    <tr style=\"text-align: right;\">\n",
              "      <th></th>\n",
              "      <th>userId</th>\n",
              "      <th>movieId</th>\n",
              "      <th>rating</th>\n",
              "    </tr>\n",
              "  </thead>\n",
              "  <tbody>\n",
              "    <tr>\n",
              "      <td>1315</td>\n",
              "      <td>17</td>\n",
              "      <td>241</td>\n",
              "      <td>1.0</td>\n",
              "    </tr>\n",
              "    <tr>\n",
              "      <td>1322</td>\n",
              "      <td>17</td>\n",
              "      <td>261</td>\n",
              "      <td>3.0</td>\n",
              "    </tr>\n",
              "    <tr>\n",
              "      <td>4735</td>\n",
              "      <td>40</td>\n",
              "      <td>261</td>\n",
              "      <td>5.0</td>\n",
              "    </tr>\n",
              "    <tr>\n",
              "      <td>7900</td>\n",
              "      <td>77</td>\n",
              "      <td>261</td>\n",
              "      <td>4.0</td>\n",
              "    </tr>\n",
              "    <tr>\n",
              "      <td>8397</td>\n",
              "      <td>92</td>\n",
              "      <td>261</td>\n",
              "      <td>4.0</td>\n",
              "    </tr>\n",
              "  </tbody>\n",
              "</table>\n",
              "</div>"
            ],
            "text/plain": [
              "      userId  movieId  rating\n",
              "1315      17      241     1.0\n",
              "1322      17      261     3.0\n",
              "4735      40      261     5.0\n",
              "7900      77      261     4.0\n",
              "8397      92      261     4.0"
            ]
          },
          "metadata": {
            "tags": []
          },
          "execution_count": 16
        }
      ]
    },
    {
      "cell_type": "code",
      "metadata": {
        "id": "g3l0qKtUm_f-"
      },
      "source": [
        "user_subset_group=user_subset.groupby(['userId'])"
      ],
      "execution_count": null,
      "outputs": []
    },
    {
      "cell_type": "code",
      "metadata": {
        "id": "Hl0ZkB1Lm_f-"
      },
      "source": [
        "user_subset_group=sorted(user_subset_group,key=lambda x:len(x[1]), reverse=True)"
      ],
      "execution_count": null,
      "outputs": []
    },
    {
      "cell_type": "code",
      "metadata": {
        "id": "pE9Td3Rym_f-",
        "outputId": "30e2ddd4-59f4-4e73-b896-98d7df190c35"
      },
      "source": [
        "user_subset_group[0:3]"
      ],
      "execution_count": null,
      "outputs": [
        {
          "output_type": "execute_result",
          "data": {
            "text/plain": [
              "[(3937,         userId  movieId  rating\n",
              "  360522    3937      241     4.0\n",
              "  360527    3937      256     4.0\n",
              "  360529    3937      259     3.0\n",
              "  360531    3937      261     2.0\n",
              "  360537    3937      279     4.0), (6407,         userId  movieId  rating\n",
              "  598292    6407      241     3.0\n",
              "  598301    6407      256     3.0\n",
              "  598303    6407      259     3.0\n",
              "  598305    6407      261     3.0\n",
              "  598316    6407      279     3.0), (6530,         userId  movieId  rating\n",
              "  611581    6530      241     2.5\n",
              "  611592    6530      256     3.0\n",
              "  611595    6530      259     3.0\n",
              "  611597    6530      261     3.0\n",
              "  611607    6530      279     3.5)]"
            ]
          },
          "metadata": {
            "tags": []
          },
          "execution_count": 19
        }
      ]
    },
    {
      "cell_type": "code",
      "metadata": {
        "id": "CJ_97vAmm_f_"
      },
      "source": [
        "#Just for the sake of time saving we'll find similarity score of the first 100 users"
      ],
      "execution_count": null,
      "outputs": []
    },
    {
      "cell_type": "code",
      "metadata": {
        "id": "ocMZCzprm_f_"
      },
      "source": [
        "user_subset_group=user_subset_group[0:100]"
      ],
      "execution_count": null,
      "outputs": []
    },
    {
      "cell_type": "code",
      "metadata": {
        "id": "URYyhnCXm_gA"
      },
      "source": [
        "#For each user in above user_subset_group, we'll found similarity score for each group\n",
        "#The similarity score will be stored in a dictionary where key corresponds to a userId"
      ],
      "execution_count": null,
      "outputs": []
    },
    {
      "cell_type": "markdown",
      "metadata": {
        "id": "rDLYZRIZm_gA"
      },
      "source": [
        "We'll calculate similarity score by pearson correlation function.\n",
        "![2b9c2079a3ffc1aacd36201ea0a3fb2460dc226f.svg](attachment:2b9c2079a3ffc1aacd36201ea0a3fb2460dc226f.svg)\n"
      ]
    },
    {
      "cell_type": "markdown",
      "metadata": {
        "id": "v0qVzmNdm_gA"
      },
      "source": [
        "n=sample size \n",
        "xi, yi are individual sample points indexed with i\n",
        "x_bar,y_bar are the mean of x and y in sample"
      ]
    },
    {
      "cell_type": "code",
      "metadata": {
        "id": "Rc51PUr2m_gB"
      },
      "source": [
        "from math import pow,sqrt\n",
        "pearson_corr_dict={}\n",
        "for name,group in user_subset_group:\n",
        "    n=len(group)\n",
        "    X=group.sort_values(by='movieId',ascending=True)['rating'].values\n",
        "    Y=input_movies[input_movies['movieId'].isin(group['movieId'].tolist())]\n",
        "    Y=Y.sort_values(by='movieId',ascending=True)['rating'].values\n",
        "    cov=n*sum(x*y for x,y in zip(X,Y))-sum(x for x in X)*sum(y for y in Y)\n",
        "    varX=n*sum(x**2 for x in X)-pow(sum(x for x in X),2)\n",
        "    varY=n*sum(y**2 for y in Y)-pow(sum(y for y in Y),2)\n",
        "    if varX==0 or varY==0:\n",
        "        pearson_corr_dict[name]=0\n",
        "    else:\n",
        "        pearson_corr_dict[name]=cov/sqrt(varX*varY)"
      ],
      "execution_count": null,
      "outputs": []
    },
    {
      "cell_type": "code",
      "metadata": {
        "id": "pQ8FsU5Hm_gB",
        "outputId": "1fb1e038-f5e6-4bb1-fced-20036f9b581d"
      },
      "source": [
        "pearson_df=pd.DataFrame.from_dict(pearson_corr_dict,orient='index')\n",
        "pearson_df.columns=['Similarity_Score']\n",
        "pearson_df['userId']=pearson_df.index\n",
        "pearson_df.reset_index(drop=True,inplace=True)\n",
        "pearson_df.head()"
      ],
      "execution_count": null,
      "outputs": [
        {
          "output_type": "execute_result",
          "data": {
            "text/html": [
              "<div>\n",
              "<style scoped>\n",
              "    .dataframe tbody tr th:only-of-type {\n",
              "        vertical-align: middle;\n",
              "    }\n",
              "\n",
              "    .dataframe tbody tr th {\n",
              "        vertical-align: top;\n",
              "    }\n",
              "\n",
              "    .dataframe thead th {\n",
              "        text-align: right;\n",
              "    }\n",
              "</style>\n",
              "<table border=\"1\" class=\"dataframe\">\n",
              "  <thead>\n",
              "    <tr style=\"text-align: right;\">\n",
              "      <th></th>\n",
              "      <th>Similarity_Score</th>\n",
              "      <th>userId</th>\n",
              "    </tr>\n",
              "  </thead>\n",
              "  <tbody>\n",
              "    <tr>\n",
              "      <td>0</td>\n",
              "      <td>0.646997</td>\n",
              "      <td>3937</td>\n",
              "    </tr>\n",
              "    <tr>\n",
              "      <td>1</td>\n",
              "      <td>0.000000</td>\n",
              "      <td>6407</td>\n",
              "    </tr>\n",
              "    <tr>\n",
              "      <td>2</td>\n",
              "      <td>0.170499</td>\n",
              "      <td>6530</td>\n",
              "    </tr>\n",
              "    <tr>\n",
              "      <td>3</td>\n",
              "      <td>-0.940064</td>\n",
              "      <td>27164</td>\n",
              "    </tr>\n",
              "    <tr>\n",
              "      <td>4</td>\n",
              "      <td>-0.646997</td>\n",
              "      <td>33400</td>\n",
              "    </tr>\n",
              "  </tbody>\n",
              "</table>\n",
              "</div>"
            ],
            "text/plain": [
              "   Similarity_Score  userId\n",
              "0          0.646997    3937\n",
              "1          0.000000    6407\n",
              "2          0.170499    6530\n",
              "3         -0.940064   27164\n",
              "4         -0.646997   33400"
            ]
          },
          "metadata": {
            "tags": []
          },
          "execution_count": 24
        }
      ]
    },
    {
      "cell_type": "code",
      "metadata": {
        "id": "VxgqMqRYm_gC",
        "outputId": "87b4ac72-b0a8-435a-a1fa-1f2a2e7c0e2f"
      },
      "source": [
        "pearson_df.sort_values(by='Similarity_Score',ascending=False,inplace=True)\n",
        "pearson_df.head()"
      ],
      "execution_count": null,
      "outputs": [
        {
          "output_type": "execute_result",
          "data": {
            "text/html": [
              "<div>\n",
              "<style scoped>\n",
              "    .dataframe tbody tr th:only-of-type {\n",
              "        vertical-align: middle;\n",
              "    }\n",
              "\n",
              "    .dataframe tbody tr th {\n",
              "        vertical-align: top;\n",
              "    }\n",
              "\n",
              "    .dataframe thead th {\n",
              "        text-align: right;\n",
              "    }\n",
              "</style>\n",
              "<table border=\"1\" class=\"dataframe\">\n",
              "  <thead>\n",
              "    <tr style=\"text-align: right;\">\n",
              "      <th></th>\n",
              "      <th>Similarity_Score</th>\n",
              "      <th>userId</th>\n",
              "    </tr>\n",
              "  </thead>\n",
              "  <tbody>\n",
              "    <tr>\n",
              "      <td>84</td>\n",
              "      <td>0.981336</td>\n",
              "      <td>113871</td>\n",
              "    </tr>\n",
              "    <tr>\n",
              "      <td>48</td>\n",
              "      <td>0.948683</td>\n",
              "      <td>31144</td>\n",
              "    </tr>\n",
              "    <tr>\n",
              "      <td>46</td>\n",
              "      <td>0.948683</td>\n",
              "      <td>28205</td>\n",
              "    </tr>\n",
              "    <tr>\n",
              "      <td>44</td>\n",
              "      <td>0.911322</td>\n",
              "      <td>23696</td>\n",
              "    </tr>\n",
              "    <tr>\n",
              "      <td>71</td>\n",
              "      <td>0.845154</td>\n",
              "      <td>81732</td>\n",
              "    </tr>\n",
              "  </tbody>\n",
              "</table>\n",
              "</div>"
            ],
            "text/plain": [
              "    Similarity_Score  userId\n",
              "84          0.981336  113871\n",
              "48          0.948683   31144\n",
              "46          0.948683   28205\n",
              "44          0.911322   23696\n",
              "71          0.845154   81732"
            ]
          },
          "metadata": {
            "tags": []
          },
          "execution_count": 25
        }
      ]
    },
    {
      "cell_type": "code",
      "metadata": {
        "id": "CcMyOWkAm_gC"
      },
      "source": [
        "pearson_df.index=range(len(pearson_df))"
      ],
      "execution_count": null,
      "outputs": []
    },
    {
      "cell_type": "code",
      "metadata": {
        "id": "hzYIVWS1m_gC",
        "outputId": "f606fb04-be3f-48dd-a642-cc3f542fb882"
      },
      "source": [
        "pearson_df.head()"
      ],
      "execution_count": null,
      "outputs": [
        {
          "output_type": "execute_result",
          "data": {
            "text/html": [
              "<div>\n",
              "<style scoped>\n",
              "    .dataframe tbody tr th:only-of-type {\n",
              "        vertical-align: middle;\n",
              "    }\n",
              "\n",
              "    .dataframe tbody tr th {\n",
              "        vertical-align: top;\n",
              "    }\n",
              "\n",
              "    .dataframe thead th {\n",
              "        text-align: right;\n",
              "    }\n",
              "</style>\n",
              "<table border=\"1\" class=\"dataframe\">\n",
              "  <thead>\n",
              "    <tr style=\"text-align: right;\">\n",
              "      <th></th>\n",
              "      <th>Similarity_Score</th>\n",
              "      <th>userId</th>\n",
              "    </tr>\n",
              "  </thead>\n",
              "  <tbody>\n",
              "    <tr>\n",
              "      <td>0</td>\n",
              "      <td>0.981336</td>\n",
              "      <td>113871</td>\n",
              "    </tr>\n",
              "    <tr>\n",
              "      <td>1</td>\n",
              "      <td>0.948683</td>\n",
              "      <td>31144</td>\n",
              "    </tr>\n",
              "    <tr>\n",
              "      <td>2</td>\n",
              "      <td>0.948683</td>\n",
              "      <td>28205</td>\n",
              "    </tr>\n",
              "    <tr>\n",
              "      <td>3</td>\n",
              "      <td>0.911322</td>\n",
              "      <td>23696</td>\n",
              "    </tr>\n",
              "    <tr>\n",
              "      <td>4</td>\n",
              "      <td>0.845154</td>\n",
              "      <td>81732</td>\n",
              "    </tr>\n",
              "  </tbody>\n",
              "</table>\n",
              "</div>"
            ],
            "text/plain": [
              "   Similarity_Score  userId\n",
              "0          0.981336  113871\n",
              "1          0.948683   31144\n",
              "2          0.948683   28205\n",
              "3          0.911322   23696\n",
              "4          0.845154   81732"
            ]
          },
          "metadata": {
            "tags": []
          },
          "execution_count": 27
        }
      ]
    },
    {
      "cell_type": "code",
      "metadata": {
        "id": "zqn3bA0Qm_gD",
        "outputId": "229a1c69-0656-4987-a844-ec8655e68b41"
      },
      "source": [
        "pearson_df.shape"
      ],
      "execution_count": null,
      "outputs": [
        {
          "output_type": "execute_result",
          "data": {
            "text/plain": [
              "(100, 2)"
            ]
          },
          "metadata": {
            "tags": []
          },
          "execution_count": 28
        }
      ]
    },
    {
      "cell_type": "code",
      "metadata": {
        "id": "nqnk8obBm_gD"
      },
      "source": [
        "#Now we need ratings given by selected users to the movies they had watched"
      ],
      "execution_count": null,
      "outputs": []
    },
    {
      "cell_type": "code",
      "metadata": {
        "id": "tMPsZ8mOm_gE"
      },
      "source": [
        "top_user_ratings=pearson_df.merge(rating_df,how='inner')"
      ],
      "execution_count": null,
      "outputs": []
    },
    {
      "cell_type": "code",
      "metadata": {
        "id": "rGyIz2Nzm_gE",
        "outputId": "c9b8f742-5e1c-4b33-8710-d6adc220e17d"
      },
      "source": [
        "top_user_ratings"
      ],
      "execution_count": null,
      "outputs": [
        {
          "output_type": "execute_result",
          "data": {
            "text/html": [
              "<div>\n",
              "<style scoped>\n",
              "    .dataframe tbody tr th:only-of-type {\n",
              "        vertical-align: middle;\n",
              "    }\n",
              "\n",
              "    .dataframe tbody tr th {\n",
              "        vertical-align: top;\n",
              "    }\n",
              "\n",
              "    .dataframe thead th {\n",
              "        text-align: right;\n",
              "    }\n",
              "</style>\n",
              "<table border=\"1\" class=\"dataframe\">\n",
              "  <thead>\n",
              "    <tr style=\"text-align: right;\">\n",
              "      <th></th>\n",
              "      <th>Similarity_Score</th>\n",
              "      <th>userId</th>\n",
              "      <th>movieId</th>\n",
              "      <th>rating</th>\n",
              "    </tr>\n",
              "  </thead>\n",
              "  <tbody>\n",
              "    <tr>\n",
              "      <td>0</td>\n",
              "      <td>0.981336</td>\n",
              "      <td>113871</td>\n",
              "      <td>2</td>\n",
              "      <td>4.0</td>\n",
              "    </tr>\n",
              "    <tr>\n",
              "      <td>1</td>\n",
              "      <td>0.981336</td>\n",
              "      <td>113871</td>\n",
              "      <td>6</td>\n",
              "      <td>4.0</td>\n",
              "    </tr>\n",
              "    <tr>\n",
              "      <td>2</td>\n",
              "      <td>0.981336</td>\n",
              "      <td>113871</td>\n",
              "      <td>8</td>\n",
              "      <td>3.0</td>\n",
              "    </tr>\n",
              "    <tr>\n",
              "      <td>3</td>\n",
              "      <td>0.981336</td>\n",
              "      <td>113871</td>\n",
              "      <td>10</td>\n",
              "      <td>3.0</td>\n",
              "    </tr>\n",
              "    <tr>\n",
              "      <td>4</td>\n",
              "      <td>0.981336</td>\n",
              "      <td>113871</td>\n",
              "      <td>11</td>\n",
              "      <td>5.0</td>\n",
              "    </tr>\n",
              "    <tr>\n",
              "      <td>...</td>\n",
              "      <td>...</td>\n",
              "      <td>...</td>\n",
              "      <td>...</td>\n",
              "      <td>...</td>\n",
              "    </tr>\n",
              "    <tr>\n",
              "      <td>82216</td>\n",
              "      <td>-0.948683</td>\n",
              "      <td>95296</td>\n",
              "      <td>4277</td>\n",
              "      <td>4.0</td>\n",
              "    </tr>\n",
              "    <tr>\n",
              "      <td>82217</td>\n",
              "      <td>-0.948683</td>\n",
              "      <td>95296</td>\n",
              "      <td>4310</td>\n",
              "      <td>4.0</td>\n",
              "    </tr>\n",
              "    <tr>\n",
              "      <td>82218</td>\n",
              "      <td>-0.948683</td>\n",
              "      <td>95296</td>\n",
              "      <td>4369</td>\n",
              "      <td>4.0</td>\n",
              "    </tr>\n",
              "    <tr>\n",
              "      <td>82219</td>\n",
              "      <td>-0.948683</td>\n",
              "      <td>95296</td>\n",
              "      <td>4370</td>\n",
              "      <td>5.0</td>\n",
              "    </tr>\n",
              "    <tr>\n",
              "      <td>82220</td>\n",
              "      <td>-0.948683</td>\n",
              "      <td>95296</td>\n",
              "      <td>5060</td>\n",
              "      <td>5.0</td>\n",
              "    </tr>\n",
              "  </tbody>\n",
              "</table>\n",
              "<p>82221 rows × 4 columns</p>\n",
              "</div>"
            ],
            "text/plain": [
              "       Similarity_Score  userId  movieId  rating\n",
              "0              0.981336  113871        2     4.0\n",
              "1              0.981336  113871        6     4.0\n",
              "2              0.981336  113871        8     3.0\n",
              "3              0.981336  113871       10     3.0\n",
              "4              0.981336  113871       11     5.0\n",
              "...                 ...     ...      ...     ...\n",
              "82216         -0.948683   95296     4277     4.0\n",
              "82217         -0.948683   95296     4310     4.0\n",
              "82218         -0.948683   95296     4369     4.0\n",
              "82219         -0.948683   95296     4370     5.0\n",
              "82220         -0.948683   95296     5060     5.0\n",
              "\n",
              "[82221 rows x 4 columns]"
            ]
          },
          "metadata": {
            "tags": []
          },
          "execution_count": 31
        }
      ]
    },
    {
      "cell_type": "code",
      "metadata": {
        "id": "Ed6Xz2RLm_gE"
      },
      "source": [
        "top_user_ratings['weighted rating']=top_user_ratings['Similarity_Score']*top_user_ratings['rating']"
      ],
      "execution_count": null,
      "outputs": []
    },
    {
      "cell_type": "code",
      "metadata": {
        "id": "RFRoZgxYm_gF"
      },
      "source": [
        "top_movies=top_user_ratings[['movieId','weighted rating']].groupby(by='movieId').sum()"
      ],
      "execution_count": null,
      "outputs": []
    },
    {
      "cell_type": "code",
      "metadata": {
        "id": "-LQ1rk-Em_gF"
      },
      "source": [
        "top_movies=top_movies.sort_values(by='weighted rating',ascending=False)"
      ],
      "execution_count": null,
      "outputs": []
    },
    {
      "cell_type": "code",
      "metadata": {
        "id": "2e291Zktm_gF"
      },
      "source": [
        "#Let we have to prescribe top 20 movies to the user\n",
        "top_movies=top_movies[0:20]\n",
        "top_movies.reset_index(inplace=True)"
      ],
      "execution_count": null,
      "outputs": []
    },
    {
      "cell_type": "code",
      "metadata": {
        "id": "uGgUNSTSm_gG"
      },
      "source": [
        "top_movies=top_movies.merge(movies_df[['movieId','title']])"
      ],
      "execution_count": null,
      "outputs": []
    },
    {
      "cell_type": "code",
      "metadata": {
        "id": "qhLWLsL-m_gG"
      },
      "source": [
        "del top_movies['weighted rating']"
      ],
      "execution_count": null,
      "outputs": []
    },
    {
      "cell_type": "code",
      "metadata": {
        "id": "klBPlxq-m_gG",
        "outputId": "79e00047-287e-4881-d8ce-ceef28f505ff"
      },
      "source": [
        "top_movies"
      ],
      "execution_count": null,
      "outputs": [
        {
          "output_type": "execute_result",
          "data": {
            "text/html": [
              "<div>\n",
              "<style scoped>\n",
              "    .dataframe tbody tr th:only-of-type {\n",
              "        vertical-align: middle;\n",
              "    }\n",
              "\n",
              "    .dataframe tbody tr th {\n",
              "        vertical-align: top;\n",
              "    }\n",
              "\n",
              "    .dataframe thead th {\n",
              "        text-align: right;\n",
              "    }\n",
              "</style>\n",
              "<table border=\"1\" class=\"dataframe\">\n",
              "  <thead>\n",
              "    <tr style=\"text-align: right;\">\n",
              "      <th></th>\n",
              "      <th>movieId</th>\n",
              "      <th>title</th>\n",
              "    </tr>\n",
              "  </thead>\n",
              "  <tbody>\n",
              "    <tr>\n",
              "      <td>0</td>\n",
              "      <td>279</td>\n",
              "      <td>My Family</td>\n",
              "    </tr>\n",
              "    <tr>\n",
              "      <td>1</td>\n",
              "      <td>477</td>\n",
              "      <td>What's Love Got to Do with It?</td>\n",
              "    </tr>\n",
              "    <tr>\n",
              "      <td>2</td>\n",
              "      <td>257</td>\n",
              "      <td>Just Cause</td>\n",
              "    </tr>\n",
              "    <tr>\n",
              "      <td>3</td>\n",
              "      <td>317</td>\n",
              "      <td>Santa Clause, The</td>\n",
              "    </tr>\n",
              "    <tr>\n",
              "      <td>4</td>\n",
              "      <td>354</td>\n",
              "      <td>Cobb</td>\n",
              "    </tr>\n",
              "    <tr>\n",
              "      <td>5</td>\n",
              "      <td>32</td>\n",
              "      <td>Twelve Monkeys (a.k.a. 12 Monkeys)</td>\n",
              "    </tr>\n",
              "    <tr>\n",
              "      <td>6</td>\n",
              "      <td>222</td>\n",
              "      <td>Circle of Friends</td>\n",
              "    </tr>\n",
              "    <tr>\n",
              "      <td>7</td>\n",
              "      <td>380</td>\n",
              "      <td>True Lies</td>\n",
              "    </tr>\n",
              "    <tr>\n",
              "      <td>8</td>\n",
              "      <td>344</td>\n",
              "      <td>Ace Ventura: Pet Detective</td>\n",
              "    </tr>\n",
              "    <tr>\n",
              "      <td>9</td>\n",
              "      <td>338</td>\n",
              "      <td>Virtuosity</td>\n",
              "    </tr>\n",
              "    <tr>\n",
              "      <td>10</td>\n",
              "      <td>60</td>\n",
              "      <td>Indian in the Cupboard, The</td>\n",
              "    </tr>\n",
              "    <tr>\n",
              "      <td>11</td>\n",
              "      <td>259</td>\n",
              "      <td>Kiss of Death</td>\n",
              "    </tr>\n",
              "    <tr>\n",
              "      <td>12</td>\n",
              "      <td>468</td>\n",
              "      <td>Englishman Who Went Up a Hill But Came Down a ...</td>\n",
              "    </tr>\n",
              "    <tr>\n",
              "      <td>13</td>\n",
              "      <td>475</td>\n",
              "      <td>In the Name of the Father</td>\n",
              "    </tr>\n",
              "    <tr>\n",
              "      <td>14</td>\n",
              "      <td>485</td>\n",
              "      <td>Last Action Hero</td>\n",
              "    </tr>\n",
              "    <tr>\n",
              "      <td>15</td>\n",
              "      <td>246</td>\n",
              "      <td>Hoop Dreams</td>\n",
              "    </tr>\n",
              "    <tr>\n",
              "      <td>16</td>\n",
              "      <td>448</td>\n",
              "      <td>Fearless</td>\n",
              "    </tr>\n",
              "    <tr>\n",
              "      <td>17</td>\n",
              "      <td>251</td>\n",
              "      <td>Hunted, The</td>\n",
              "    </tr>\n",
              "    <tr>\n",
              "      <td>18</td>\n",
              "      <td>272</td>\n",
              "      <td>Madness of King George, The</td>\n",
              "    </tr>\n",
              "    <tr>\n",
              "      <td>19</td>\n",
              "      <td>265</td>\n",
              "      <td>Like Water for Chocolate (Como agua para choco...</td>\n",
              "    </tr>\n",
              "  </tbody>\n",
              "</table>\n",
              "</div>"
            ],
            "text/plain": [
              "    movieId                                              title\n",
              "0       279                                          My Family\n",
              "1       477                     What's Love Got to Do with It?\n",
              "2       257                                         Just Cause\n",
              "3       317                                  Santa Clause, The\n",
              "4       354                                               Cobb\n",
              "5        32                 Twelve Monkeys (a.k.a. 12 Monkeys)\n",
              "6       222                                  Circle of Friends\n",
              "7       380                                          True Lies\n",
              "8       344                         Ace Ventura: Pet Detective\n",
              "9       338                                         Virtuosity\n",
              "10       60                        Indian in the Cupboard, The\n",
              "11      259                                      Kiss of Death\n",
              "12      468  Englishman Who Went Up a Hill But Came Down a ...\n",
              "13      475                          In the Name of the Father\n",
              "14      485                                   Last Action Hero\n",
              "15      246                                        Hoop Dreams\n",
              "16      448                                           Fearless\n",
              "17      251                                        Hunted, The\n",
              "18      272                        Madness of King George, The\n",
              "19      265  Like Water for Chocolate (Como agua para choco..."
            ]
          },
          "metadata": {
            "tags": []
          },
          "execution_count": 54
        }
      ]
    },
    {
      "cell_type": "markdown",
      "metadata": {
        "id": "mo7k-vqPm_gH"
      },
      "source": [
        "### Content Based Filtering"
      ]
    },
    {
      "cell_type": "markdown",
      "metadata": {
        "id": "TsEKh-cvm_gH"
      },
      "source": [
        "This type of filtering is also called item-item filtering. In this type of filtering, item is recommended by attributes of the item.\n",
        "The attribute in this case is gernes."
      ]
    },
    {
      "cell_type": "code",
      "metadata": {
        "id": "DiUVBlRHm_gH"
      },
      "source": [
        "movies_df['genres']=movies_df['genres'].str.split('|')"
      ],
      "execution_count": null,
      "outputs": []
    },
    {
      "cell_type": "code",
      "metadata": {
        "id": "IF0BIktJm_gI",
        "outputId": "ea1ef0ba-c04c-4a5e-ca51-0c1dfdad67ba"
      },
      "source": [
        "for index,row in movies_df.iterrows():\n",
        "    for genre in row['genres']:\n",
        "        movies_df.at[index,genre]=1\n",
        "movies_df=movies_df.fillna(0)       \n",
        "movies_df.head()"
      ],
      "execution_count": null,
      "outputs": [
        {
          "output_type": "execute_result",
          "data": {
            "text/html": [
              "<div>\n",
              "<style scoped>\n",
              "    .dataframe tbody tr th:only-of-type {\n",
              "        vertical-align: middle;\n",
              "    }\n",
              "\n",
              "    .dataframe tbody tr th {\n",
              "        vertical-align: top;\n",
              "    }\n",
              "\n",
              "    .dataframe thead th {\n",
              "        text-align: right;\n",
              "    }\n",
              "</style>\n",
              "<table border=\"1\" class=\"dataframe\">\n",
              "  <thead>\n",
              "    <tr style=\"text-align: right;\">\n",
              "      <th></th>\n",
              "      <th>movieId</th>\n",
              "      <th>title</th>\n",
              "      <th>genres</th>\n",
              "      <th>year</th>\n",
              "      <th>Adventure</th>\n",
              "      <th>Animation</th>\n",
              "      <th>Children</th>\n",
              "      <th>Comedy</th>\n",
              "      <th>Fantasy</th>\n",
              "      <th>Romance</th>\n",
              "      <th>...</th>\n",
              "      <th>Horror</th>\n",
              "      <th>Mystery</th>\n",
              "      <th>Sci-Fi</th>\n",
              "      <th>IMAX</th>\n",
              "      <th>Documentary</th>\n",
              "      <th>War</th>\n",
              "      <th>Musical</th>\n",
              "      <th>Western</th>\n",
              "      <th>Film-Noir</th>\n",
              "      <th>(no genres listed)</th>\n",
              "    </tr>\n",
              "  </thead>\n",
              "  <tbody>\n",
              "    <tr>\n",
              "      <td>0</td>\n",
              "      <td>1</td>\n",
              "      <td>Toy Story</td>\n",
              "      <td>[Adventure, Animation, Children, Comedy, Fantasy]</td>\n",
              "      <td>1995</td>\n",
              "      <td>1.0</td>\n",
              "      <td>1.0</td>\n",
              "      <td>1.0</td>\n",
              "      <td>1.0</td>\n",
              "      <td>1.0</td>\n",
              "      <td>0.0</td>\n",
              "      <td>...</td>\n",
              "      <td>0.0</td>\n",
              "      <td>0.0</td>\n",
              "      <td>0.0</td>\n",
              "      <td>0.0</td>\n",
              "      <td>0.0</td>\n",
              "      <td>0.0</td>\n",
              "      <td>0.0</td>\n",
              "      <td>0.0</td>\n",
              "      <td>0.0</td>\n",
              "      <td>0.0</td>\n",
              "    </tr>\n",
              "    <tr>\n",
              "      <td>1</td>\n",
              "      <td>2</td>\n",
              "      <td>Jumanji</td>\n",
              "      <td>[Adventure, Children, Fantasy]</td>\n",
              "      <td>1995</td>\n",
              "      <td>1.0</td>\n",
              "      <td>0.0</td>\n",
              "      <td>1.0</td>\n",
              "      <td>0.0</td>\n",
              "      <td>1.0</td>\n",
              "      <td>0.0</td>\n",
              "      <td>...</td>\n",
              "      <td>0.0</td>\n",
              "      <td>0.0</td>\n",
              "      <td>0.0</td>\n",
              "      <td>0.0</td>\n",
              "      <td>0.0</td>\n",
              "      <td>0.0</td>\n",
              "      <td>0.0</td>\n",
              "      <td>0.0</td>\n",
              "      <td>0.0</td>\n",
              "      <td>0.0</td>\n",
              "    </tr>\n",
              "    <tr>\n",
              "      <td>2</td>\n",
              "      <td>3</td>\n",
              "      <td>Grumpier Old Men</td>\n",
              "      <td>[Comedy, Romance]</td>\n",
              "      <td>1995</td>\n",
              "      <td>0.0</td>\n",
              "      <td>0.0</td>\n",
              "      <td>0.0</td>\n",
              "      <td>1.0</td>\n",
              "      <td>0.0</td>\n",
              "      <td>1.0</td>\n",
              "      <td>...</td>\n",
              "      <td>0.0</td>\n",
              "      <td>0.0</td>\n",
              "      <td>0.0</td>\n",
              "      <td>0.0</td>\n",
              "      <td>0.0</td>\n",
              "      <td>0.0</td>\n",
              "      <td>0.0</td>\n",
              "      <td>0.0</td>\n",
              "      <td>0.0</td>\n",
              "      <td>0.0</td>\n",
              "    </tr>\n",
              "    <tr>\n",
              "      <td>3</td>\n",
              "      <td>4</td>\n",
              "      <td>Waiting to Exhale</td>\n",
              "      <td>[Comedy, Drama, Romance]</td>\n",
              "      <td>1995</td>\n",
              "      <td>0.0</td>\n",
              "      <td>0.0</td>\n",
              "      <td>0.0</td>\n",
              "      <td>1.0</td>\n",
              "      <td>0.0</td>\n",
              "      <td>1.0</td>\n",
              "      <td>...</td>\n",
              "      <td>0.0</td>\n",
              "      <td>0.0</td>\n",
              "      <td>0.0</td>\n",
              "      <td>0.0</td>\n",
              "      <td>0.0</td>\n",
              "      <td>0.0</td>\n",
              "      <td>0.0</td>\n",
              "      <td>0.0</td>\n",
              "      <td>0.0</td>\n",
              "      <td>0.0</td>\n",
              "    </tr>\n",
              "    <tr>\n",
              "      <td>4</td>\n",
              "      <td>5</td>\n",
              "      <td>Father of the Bride Part II</td>\n",
              "      <td>[Comedy]</td>\n",
              "      <td>1995</td>\n",
              "      <td>0.0</td>\n",
              "      <td>0.0</td>\n",
              "      <td>0.0</td>\n",
              "      <td>1.0</td>\n",
              "      <td>0.0</td>\n",
              "      <td>0.0</td>\n",
              "      <td>...</td>\n",
              "      <td>0.0</td>\n",
              "      <td>0.0</td>\n",
              "      <td>0.0</td>\n",
              "      <td>0.0</td>\n",
              "      <td>0.0</td>\n",
              "      <td>0.0</td>\n",
              "      <td>0.0</td>\n",
              "      <td>0.0</td>\n",
              "      <td>0.0</td>\n",
              "      <td>0.0</td>\n",
              "    </tr>\n",
              "  </tbody>\n",
              "</table>\n",
              "<p>5 rows × 24 columns</p>\n",
              "</div>"
            ],
            "text/plain": [
              "   movieId                        title  \\\n",
              "0        1                    Toy Story   \n",
              "1        2                      Jumanji   \n",
              "2        3             Grumpier Old Men   \n",
              "3        4            Waiting to Exhale   \n",
              "4        5  Father of the Bride Part II   \n",
              "\n",
              "                                              genres  year  Adventure  \\\n",
              "0  [Adventure, Animation, Children, Comedy, Fantasy]  1995        1.0   \n",
              "1                     [Adventure, Children, Fantasy]  1995        1.0   \n",
              "2                                  [Comedy, Romance]  1995        0.0   \n",
              "3                           [Comedy, Drama, Romance]  1995        0.0   \n",
              "4                                           [Comedy]  1995        0.0   \n",
              "\n",
              "   Animation  Children  Comedy  Fantasy  Romance  ...  Horror  Mystery  \\\n",
              "0        1.0       1.0     1.0      1.0      0.0  ...     0.0      0.0   \n",
              "1        0.0       1.0     0.0      1.0      0.0  ...     0.0      0.0   \n",
              "2        0.0       0.0     1.0      0.0      1.0  ...     0.0      0.0   \n",
              "3        0.0       0.0     1.0      0.0      1.0  ...     0.0      0.0   \n",
              "4        0.0       0.0     1.0      0.0      0.0  ...     0.0      0.0   \n",
              "\n",
              "   Sci-Fi  IMAX  Documentary  War  Musical  Western  Film-Noir  \\\n",
              "0     0.0   0.0          0.0  0.0      0.0      0.0        0.0   \n",
              "1     0.0   0.0          0.0  0.0      0.0      0.0        0.0   \n",
              "2     0.0   0.0          0.0  0.0      0.0      0.0        0.0   \n",
              "3     0.0   0.0          0.0  0.0      0.0      0.0        0.0   \n",
              "4     0.0   0.0          0.0  0.0      0.0      0.0        0.0   \n",
              "\n",
              "   (no genres listed)  \n",
              "0                 0.0  \n",
              "1                 0.0  \n",
              "2                 0.0  \n",
              "3                 0.0  \n",
              "4                 0.0  \n",
              "\n",
              "[5 rows x 24 columns]"
            ]
          },
          "metadata": {
            "tags": []
          },
          "execution_count": 58
        }
      ]
    },
    {
      "cell_type": "code",
      "metadata": {
        "id": "UzHEt40um_gI"
      },
      "source": [
        "del movies_df['genres']"
      ],
      "execution_count": null,
      "outputs": []
    },
    {
      "cell_type": "code",
      "metadata": {
        "id": "UjS7dE6vm_gI",
        "outputId": "d63dcc2a-f358-4849-d11b-e75c50c3d931"
      },
      "source": [
        "input_movies"
      ],
      "execution_count": null,
      "outputs": [
        {
          "output_type": "execute_result",
          "data": {
            "text/html": [
              "<div>\n",
              "<style scoped>\n",
              "    .dataframe tbody tr th:only-of-type {\n",
              "        vertical-align: middle;\n",
              "    }\n",
              "\n",
              "    .dataframe tbody tr th {\n",
              "        vertical-align: top;\n",
              "    }\n",
              "\n",
              "    .dataframe thead th {\n",
              "        text-align: right;\n",
              "    }\n",
              "</style>\n",
              "<table border=\"1\" class=\"dataframe\">\n",
              "  <thead>\n",
              "    <tr style=\"text-align: right;\">\n",
              "      <th></th>\n",
              "      <th>title</th>\n",
              "      <th>movieId</th>\n",
              "      <th>rating</th>\n",
              "    </tr>\n",
              "  </thead>\n",
              "  <tbody>\n",
              "    <tr>\n",
              "      <td>0</td>\n",
              "      <td>Fluke</td>\n",
              "      <td>241</td>\n",
              "      <td>4.5</td>\n",
              "    </tr>\n",
              "    <tr>\n",
              "      <td>1</td>\n",
              "      <td>Junior</td>\n",
              "      <td>256</td>\n",
              "      <td>3.0</td>\n",
              "    </tr>\n",
              "    <tr>\n",
              "      <td>2</td>\n",
              "      <td>Kiss of Death</td>\n",
              "      <td>259</td>\n",
              "      <td>4.0</td>\n",
              "    </tr>\n",
              "    <tr>\n",
              "      <td>3</td>\n",
              "      <td>Little Women</td>\n",
              "      <td>261</td>\n",
              "      <td>2.5</td>\n",
              "    </tr>\n",
              "    <tr>\n",
              "      <td>4</td>\n",
              "      <td>My Family</td>\n",
              "      <td>279</td>\n",
              "      <td>5.0</td>\n",
              "    </tr>\n",
              "  </tbody>\n",
              "</table>\n",
              "</div>"
            ],
            "text/plain": [
              "           title  movieId  rating\n",
              "0          Fluke      241     4.5\n",
              "1         Junior      256     3.0\n",
              "2  Kiss of Death      259     4.0\n",
              "3   Little Women      261     2.5\n",
              "4      My Family      279     5.0"
            ]
          },
          "metadata": {
            "tags": []
          },
          "execution_count": 60
        }
      ]
    },
    {
      "cell_type": "code",
      "metadata": {
        "id": "h9vwK8dnm_gJ",
        "outputId": "519a36b8-0ada-4755-a2b5-bdd6f21caa8b"
      },
      "source": [
        "user_movies=movies_df[movies_df['movieId'].isin(input_movies['movieId'].tolist())]\n",
        "user_movies"
      ],
      "execution_count": null,
      "outputs": [
        {
          "output_type": "execute_result",
          "data": {
            "text/html": [
              "<div>\n",
              "<style scoped>\n",
              "    .dataframe tbody tr th:only-of-type {\n",
              "        vertical-align: middle;\n",
              "    }\n",
              "\n",
              "    .dataframe tbody tr th {\n",
              "        vertical-align: top;\n",
              "    }\n",
              "\n",
              "    .dataframe thead th {\n",
              "        text-align: right;\n",
              "    }\n",
              "</style>\n",
              "<table border=\"1\" class=\"dataframe\">\n",
              "  <thead>\n",
              "    <tr style=\"text-align: right;\">\n",
              "      <th></th>\n",
              "      <th>movieId</th>\n",
              "      <th>title</th>\n",
              "      <th>year</th>\n",
              "      <th>Adventure</th>\n",
              "      <th>Animation</th>\n",
              "      <th>Children</th>\n",
              "      <th>Comedy</th>\n",
              "      <th>Fantasy</th>\n",
              "      <th>Romance</th>\n",
              "      <th>Drama</th>\n",
              "      <th>...</th>\n",
              "      <th>Horror</th>\n",
              "      <th>Mystery</th>\n",
              "      <th>Sci-Fi</th>\n",
              "      <th>IMAX</th>\n",
              "      <th>Documentary</th>\n",
              "      <th>War</th>\n",
              "      <th>Musical</th>\n",
              "      <th>Western</th>\n",
              "      <th>Film-Noir</th>\n",
              "      <th>(no genres listed)</th>\n",
              "    </tr>\n",
              "  </thead>\n",
              "  <tbody>\n",
              "    <tr>\n",
              "      <td>238</td>\n",
              "      <td>241</td>\n",
              "      <td>Fluke</td>\n",
              "      <td>1995</td>\n",
              "      <td>0.0</td>\n",
              "      <td>0.0</td>\n",
              "      <td>1.0</td>\n",
              "      <td>0.0</td>\n",
              "      <td>0.0</td>\n",
              "      <td>0.0</td>\n",
              "      <td>1.0</td>\n",
              "      <td>...</td>\n",
              "      <td>0.0</td>\n",
              "      <td>0.0</td>\n",
              "      <td>0.0</td>\n",
              "      <td>0.0</td>\n",
              "      <td>0.0</td>\n",
              "      <td>0.0</td>\n",
              "      <td>0.0</td>\n",
              "      <td>0.0</td>\n",
              "      <td>0.0</td>\n",
              "      <td>0.0</td>\n",
              "    </tr>\n",
              "    <tr>\n",
              "      <td>253</td>\n",
              "      <td>256</td>\n",
              "      <td>Junior</td>\n",
              "      <td>1994</td>\n",
              "      <td>0.0</td>\n",
              "      <td>0.0</td>\n",
              "      <td>0.0</td>\n",
              "      <td>1.0</td>\n",
              "      <td>0.0</td>\n",
              "      <td>0.0</td>\n",
              "      <td>0.0</td>\n",
              "      <td>...</td>\n",
              "      <td>0.0</td>\n",
              "      <td>0.0</td>\n",
              "      <td>1.0</td>\n",
              "      <td>0.0</td>\n",
              "      <td>0.0</td>\n",
              "      <td>0.0</td>\n",
              "      <td>0.0</td>\n",
              "      <td>0.0</td>\n",
              "      <td>0.0</td>\n",
              "      <td>0.0</td>\n",
              "    </tr>\n",
              "    <tr>\n",
              "      <td>256</td>\n",
              "      <td>259</td>\n",
              "      <td>Kiss of Death</td>\n",
              "      <td>1995</td>\n",
              "      <td>0.0</td>\n",
              "      <td>0.0</td>\n",
              "      <td>0.0</td>\n",
              "      <td>0.0</td>\n",
              "      <td>0.0</td>\n",
              "      <td>0.0</td>\n",
              "      <td>1.0</td>\n",
              "      <td>...</td>\n",
              "      <td>0.0</td>\n",
              "      <td>0.0</td>\n",
              "      <td>0.0</td>\n",
              "      <td>0.0</td>\n",
              "      <td>0.0</td>\n",
              "      <td>0.0</td>\n",
              "      <td>0.0</td>\n",
              "      <td>0.0</td>\n",
              "      <td>0.0</td>\n",
              "      <td>0.0</td>\n",
              "    </tr>\n",
              "    <tr>\n",
              "      <td>258</td>\n",
              "      <td>261</td>\n",
              "      <td>Little Women</td>\n",
              "      <td>1994</td>\n",
              "      <td>0.0</td>\n",
              "      <td>0.0</td>\n",
              "      <td>0.0</td>\n",
              "      <td>0.0</td>\n",
              "      <td>0.0</td>\n",
              "      <td>0.0</td>\n",
              "      <td>1.0</td>\n",
              "      <td>...</td>\n",
              "      <td>0.0</td>\n",
              "      <td>0.0</td>\n",
              "      <td>0.0</td>\n",
              "      <td>0.0</td>\n",
              "      <td>0.0</td>\n",
              "      <td>0.0</td>\n",
              "      <td>0.0</td>\n",
              "      <td>0.0</td>\n",
              "      <td>0.0</td>\n",
              "      <td>0.0</td>\n",
              "    </tr>\n",
              "    <tr>\n",
              "      <td>276</td>\n",
              "      <td>279</td>\n",
              "      <td>My Family</td>\n",
              "      <td>1995</td>\n",
              "      <td>0.0</td>\n",
              "      <td>0.0</td>\n",
              "      <td>0.0</td>\n",
              "      <td>0.0</td>\n",
              "      <td>0.0</td>\n",
              "      <td>0.0</td>\n",
              "      <td>1.0</td>\n",
              "      <td>...</td>\n",
              "      <td>0.0</td>\n",
              "      <td>0.0</td>\n",
              "      <td>0.0</td>\n",
              "      <td>0.0</td>\n",
              "      <td>0.0</td>\n",
              "      <td>0.0</td>\n",
              "      <td>0.0</td>\n",
              "      <td>0.0</td>\n",
              "      <td>0.0</td>\n",
              "      <td>0.0</td>\n",
              "    </tr>\n",
              "  </tbody>\n",
              "</table>\n",
              "<p>5 rows × 23 columns</p>\n",
              "</div>"
            ],
            "text/plain": [
              "     movieId          title  year  Adventure  Animation  Children  Comedy  \\\n",
              "238      241          Fluke  1995        0.0        0.0       1.0     0.0   \n",
              "253      256         Junior  1994        0.0        0.0       0.0     1.0   \n",
              "256      259  Kiss of Death  1995        0.0        0.0       0.0     0.0   \n",
              "258      261   Little Women  1994        0.0        0.0       0.0     0.0   \n",
              "276      279      My Family  1995        0.0        0.0       0.0     0.0   \n",
              "\n",
              "     Fantasy  Romance  Drama  ...  Horror  Mystery  Sci-Fi  IMAX  Documentary  \\\n",
              "238      0.0      0.0    1.0  ...     0.0      0.0     0.0   0.0          0.0   \n",
              "253      0.0      0.0    0.0  ...     0.0      0.0     1.0   0.0          0.0   \n",
              "256      0.0      0.0    1.0  ...     0.0      0.0     0.0   0.0          0.0   \n",
              "258      0.0      0.0    1.0  ...     0.0      0.0     0.0   0.0          0.0   \n",
              "276      0.0      0.0    1.0  ...     0.0      0.0     0.0   0.0          0.0   \n",
              "\n",
              "     War  Musical  Western  Film-Noir  (no genres listed)  \n",
              "238  0.0      0.0      0.0        0.0                 0.0  \n",
              "253  0.0      0.0      0.0        0.0                 0.0  \n",
              "256  0.0      0.0      0.0        0.0                 0.0  \n",
              "258  0.0      0.0      0.0        0.0                 0.0  \n",
              "276  0.0      0.0      0.0        0.0                 0.0  \n",
              "\n",
              "[5 rows x 23 columns]"
            ]
          },
          "metadata": {
            "tags": []
          },
          "execution_count": 61
        }
      ]
    },
    {
      "cell_type": "code",
      "metadata": {
        "id": "tipLmiiTm_gJ"
      },
      "source": [
        "user_genres=user_movies.iloc[:,3:]\n",
        "user_genres.reset_index(inplace=True,drop=True)"
      ],
      "execution_count": null,
      "outputs": []
    },
    {
      "cell_type": "code",
      "metadata": {
        "id": "J7Cl8jAfm_gK"
      },
      "source": [
        "user_profile=user_genres.transpose().dot(input_movies['rating'])"
      ],
      "execution_count": null,
      "outputs": []
    },
    {
      "cell_type": "code",
      "metadata": {
        "id": "0DYIZaYIm_gK",
        "outputId": "2f6775b1-764b-411d-fde4-8f07a225fc17"
      },
      "source": [
        "user_profile"
      ],
      "execution_count": null,
      "outputs": [
        {
          "output_type": "execute_result",
          "data": {
            "text/plain": [
              "Adventure              0.0\n",
              "Animation              0.0\n",
              "Children               4.5\n",
              "Comedy                 3.0\n",
              "Fantasy                0.0\n",
              "Romance                0.0\n",
              "Drama                 16.0\n",
              "Action                 0.0\n",
              "Crime                  4.0\n",
              "Thriller               4.0\n",
              "Horror                 0.0\n",
              "Mystery                0.0\n",
              "Sci-Fi                 3.0\n",
              "IMAX                   0.0\n",
              "Documentary            0.0\n",
              "War                    0.0\n",
              "Musical                0.0\n",
              "Western                0.0\n",
              "Film-Noir              0.0\n",
              "(no genres listed)     0.0\n",
              "dtype: float64"
            ]
          },
          "metadata": {
            "tags": []
          },
          "execution_count": 77
        }
      ]
    },
    {
      "cell_type": "markdown",
      "metadata": {
        "id": "tgkceT0xm_gK"
      },
      "source": [
        "Now we'll calculate a score for each movie by multiplying above values with each genres and adding them"
      ]
    },
    {
      "cell_type": "code",
      "metadata": {
        "id": "enGzNgvim_gL"
      },
      "source": [
        "genre_table=movies_df.copy()\n",
        "del genre_table['title']\n",
        "del genre_table['year']\n",
        "genre_table.set_index('movieId',inplace=True)\n",
        "\n"
      ],
      "execution_count": null,
      "outputs": []
    },
    {
      "cell_type": "code",
      "metadata": {
        "id": "BlUym_zjm_gL",
        "outputId": "b1cd8505-90c5-4b21-a7d4-f9e1cbaca989"
      },
      "source": [
        "recommendation_table=((genre_table*user_profile).sum(axis=1)/user_profile.sum())\n",
        "recommendation_table=recommendation_table.sort_values(ascending=False)\n",
        "recommendation_table.shape"
      ],
      "execution_count": null,
      "outputs": [
        {
          "output_type": "execute_result",
          "data": {
            "text/plain": [
              "(34208,)"
            ]
          },
          "metadata": {
            "tags": []
          },
          "execution_count": 87
        }
      ]
    },
    {
      "cell_type": "code",
      "metadata": {
        "id": "ET4R8-bzm_gL"
      },
      "source": [
        "movies=movies_df.loc[movies_df['movieId'].isin(recommendation_table.index[0:20]),['movieId','title']]"
      ],
      "execution_count": null,
      "outputs": []
    },
    {
      "cell_type": "code",
      "metadata": {
        "id": "CqmSdt2Wm_gM",
        "outputId": "490f492f-dfba-49ef-824a-6a4a1d539db9"
      },
      "source": [
        "movies"
      ],
      "execution_count": null,
      "outputs": [
        {
          "output_type": "execute_result",
          "data": {
            "text/html": [
              "<div>\n",
              "<style scoped>\n",
              "    .dataframe tbody tr th:only-of-type {\n",
              "        vertical-align: middle;\n",
              "    }\n",
              "\n",
              "    .dataframe tbody tr th {\n",
              "        vertical-align: top;\n",
              "    }\n",
              "\n",
              "    .dataframe thead th {\n",
              "        text-align: right;\n",
              "    }\n",
              "</style>\n",
              "<table border=\"1\" class=\"dataframe\">\n",
              "  <thead>\n",
              "    <tr style=\"text-align: right;\">\n",
              "      <th></th>\n",
              "      <th>movieId</th>\n",
              "      <th>title</th>\n",
              "    </tr>\n",
              "  </thead>\n",
              "  <tbody>\n",
              "    <tr>\n",
              "      <td>4625</td>\n",
              "      <td>4719</td>\n",
              "      <td>Osmosis Jones</td>\n",
              "    </tr>\n",
              "    <tr>\n",
              "      <td>4923</td>\n",
              "      <td>5018</td>\n",
              "      <td>Motorama</td>\n",
              "    </tr>\n",
              "    <tr>\n",
              "      <td>9226</td>\n",
              "      <td>27171</td>\n",
              "      <td>Freeway II: Confessions of a Trickbaby</td>\n",
              "    </tr>\n",
              "    <tr>\n",
              "      <td>9383</td>\n",
              "      <td>27549</td>\n",
              "      <td>Dead or Alive: Final</td>\n",
              "    </tr>\n",
              "    <tr>\n",
              "      <td>9428</td>\n",
              "      <td>27674</td>\n",
              "      <td>11:14</td>\n",
              "    </tr>\n",
              "    <tr>\n",
              "      <td>9494</td>\n",
              "      <td>27790</td>\n",
              "      <td>Millions</td>\n",
              "    </tr>\n",
              "    <tr>\n",
              "      <td>10406</td>\n",
              "      <td>36804</td>\n",
              "      <td>Bookies</td>\n",
              "    </tr>\n",
              "    <tr>\n",
              "      <td>15001</td>\n",
              "      <td>75408</td>\n",
              "      <td>Lupin III: Sweet Lost Night (Rupan Sansei: Swe...</td>\n",
              "    </tr>\n",
              "    <tr>\n",
              "      <td>16055</td>\n",
              "      <td>81132</td>\n",
              "      <td>Rubber</td>\n",
              "    </tr>\n",
              "    <tr>\n",
              "      <td>18300</td>\n",
              "      <td>91286</td>\n",
              "      <td>Little Colonel, The</td>\n",
              "    </tr>\n",
              "    <tr>\n",
              "      <td>23406</td>\n",
              "      <td>110769</td>\n",
              "      <td>Bullet Ballet</td>\n",
              "    </tr>\n",
              "    <tr>\n",
              "      <td>24606</td>\n",
              "      <td>115680</td>\n",
              "      <td>Time Lapse</td>\n",
              "    </tr>\n",
              "    <tr>\n",
              "      <td>24923</td>\n",
              "      <td>116698</td>\n",
              "      <td>Dead Men Tell</td>\n",
              "    </tr>\n",
              "    <tr>\n",
              "      <td>29163</td>\n",
              "      <td>133818</td>\n",
              "      <td>Me and the Kid</td>\n",
              "    </tr>\n",
              "    <tr>\n",
              "      <td>30732</td>\n",
              "      <td>139159</td>\n",
              "      <td>Aadhavan</td>\n",
              "    </tr>\n",
              "    <tr>\n",
              "      <td>31516</td>\n",
              "      <td>141636</td>\n",
              "      <td>Papanasam</td>\n",
              "    </tr>\n",
              "    <tr>\n",
              "      <td>32307</td>\n",
              "      <td>144338</td>\n",
              "      <td>Holiday</td>\n",
              "    </tr>\n",
              "    <tr>\n",
              "      <td>32333</td>\n",
              "      <td>144390</td>\n",
              "      <td>Turning Point</td>\n",
              "    </tr>\n",
              "    <tr>\n",
              "      <td>33692</td>\n",
              "      <td>149488</td>\n",
              "      <td>Christmas Town</td>\n",
              "    </tr>\n",
              "    <tr>\n",
              "      <td>33914</td>\n",
              "      <td>150268</td>\n",
              "      <td>Dilwale</td>\n",
              "    </tr>\n",
              "  </tbody>\n",
              "</table>\n",
              "</div>"
            ],
            "text/plain": [
              "       movieId                                              title\n",
              "4625      4719                                      Osmosis Jones\n",
              "4923      5018                                           Motorama\n",
              "9226     27171             Freeway II: Confessions of a Trickbaby\n",
              "9383     27549                               Dead or Alive: Final\n",
              "9428     27674                                              11:14\n",
              "9494     27790                                           Millions\n",
              "10406    36804                                            Bookies\n",
              "15001    75408  Lupin III: Sweet Lost Night (Rupan Sansei: Swe...\n",
              "16055    81132                                             Rubber\n",
              "18300    91286                                Little Colonel, The\n",
              "23406   110769                                      Bullet Ballet\n",
              "24606   115680                                         Time Lapse\n",
              "24923   116698                                      Dead Men Tell\n",
              "29163   133818                                     Me and the Kid\n",
              "30732   139159                                           Aadhavan\n",
              "31516   141636                                          Papanasam\n",
              "32307   144338                                            Holiday\n",
              "32333   144390                                      Turning Point\n",
              "33692   149488                                     Christmas Town\n",
              "33914   150268                                            Dilwale"
            ]
          },
          "metadata": {
            "tags": []
          },
          "execution_count": 92
        }
      ]
    },
    {
      "cell_type": "markdown",
      "metadata": {
        "id": "7J9hcOuam_gM"
      },
      "source": [
        "### Highest rated movies"
      ]
    },
    {
      "cell_type": "code",
      "metadata": {
        "id": "Nlsj3NRym_gM"
      },
      "source": [
        "highest_rated=rating_df[['movieId','rating']].groupby(by='movieId').mean()\n",
        "highest_rated.sort_values(by='rating',ascending=False)\n",
        "highest_rated.reset_index(inplace=True)\n",
        "highest_rated=highest_rated.merge(movies_df[['movieId','title']])\n",
        "highest_rated.sort_values(by='rating',inplace=True,ascending=False)"
      ],
      "execution_count": null,
      "outputs": []
    },
    {
      "cell_type": "code",
      "metadata": {
        "id": "KmX8aGL9m_gN",
        "outputId": "4bb79ed6-1a76-44bc-d692-8dbc7c585d65"
      },
      "source": [
        "highest_rated.head(20)"
      ],
      "execution_count": null,
      "outputs": [
        {
          "output_type": "execute_result",
          "data": {
            "text/html": [
              "<div>\n",
              "<style scoped>\n",
              "    .dataframe tbody tr th:only-of-type {\n",
              "        vertical-align: middle;\n",
              "    }\n",
              "\n",
              "    .dataframe tbody tr th {\n",
              "        vertical-align: top;\n",
              "    }\n",
              "\n",
              "    .dataframe thead th {\n",
              "        text-align: right;\n",
              "    }\n",
              "</style>\n",
              "<table border=\"1\" class=\"dataframe\">\n",
              "  <thead>\n",
              "    <tr style=\"text-align: right;\">\n",
              "      <th></th>\n",
              "      <th>movieId</th>\n",
              "      <th>rating</th>\n",
              "      <th>title</th>\n",
              "    </tr>\n",
              "  </thead>\n",
              "  <tbody>\n",
              "    <tr>\n",
              "      <td>30653</td>\n",
              "      <td>140443</td>\n",
              "      <td>5.0</td>\n",
              "      <td>Return to Mayberry</td>\n",
              "    </tr>\n",
              "    <tr>\n",
              "      <td>29783</td>\n",
              "      <td>137078</td>\n",
              "      <td>5.0</td>\n",
              "      <td>Stranger in My House</td>\n",
              "    </tr>\n",
              "    <tr>\n",
              "      <td>32405</td>\n",
              "      <td>146433</td>\n",
              "      <td>5.0</td>\n",
              "      <td>Big Love</td>\n",
              "    </tr>\n",
              "    <tr>\n",
              "      <td>29774</td>\n",
              "      <td>137052</td>\n",
              "      <td>5.0</td>\n",
              "      <td>A Job to Kill For</td>\n",
              "    </tr>\n",
              "    <tr>\n",
              "      <td>29773</td>\n",
              "      <td>137050</td>\n",
              "      <td>5.0</td>\n",
              "      <td>The Rival</td>\n",
              "    </tr>\n",
              "    <tr>\n",
              "      <td>29772</td>\n",
              "      <td>137048</td>\n",
              "      <td>5.0</td>\n",
              "      <td>Perfect Child</td>\n",
              "    </tr>\n",
              "    <tr>\n",
              "      <td>29771</td>\n",
              "      <td>137046</td>\n",
              "      <td>5.0</td>\n",
              "      <td>The Perfect Assistant</td>\n",
              "    </tr>\n",
              "    <tr>\n",
              "      <td>22159</td>\n",
              "      <td>106517</td>\n",
              "      <td>5.0</td>\n",
              "      <td>De la servitude moderne</td>\n",
              "    </tr>\n",
              "    <tr>\n",
              "      <td>29768</td>\n",
              "      <td>137040</td>\n",
              "      <td>5.0</td>\n",
              "      <td>Hunger Point</td>\n",
              "    </tr>\n",
              "    <tr>\n",
              "      <td>32443</td>\n",
              "      <td>146650</td>\n",
              "      <td>5.0</td>\n",
              "      <td>The C-Word</td>\n",
              "    </tr>\n",
              "    <tr>\n",
              "      <td>29767</td>\n",
              "      <td>137038</td>\n",
              "      <td>5.0</td>\n",
              "      <td>The Perfect Wife</td>\n",
              "    </tr>\n",
              "    <tr>\n",
              "      <td>29764</td>\n",
              "      <td>137032</td>\n",
              "      <td>5.0</td>\n",
              "      <td>The Perfect Neighbor</td>\n",
              "    </tr>\n",
              "    <tr>\n",
              "      <td>29763</td>\n",
              "      <td>137030</td>\n",
              "      <td>5.0</td>\n",
              "      <td>Dangerous Child</td>\n",
              "    </tr>\n",
              "    <tr>\n",
              "      <td>29762</td>\n",
              "      <td>137028</td>\n",
              "      <td>5.0</td>\n",
              "      <td>Augusta, Gone</td>\n",
              "    </tr>\n",
              "    <tr>\n",
              "      <td>29761</td>\n",
              "      <td>137026</td>\n",
              "      <td>5.0</td>\n",
              "      <td>Tainted Blood</td>\n",
              "    </tr>\n",
              "    <tr>\n",
              "      <td>29760</td>\n",
              "      <td>137024</td>\n",
              "      <td>5.0</td>\n",
              "      <td>The Perfect Nanny</td>\n",
              "    </tr>\n",
              "    <tr>\n",
              "      <td>29759</td>\n",
              "      <td>137022</td>\n",
              "      <td>5.0</td>\n",
              "      <td>A Nanny's Revenge</td>\n",
              "    </tr>\n",
              "    <tr>\n",
              "      <td>29758</td>\n",
              "      <td>137020</td>\n",
              "      <td>5.0</td>\n",
              "      <td>A Sister's Secret</td>\n",
              "    </tr>\n",
              "    <tr>\n",
              "      <td>29757</td>\n",
              "      <td>137018</td>\n",
              "      <td>5.0</td>\n",
              "      <td>A Sister's Revenge</td>\n",
              "    </tr>\n",
              "    <tr>\n",
              "      <td>32515</td>\n",
              "      <td>146946</td>\n",
              "      <td>5.0</td>\n",
              "      <td>The Hardy Bucks Movie</td>\n",
              "    </tr>\n",
              "  </tbody>\n",
              "</table>\n",
              "</div>"
            ],
            "text/plain": [
              "       movieId  rating                    title\n",
              "30653   140443     5.0       Return to Mayberry\n",
              "29783   137078     5.0     Stranger in My House\n",
              "32405   146433     5.0                 Big Love\n",
              "29774   137052     5.0        A Job to Kill For\n",
              "29773   137050     5.0                The Rival\n",
              "29772   137048     5.0            Perfect Child\n",
              "29771   137046     5.0    The Perfect Assistant\n",
              "22159   106517     5.0  De la servitude moderne\n",
              "29768   137040     5.0             Hunger Point\n",
              "32443   146650     5.0               The C-Word\n",
              "29767   137038     5.0         The Perfect Wife\n",
              "29764   137032     5.0     The Perfect Neighbor\n",
              "29763   137030     5.0          Dangerous Child\n",
              "29762   137028     5.0            Augusta, Gone\n",
              "29761   137026     5.0            Tainted Blood\n",
              "29760   137024     5.0        The Perfect Nanny\n",
              "29759   137022     5.0        A Nanny's Revenge\n",
              "29758   137020     5.0        A Sister's Secret\n",
              "29757   137018     5.0       A Sister's Revenge\n",
              "32515   146946     5.0    The Hardy Bucks Movie"
            ]
          },
          "metadata": {
            "tags": []
          },
          "execution_count": 106
        }
      ]
    },
    {
      "cell_type": "code",
      "metadata": {
        "id": "vqBufsMKm_gN"
      },
      "source": [
        ""
      ],
      "execution_count": null,
      "outputs": []
    }
  ]
}