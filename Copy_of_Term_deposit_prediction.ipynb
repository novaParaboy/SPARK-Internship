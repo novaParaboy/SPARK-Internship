{
  "nbformat": 4,
  "nbformat_minor": 0,
  "metadata": {
    "kernelspec": {
      "display_name": "Python 3",
      "language": "python",
      "name": "python3"
    },
    "language_info": {
      "codemirror_mode": {
        "name": "ipython",
        "version": 3
      },
      "file_extension": ".py",
      "mimetype": "text/x-python",
      "name": "python",
      "nbconvert_exporter": "python",
      "pygments_lexer": "ipython3",
      "version": "3.7.4"
    },
    "colab": {
      "name": "Copy of Term_deposit_prediction.ipynb",
      "provenance": [],
      "toc_visible": true
    }
  },
  "cells": [
    {
      "cell_type": "markdown",
      "metadata": {
        "id": "ZjvP17IK73NO"
      },
      "source": [
        "### Problem Statement:\n",
        "**In bank Scenario, \n",
        "Based on various attributes, we have to decide whether the customer subscribe to a particular product or not**"
      ]
    },
    {
      "cell_type": "markdown",
      "metadata": {
        "id": "eLFAIeQi73NQ"
      },
      "source": [
        "**The product in this case is term deposit**"
      ]
    },
    {
      "cell_type": "code",
      "metadata": {
        "id": "mQC6Fryu73NR"
      },
      "source": [
        "import pandas as pd\n",
        "import numpy as np\n",
        "import matplotlib.pyplot as plt\n",
        "%matplotlib inline"
      ],
      "execution_count": null,
      "outputs": []
    },
    {
      "cell_type": "code",
      "metadata": {
        "id": "--bOkXsL73NX",
        "colab": {
          "base_uri": "https://localhost:8080/",
          "height": 71
        },
        "outputId": "a7059d22-835d-44e0-c937-0aee380ea897"
      },
      "source": [
        "import seaborn as sns"
      ],
      "execution_count": null,
      "outputs": [
        {
          "output_type": "stream",
          "text": [
            "/usr/local/lib/python3.6/dist-packages/statsmodels/tools/_testing.py:19: FutureWarning: pandas.util.testing is deprecated. Use the functions in the public API at pandas.testing instead.\n",
            "  import pandas.util.testing as tm\n"
          ],
          "name": "stderr"
        }
      ]
    },
    {
      "cell_type": "code",
      "metadata": {
        "id": "eVsHC6IB73Nc",
        "colab": {
          "base_uri": "https://localhost:8080/",
          "height": 224
        },
        "outputId": "bfbd99f9-eb94-43c5-da34-28d513a2ef1a"
      },
      "source": [
        "\n",
        "bank_df=pd.read_csv('bank-additional-full.csv',sep=';')\n",
        "bank_df.head()"
      ],
      "execution_count": null,
      "outputs": [
        {
          "output_type": "execute_result",
          "data": {
            "text/html": [
              "<div>\n",
              "<style scoped>\n",
              "    .dataframe tbody tr th:only-of-type {\n",
              "        vertical-align: middle;\n",
              "    }\n",
              "\n",
              "    .dataframe tbody tr th {\n",
              "        vertical-align: top;\n",
              "    }\n",
              "\n",
              "    .dataframe thead th {\n",
              "        text-align: right;\n",
              "    }\n",
              "</style>\n",
              "<table border=\"1\" class=\"dataframe\">\n",
              "  <thead>\n",
              "    <tr style=\"text-align: right;\">\n",
              "      <th></th>\n",
              "      <th>age</th>\n",
              "      <th>job</th>\n",
              "      <th>marital</th>\n",
              "      <th>education</th>\n",
              "      <th>default</th>\n",
              "      <th>housing</th>\n",
              "      <th>loan</th>\n",
              "      <th>contact</th>\n",
              "      <th>month</th>\n",
              "      <th>day_of_week</th>\n",
              "      <th>duration</th>\n",
              "      <th>campaign</th>\n",
              "      <th>pdays</th>\n",
              "      <th>previous</th>\n",
              "      <th>poutcome</th>\n",
              "      <th>emp.var.rate</th>\n",
              "      <th>cons.price.idx</th>\n",
              "      <th>cons.conf.idx</th>\n",
              "      <th>euribor3m</th>\n",
              "      <th>nr.employed</th>\n",
              "      <th>y</th>\n",
              "    </tr>\n",
              "  </thead>\n",
              "  <tbody>\n",
              "    <tr>\n",
              "      <th>0</th>\n",
              "      <td>56</td>\n",
              "      <td>housemaid</td>\n",
              "      <td>married</td>\n",
              "      <td>basic.4y</td>\n",
              "      <td>no</td>\n",
              "      <td>no</td>\n",
              "      <td>no</td>\n",
              "      <td>telephone</td>\n",
              "      <td>may</td>\n",
              "      <td>mon</td>\n",
              "      <td>261</td>\n",
              "      <td>1</td>\n",
              "      <td>999</td>\n",
              "      <td>0</td>\n",
              "      <td>nonexistent</td>\n",
              "      <td>1.1</td>\n",
              "      <td>93.994</td>\n",
              "      <td>-36.4</td>\n",
              "      <td>4.857</td>\n",
              "      <td>5191.0</td>\n",
              "      <td>no</td>\n",
              "    </tr>\n",
              "    <tr>\n",
              "      <th>1</th>\n",
              "      <td>57</td>\n",
              "      <td>services</td>\n",
              "      <td>married</td>\n",
              "      <td>high.school</td>\n",
              "      <td>unknown</td>\n",
              "      <td>no</td>\n",
              "      <td>no</td>\n",
              "      <td>telephone</td>\n",
              "      <td>may</td>\n",
              "      <td>mon</td>\n",
              "      <td>149</td>\n",
              "      <td>1</td>\n",
              "      <td>999</td>\n",
              "      <td>0</td>\n",
              "      <td>nonexistent</td>\n",
              "      <td>1.1</td>\n",
              "      <td>93.994</td>\n",
              "      <td>-36.4</td>\n",
              "      <td>4.857</td>\n",
              "      <td>5191.0</td>\n",
              "      <td>no</td>\n",
              "    </tr>\n",
              "    <tr>\n",
              "      <th>2</th>\n",
              "      <td>37</td>\n",
              "      <td>services</td>\n",
              "      <td>married</td>\n",
              "      <td>high.school</td>\n",
              "      <td>no</td>\n",
              "      <td>yes</td>\n",
              "      <td>no</td>\n",
              "      <td>telephone</td>\n",
              "      <td>may</td>\n",
              "      <td>mon</td>\n",
              "      <td>226</td>\n",
              "      <td>1</td>\n",
              "      <td>999</td>\n",
              "      <td>0</td>\n",
              "      <td>nonexistent</td>\n",
              "      <td>1.1</td>\n",
              "      <td>93.994</td>\n",
              "      <td>-36.4</td>\n",
              "      <td>4.857</td>\n",
              "      <td>5191.0</td>\n",
              "      <td>no</td>\n",
              "    </tr>\n",
              "    <tr>\n",
              "      <th>3</th>\n",
              "      <td>40</td>\n",
              "      <td>admin.</td>\n",
              "      <td>married</td>\n",
              "      <td>basic.6y</td>\n",
              "      <td>no</td>\n",
              "      <td>no</td>\n",
              "      <td>no</td>\n",
              "      <td>telephone</td>\n",
              "      <td>may</td>\n",
              "      <td>mon</td>\n",
              "      <td>151</td>\n",
              "      <td>1</td>\n",
              "      <td>999</td>\n",
              "      <td>0</td>\n",
              "      <td>nonexistent</td>\n",
              "      <td>1.1</td>\n",
              "      <td>93.994</td>\n",
              "      <td>-36.4</td>\n",
              "      <td>4.857</td>\n",
              "      <td>5191.0</td>\n",
              "      <td>no</td>\n",
              "    </tr>\n",
              "    <tr>\n",
              "      <th>4</th>\n",
              "      <td>56</td>\n",
              "      <td>services</td>\n",
              "      <td>married</td>\n",
              "      <td>high.school</td>\n",
              "      <td>no</td>\n",
              "      <td>no</td>\n",
              "      <td>yes</td>\n",
              "      <td>telephone</td>\n",
              "      <td>may</td>\n",
              "      <td>mon</td>\n",
              "      <td>307</td>\n",
              "      <td>1</td>\n",
              "      <td>999</td>\n",
              "      <td>0</td>\n",
              "      <td>nonexistent</td>\n",
              "      <td>1.1</td>\n",
              "      <td>93.994</td>\n",
              "      <td>-36.4</td>\n",
              "      <td>4.857</td>\n",
              "      <td>5191.0</td>\n",
              "      <td>no</td>\n",
              "    </tr>\n",
              "  </tbody>\n",
              "</table>\n",
              "</div>"
            ],
            "text/plain": [
              "   age        job  marital  ... euribor3m nr.employed   y\n",
              "0   56  housemaid  married  ...     4.857      5191.0  no\n",
              "1   57   services  married  ...     4.857      5191.0  no\n",
              "2   37   services  married  ...     4.857      5191.0  no\n",
              "3   40     admin.  married  ...     4.857      5191.0  no\n",
              "4   56   services  married  ...     4.857      5191.0  no\n",
              "\n",
              "[5 rows x 21 columns]"
            ]
          },
          "metadata": {
            "tags": []
          },
          "execution_count": 3
        }
      ]
    },
    {
      "cell_type": "markdown",
      "metadata": {
        "id": "jsJg6k7a73Ni"
      },
      "source": [
        "### Below is the variables details"
      ]
    },
    {
      "cell_type": "markdown",
      "metadata": {
        "id": "h5IZzvgO73Nj"
      },
      "source": [
        "### Attribute Information:\n",
        "**Bank client data**:\n",
        "Age (numeric)\n",
        "Job : type of job (categorical: 'admin.', 'blue-collar', 'entrepreneur', 'housemaid', 'management', 'retired', 'self-employed', 'services', 'student', 'technician', 'unemployed', 'unknown')\n",
        "Marital : marital status (categorical: 'divorced', 'married', 'single', 'unknown' ; note: 'divorced' means divorced or widowed)\n",
        "Education (categorical: 'basic.4y', 'basic.6y', 'basic.9y', 'high.school', 'illiterate', 'professional.course', 'university.degree', 'unknown')\n",
        "Default: has credit in default? (categorical: 'no', 'yes', 'unknown')\n",
        "Housing: has housing loan? (categorical: 'no', 'yes', 'unknown')\n",
        "Loan: has personal loan? (categorical: 'no', 'yes', 'unknown')\n",
        "**Related with the last contact of the current campaign:**\n",
        "Contact: contact communication type (categorical: 'cellular','telephone')\n",
        "Month: last contact month of year (categorical: 'jan', 'feb', 'mar', ..., 'nov', 'dec')\n",
        "Day_of_week: last contact day of the week (categorical: 'mon','tue','wed','thu','fri')\n",
        "Duration: last contact duration, in seconds (numeric). Important note: this attribute highly affects the output target (e.g., if duration=0 then y='no'). Yet, the duration is not known before a call is performed. Also, after the end of the call y is obviously known. Thus, this input should only be included for benchmark purposes and should be discarded if the intention is to have a realistic predictive model.\n",
        "Other attributes:\n",
        "Campaign: number of contacts performed during this campaign and for this client (numeric, includes last contact)\n",
        "Pdays: number of days that passed by after the client was last contacted from a previous campaign (numeric; 999 means client was not previously contacted)\n",
        "Previous: number of contacts performed before this campaign and for this client (numeric)\n",
        "Poutcome: outcome of the previous marketing campaign (categorical: 'failure','nonexistent','success')\n",
        "**Social and economic context attributes**\n",
        "Emp.var.rate: employment variation rate - quarterly indicator (numeric)\n",
        "Cons.price.idx: consumer price index - monthly indicator (numeric)\n",
        "Cons.conf.idx: consumer confidence index - monthly indicator (numeric)\n",
        "Euribor3m: euribor 3 month rate - daily indicator (numeric)\n",
        "Nr.employed: number of employees - quarterly indicator (numeric)\n",
        "Output variable (desired target):\n",
        "y - has the client subscribed a term deposit? (binary: 'yes', 'no')"
      ]
    },
    {
      "cell_type": "code",
      "metadata": {
        "id": "fPzurHK273Nk",
        "colab": {
          "base_uri": "https://localhost:8080/",
          "height": 391
        },
        "outputId": "d074a5fa-5869-44cb-b796-9e5d997e566d"
      },
      "source": [
        "bank_df.isnull().sum()"
      ],
      "execution_count": null,
      "outputs": [
        {
          "output_type": "execute_result",
          "data": {
            "text/plain": [
              "age               0\n",
              "job               0\n",
              "marital           0\n",
              "education         0\n",
              "default           0\n",
              "housing           0\n",
              "loan              0\n",
              "contact           0\n",
              "month             0\n",
              "day_of_week       0\n",
              "duration          0\n",
              "campaign          0\n",
              "pdays             0\n",
              "previous          0\n",
              "poutcome          0\n",
              "emp.var.rate      0\n",
              "cons.price.idx    0\n",
              "cons.conf.idx     0\n",
              "euribor3m         0\n",
              "nr.employed       0\n",
              "y                 0\n",
              "dtype: int64"
            ]
          },
          "metadata": {
            "tags": []
          },
          "execution_count": 4
        }
      ]
    },
    {
      "cell_type": "code",
      "metadata": {
        "id": "J5b60fGT73No",
        "colab": {
          "base_uri": "https://localhost:8080/",
          "height": 391
        },
        "outputId": "048dcd11-be67-4553-c95b-b7a3adcf5a3a"
      },
      "source": [
        "bank_df.dtypes"
      ],
      "execution_count": null,
      "outputs": [
        {
          "output_type": "execute_result",
          "data": {
            "text/plain": [
              "age                 int64\n",
              "job                object\n",
              "marital            object\n",
              "education          object\n",
              "default            object\n",
              "housing            object\n",
              "loan               object\n",
              "contact            object\n",
              "month              object\n",
              "day_of_week        object\n",
              "duration            int64\n",
              "campaign            int64\n",
              "pdays               int64\n",
              "previous            int64\n",
              "poutcome           object\n",
              "emp.var.rate      float64\n",
              "cons.price.idx    float64\n",
              "cons.conf.idx     float64\n",
              "euribor3m         float64\n",
              "nr.employed       float64\n",
              "y                  object\n",
              "dtype: object"
            ]
          },
          "metadata": {
            "tags": []
          },
          "execution_count": 5
        }
      ]
    },
    {
      "cell_type": "markdown",
      "metadata": {
        "id": "XRYoyTGj73Nt"
      },
      "source": [
        "### Exploratory analysis"
      ]
    },
    {
      "cell_type": "code",
      "metadata": {
        "id": "231bPsR873Nu",
        "colab": {
          "base_uri": "https://localhost:8080/",
          "height": 85
        },
        "outputId": "c357cb83-81ae-4073-e0dc-5256062a9cf9"
      },
      "source": [
        "print('Max. age:',bank_df['age'].max())\n",
        "print('Min. age:',bank_df['age'].min())\n",
        "print('Mean age:',bank_df['age'].mean())\n",
        "print('Standard deviation in age:',bank_df['age'].std())"
      ],
      "execution_count": null,
      "outputs": [
        {
          "output_type": "stream",
          "text": [
            "Max. age: 98\n",
            "Min. age: 17\n",
            "Mean age: 40.02406040594348\n",
            "Standard deviation in age: 10.421249980934235\n"
          ],
          "name": "stdout"
        }
      ]
    },
    {
      "cell_type": "code",
      "metadata": {
        "id": "8_S2FauA73Nz",
        "colab": {
          "base_uri": "https://localhost:8080/",
          "height": 423
        },
        "outputId": "c7bf964e-8dbb-45a7-dfbb-14258f614b2e"
      },
      "source": [
        "plt.figure(figsize=(14,6))\n",
        "plt.subplot(1,2,1)\n",
        "sns.distplot(bank_df['age'],hist=True)\n",
        "plt.xlabel('Age')\n",
        "plt.ylabel('Count')\n",
        "plt.title('Age distribution in dataset')\n",
        "plt.subplot(1,2,2)\n",
        "sns.boxplot(x='age',data=bank_df,orient='v')\n",
        "plt.xlabel('Age',fontsize=15)\n",
        "plt.ylabel('Count',fontsize=15)\n",
        "plt.title('Age distribution in dataset',fontsize=15)"
      ],
      "execution_count": null,
      "outputs": [
        {
          "output_type": "execute_result",
          "data": {
            "text/plain": [
              "Text(0.5, 1.0, 'Age distribution in dataset')"
            ]
          },
          "metadata": {
            "tags": []
          },
          "execution_count": 7
        },
        {
          "output_type": "display_data",
          "data": {
            "image/png": "[encoded data removed]",
            "text/plain": [
              "<Figure size 1008x432 with 2 Axes>"
            ]
          },
          "metadata": {
            "tags": [],
            "needs_background": "light"
          }
        }
      ]
    },
    {
      "cell_type": "code",
      "metadata": {
        "id": "SfRTJgLO73N3"
      },
      "source": [
        "#In our box plot it seems that age above 70 years are outliers"
      ],
      "execution_count": null,
      "outputs": []
    },
    {
      "cell_type": "code",
      "metadata": {
        "id": "tRDm25d-73N7",
        "colab": {
          "base_uri": "https://localhost:8080/",
          "height": 537
        },
        "outputId": "acb194e6-1740-42dd-dbb9-1792a9695329"
      },
      "source": [
        "\n",
        "plt.figure(figsize=(14,5))\n",
        "sample=bank_df[bank_df['y']=='yes']\n",
        "sns.distplot(sample['age'],hist=True)\n",
        "plt.xlabel('Age')\n",
        "plt.ylabel('Count')\n",
        "plt.title('Age distribution for subscribed customer')\n",
        "plt.xticks([10,20,30,40,50,60,70,80,90,100])"
      ],
      "execution_count": null,
      "outputs": [
        {
          "output_type": "execute_result",
          "data": {
            "text/plain": [
              "([<matplotlib.axis.XTick at 0x7f1cc9b36ba8>,\n",
              "  <matplotlib.axis.XTick at 0x7f1cc9b36b38>,\n",
              "  <matplotlib.axis.XTick at 0x7f1cc9b14cf8>,\n",
              "  <matplotlib.axis.XTick at 0x7f1cc9683dd8>,\n",
              "  <matplotlib.axis.XTick at 0x7f1cc9668f60>,\n",
              "  <matplotlib.axis.XTick at 0x7f1cc9676438>,\n",
              "  <matplotlib.axis.XTick at 0x7f1cc96768d0>,\n",
              "  <matplotlib.axis.XTick at 0x7f1cc9683fd0>,\n",
              "  <matplotlib.axis.XTick at 0x7f1cc9676898>,\n",
              "  <matplotlib.axis.XTick at 0x7f1cc9600160>],\n",
              " <a list of 10 Text major ticklabel objects>)"
            ]
          },
          "metadata": {
            "tags": []
          },
          "execution_count": 9
        },
        {
          "output_type": "display_data",
          "data": {
            "image/png": "[encoded data removed]",
            "text/plain": [
              "<Figure size 1008x360 with 1 Axes>"
            ]
          },
          "metadata": {
            "tags": [],
            "needs_background": "light"
          }
        }
      ]
    },
    {
      "cell_type": "code",
      "metadata": {
        "id": "fzyflYWa73N_"
      },
      "source": [
        "#From above graph age can be categorized as:\n",
        "#17-26\n",
        "#26-40\n",
        "#40-56\n",
        "#56 and above"
      ],
      "execution_count": null,
      "outputs": []
    },
    {
      "cell_type": "code",
      "metadata": {
        "id": "PBekzqtF73OD"
      },
      "source": [
        "bank_df['age']=pd.cut(x=bank_df['age'],bins=[15,26,40,56,100],labels=['freshers','young','mature','declining'])"
      ],
      "execution_count": null,
      "outputs": []
    },
    {
      "cell_type": "code",
      "metadata": {
        "id": "x13gTvkF73OH",
        "colab": {
          "base_uri": "https://localhost:8080/",
          "height": 238
        },
        "outputId": "fc42e637-f4a7-42aa-a60d-eee342aaaaa2"
      },
      "source": [
        "bank_df['job'].value_counts()"
      ],
      "execution_count": null,
      "outputs": [
        {
          "output_type": "execute_result",
          "data": {
            "text/plain": [
              "admin.           10422\n",
              "blue-collar       9254\n",
              "technician        6743\n",
              "services          3969\n",
              "management        2924\n",
              "retired           1720\n",
              "entrepreneur      1456\n",
              "self-employed     1421\n",
              "housemaid         1060\n",
              "unemployed        1014\n",
              "student            875\n",
              "unknown            330\n",
              "Name: job, dtype: int64"
            ]
          },
          "metadata": {
            "tags": []
          },
          "execution_count": 12
        }
      ]
    },
    {
      "cell_type": "code",
      "metadata": {
        "id": "EB_pqHFP73OL",
        "colab": {
          "base_uri": "https://localhost:8080/",
          "height": 446
        },
        "outputId": "17198a89-2798-42b5-dff4-0a7b62f6514d"
      },
      "source": [
        "samp1=bank_df.loc[bank_df['y']=='yes']\n",
        "fig=plt.figure(figsize=(14,6))\n",
        "ax=fig.add_axes([0,0,1,1])\n",
        "ax.bar(x=bank_df['job'].value_counts().index,height=bank_df['job'].value_counts(),width=.25,color='blue',align='center',label='Total count')\n",
        "ax.bar(x=samp1['job'].value_counts().index,height=samp1['job'].value_counts(),width=.25,color='red',label='count with subsciption')\n",
        "ax.legend()"
      ],
      "execution_count": null,
      "outputs": [
        {
          "output_type": "execute_result",
          "data": {
            "text/plain": [
              "<matplotlib.legend.Legend at 0x7f1cc95e04a8>"
            ]
          },
          "metadata": {
            "tags": []
          },
          "execution_count": 13
        },
        {
          "output_type": "display_data",
          "data": {
            "image/png": "[encoded data removed]",
            "text/plain": [
              "<Figure size 1008x432 with 1 Axes>"
            ]
          },
          "metadata": {
            "tags": [],
            "needs_background": "light"
          }
        }
      ]
    },
    {
      "cell_type": "code",
      "metadata": {
        "id": "__0mo-_c73OP"
      },
      "source": [
        "#Above graph gives various insights:\n",
        "# Most of the customer of banks are admin and also max. subscription to a particular service is from admin class.\n",
        "#In proportion, the max subscription is from student class, almost 50%"
      ],
      "execution_count": null,
      "outputs": []
    },
    {
      "cell_type": "code",
      "metadata": {
        "id": "hZoPPKG-73OT"
      },
      "source": [
        "dummies=pd.get_dummies(bank_df['job'],drop_first=True)"
      ],
      "execution_count": null,
      "outputs": []
    },
    {
      "cell_type": "code",
      "metadata": {
        "id": "90EkkjAa73OX"
      },
      "source": [
        "bank_df=pd.concat([dummies,bank_df],axis=1)"
      ],
      "execution_count": null,
      "outputs": []
    },
    {
      "cell_type": "code",
      "metadata": {
        "id": "ual1SIjP73Ob",
        "colab": {
          "base_uri": "https://localhost:8080/",
          "height": 102
        },
        "outputId": "ee5233ed-e828-4e99-d31b-f10fa2d82768"
      },
      "source": [
        "bank_df['marital'].value_counts()"
      ],
      "execution_count": null,
      "outputs": [
        {
          "output_type": "execute_result",
          "data": {
            "text/plain": [
              "married     24928\n",
              "single      11568\n",
              "divorced     4612\n",
              "unknown        80\n",
              "Name: marital, dtype: int64"
            ]
          },
          "metadata": {
            "tags": []
          },
          "execution_count": 17
        }
      ]
    },
    {
      "cell_type": "code",
      "metadata": {
        "id": "_dQl58of73Oe",
        "colab": {
          "base_uri": "https://localhost:8080/",
          "height": 281
        },
        "outputId": "a43b7b3e-3ee2-4a62-c81f-58aefd23574d"
      },
      "source": [
        "samp1=bank_df.loc[bank_df['y']=='yes']\n",
        "fig=plt.figure(figsize=(7,3))\n",
        "ax=fig.add_axes([0,0,1,1])\n",
        "ax.bar(x=bank_df['marital'].value_counts().index,height=bank_df['marital'].value_counts(),width=.25,color='blue',align='center',label='Total count')\n",
        "ax.bar(x=samp1['marital'].value_counts().index,height=samp1['marital'].value_counts(),width=.25,color='red',label='count with subsciption')\n",
        "ax.legend()"
      ],
      "execution_count": null,
      "outputs": [
        {
          "output_type": "execute_result",
          "data": {
            "text/plain": [
              "<matplotlib.legend.Legend at 0x7f1cc952b128>"
            ]
          },
          "metadata": {
            "tags": []
          },
          "execution_count": 18
        },
        {
          "output_type": "display_data",
          "data": {
            "image/png": "[encoded data removed]",
            "text/plain": [
              "<Figure size 504x216 with 1 Axes>"
            ]
          },
          "metadata": {
            "tags": [],
            "needs_background": "light"
          }
        }
      ]
    },
    {
      "cell_type": "code",
      "metadata": {
        "id": "28fR0Sz173Oi"
      },
      "source": [
        "dummies=pd.get_dummies(bank_df['marital'])\n",
        "del dummies['unknown']\n",
        "bank_df=pd.concat([dummies,bank_df],axis=1)"
      ],
      "execution_count": null,
      "outputs": []
    },
    {
      "cell_type": "code",
      "metadata": {
        "id": "FtttFPNh73Om",
        "colab": {
          "base_uri": "https://localhost:8080/",
          "height": 170
        },
        "outputId": "c58d56d8-c8fe-4686-b9a4-aa61d8082f4f"
      },
      "source": [
        "bank_df['education'].value_counts()"
      ],
      "execution_count": null,
      "outputs": [
        {
          "output_type": "execute_result",
          "data": {
            "text/plain": [
              "university.degree      12168\n",
              "high.school             9515\n",
              "basic.9y                6045\n",
              "professional.course     5243\n",
              "basic.4y                4176\n",
              "basic.6y                2292\n",
              "unknown                 1731\n",
              "illiterate                18\n",
              "Name: education, dtype: int64"
            ]
          },
          "metadata": {
            "tags": []
          },
          "execution_count": 20
        }
      ]
    },
    {
      "cell_type": "code",
      "metadata": {
        "id": "MdLUWoWR73Oq",
        "colab": {
          "base_uri": "https://localhost:8080/",
          "height": 446
        },
        "outputId": "6d1800a9-b6c9-4fb2-d6f1-2c4068391302"
      },
      "source": [
        "samp1=bank_df.loc[bank_df['y']=='yes']\n",
        "fig=plt.figure(figsize=(14,6))\n",
        "ax=fig.add_axes([0,0,1,1])\n",
        "ax.bar(x=bank_df['education'].value_counts().index,height=bank_df['education'].value_counts(),width=.25,color='blue',align='center',label='Total count')\n",
        "ax.bar(x=samp1['education'].value_counts().index,height=samp1['education'].value_counts(),width=.25,color='red',label='count with subsciption')\n",
        "ax.legend()"
      ],
      "execution_count": null,
      "outputs": [
        {
          "output_type": "execute_result",
          "data": {
            "text/plain": [
              "<matplotlib.legend.Legend at 0x7f1cc94b12b0>"
            ]
          },
          "metadata": {
            "tags": []
          },
          "execution_count": 21
        },
        {
          "output_type": "display_data",
          "data": {
            "image/png": "[encoded data removed]",
            "text/plain": [
              "<Figure size 1008x432 with 1 Axes>"
            ]
          },
          "metadata": {
            "tags": [],
            "needs_background": "light"
          }
        }
      ]
    },
    {
      "cell_type": "code",
      "metadata": {
        "id": "QFtkX9BO73Ot"
      },
      "source": [
        "#It can be seen that as the education level of people decreases, the tendency to subscribw to term deposit also decreases."
      ],
      "execution_count": null,
      "outputs": []
    },
    {
      "cell_type": "code",
      "metadata": {
        "id": "YNN9XzmL73Ox"
      },
      "source": [
        "dummies=pd.get_dummies(bank_df['education'])\n",
        "del dummies['unknown']\n",
        "bank_df=pd.concat([dummies,bank_df],axis=1)"
      ],
      "execution_count": null,
      "outputs": []
    },
    {
      "cell_type": "code",
      "metadata": {
        "id": "Ug1SLK9p73O1",
        "colab": {
          "base_uri": "https://localhost:8080/",
          "height": 405
        },
        "outputId": "8386f322-600a-4c4c-8199-f23df53b025d"
      },
      "source": [
        "samp1=bank_df.loc[bank_df['y']=='yes']\n",
        "plt.figure(figsize=(14,6))\n",
        "plt.subplot(2,2,1)\n",
        "plt.bar(x=bank_df['default'].value_counts().index,height=bank_df['default'].value_counts(),width=.25,color='blue',align='center',label='Total count')\n",
        "plt.bar(x=samp1['default'].value_counts().index,height=samp1['default'].value_counts(),width=.25,color='red',label='count with subsciption')\n",
        "plt.legend()\n",
        "plt.xlabel('Default')\n",
        "plt.ylabel('Count')\n",
        "plt.subplot(2,2,2)\n",
        "plt.bar(x=bank_df['housing'].value_counts().index,height=bank_df['housing'].value_counts(),width=.25,color='blue',align='center',label='Total count')\n",
        "plt.bar(x=samp1['housing'].value_counts().index,height=samp1['housing'].value_counts(),width=.25,color='red',label='count with subsciption')\n",
        "plt.legend()\n",
        "plt.xlabel('Housing Loan')\n",
        "plt.ylabel('Count')\n",
        "plt.subplot(2,2,3)\n",
        "plt.bar(x=bank_df['loan'].value_counts().index,height=bank_df['loan'].value_counts(),width=.25,color='blue',align='center',label='Total count')\n",
        "plt.bar(x=samp1['loan'].value_counts().index,height=samp1['loan'].value_counts(),width=.25,color='red',label='count with subsciption')\n",
        "plt.legend()\n",
        "plt.xlabel('loan')\n",
        "plt.ylabel('Count')"
      ],
      "execution_count": null,
      "outputs": [
        {
          "output_type": "execute_result",
          "data": {
            "text/plain": [
              "Text(0, 0.5, 'Count')"
            ]
          },
          "metadata": {
            "tags": []
          },
          "execution_count": 24
        },
        {
          "output_type": "display_data",
          "data": {
            "image/png": "[encoded data removed]",
            "text/plain": [
              "<Figure size 1008x432 with 3 Axes>"
            ]
          },
          "metadata": {
            "tags": [],
            "needs_background": "light"
          }
        }
      ]
    },
    {
      "cell_type": "code",
      "metadata": {
        "id": "h4yF3o3873O6",
        "colab": {
          "base_uri": "https://localhost:8080/",
          "height": 85
        },
        "outputId": "f831bbb0-790d-4e9b-aedf-8afea5b125a4"
      },
      "source": [
        "bank_df['loan'].value_counts()"
      ],
      "execution_count": null,
      "outputs": [
        {
          "output_type": "execute_result",
          "data": {
            "text/plain": [
              "no         33950\n",
              "yes         6248\n",
              "unknown      990\n",
              "Name: loan, dtype: int64"
            ]
          },
          "metadata": {
            "tags": []
          },
          "execution_count": 25
        }
      ]
    },
    {
      "cell_type": "code",
      "metadata": {
        "id": "HNGhE5P973O-"
      },
      "source": [
        "#In graph 1, any person who is a defaulter( i.e. someone who has not paid his loan) had not subscribed to term deposit\n",
        "#In graph 2, proportions of person with no housing loan are more than with housing loan who have subscribed to term deposit\n",
        "#In graph 3, the number of customers who have taken loan are pretty much than without laon customers."
      ],
      "execution_count": null,
      "outputs": []
    },
    {
      "cell_type": "code",
      "metadata": {
        "id": "1MkmUb5v73PC"
      },
      "source": [
        "dummies=pd.get_dummies(bank_df['default'])\n",
        "del dummies['unknown']\n",
        "bank_df=pd.concat([dummies,bank_df],axis=1)\n",
        "dummies=pd.get_dummies(bank_df['housing'])\n",
        "del dummies['unknown']\n",
        "bank_df=pd.concat([dummies,bank_df],axis=1)\n",
        "dummies=pd.get_dummies(bank_df['loan'])\n",
        "del dummies['unknown']\n",
        "bank_df=pd.concat([dummies,bank_df],axis=1)"
      ],
      "execution_count": null,
      "outputs": []
    },
    {
      "cell_type": "code",
      "metadata": {
        "id": "wY7wnYIa73PF"
      },
      "source": [
        "#Upto now,analysis of all the customer related variables is done.\n",
        "# We can also remove some unnecessary variables"
      ],
      "execution_count": null,
      "outputs": []
    },
    {
      "cell_type": "code",
      "metadata": {
        "id": "Icth0Jy-73PJ"
      },
      "source": [
        "del bank_df['job']\n",
        "del bank_df['marital']\n",
        "del bank_df['education']\n",
        "del bank_df['default']\n",
        "del bank_df['housing']\n",
        "del bank_df['loan']"
      ],
      "execution_count": null,
      "outputs": []
    },
    {
      "cell_type": "code",
      "metadata": {
        "id": "303zbcn073PM"
      },
      "source": [
        "#Analysis of variables related with contact of the current campaign"
      ],
      "execution_count": null,
      "outputs": []
    },
    {
      "cell_type": "code",
      "metadata": {
        "id": "2pT6UNoA73PR",
        "colab": {
          "base_uri": "https://localhost:8080/",
          "height": 34
        },
        "outputId": "2e5609d8-bcaa-4bd3-8bbc-51cdc43bab88"
      },
      "source": [
        "bank_df.shape"
      ],
      "execution_count": null,
      "outputs": [
        {
          "output_type": "execute_result",
          "data": {
            "text/plain": [
              "(41188, 42)"
            ]
          },
          "metadata": {
            "tags": []
          },
          "execution_count": 31
        }
      ]
    },
    {
      "cell_type": "code",
      "metadata": {
        "id": "TVehcYDd73PV",
        "colab": {
          "base_uri": "https://localhost:8080/",
          "height": 748
        },
        "outputId": "7b186b9c-92f5-4f0f-fcb1-1d8c80f25d96"
      },
      "source": [
        "bank_df.dtypes"
      ],
      "execution_count": null,
      "outputs": [
        {
          "output_type": "execute_result",
          "data": {
            "text/plain": [
              "no                        uint8\n",
              "yes                       uint8\n",
              "no                        uint8\n",
              "yes                       uint8\n",
              "no                        uint8\n",
              "yes                       uint8\n",
              "basic.4y                  uint8\n",
              "basic.6y                  uint8\n",
              "basic.9y                  uint8\n",
              "high.school               uint8\n",
              "illiterate                uint8\n",
              "professional.course       uint8\n",
              "university.degree         uint8\n",
              "divorced                  uint8\n",
              "married                   uint8\n",
              "single                    uint8\n",
              "blue-collar               uint8\n",
              "entrepreneur              uint8\n",
              "housemaid                 uint8\n",
              "management                uint8\n",
              "retired                   uint8\n",
              "self-employed             uint8\n",
              "services                  uint8\n",
              "student                   uint8\n",
              "technician                uint8\n",
              "unemployed                uint8\n",
              "unknown                   uint8\n",
              "age                    category\n",
              "contact                  object\n",
              "month                    object\n",
              "day_of_week              object\n",
              "duration                  int64\n",
              "campaign                  int64\n",
              "pdays                     int64\n",
              "previous                  int64\n",
              "poutcome                 object\n",
              "emp.var.rate            float64\n",
              "cons.price.idx          float64\n",
              "cons.conf.idx           float64\n",
              "euribor3m               float64\n",
              "nr.employed             float64\n",
              "y                        object\n",
              "dtype: object"
            ]
          },
          "metadata": {
            "tags": []
          },
          "execution_count": 32
        }
      ]
    },
    {
      "cell_type": "code",
      "metadata": {
        "id": "DAnM3nwZ73PZ",
        "colab": {
          "base_uri": "https://localhost:8080/",
          "height": 68
        },
        "outputId": "d459f065-9bf5-48ed-f821-0d995bd33df3"
      },
      "source": [
        "bank_df['contact'].value_counts()"
      ],
      "execution_count": null,
      "outputs": [
        {
          "output_type": "execute_result",
          "data": {
            "text/plain": [
              "cellular     26144\n",
              "telephone    15044\n",
              "Name: contact, dtype: int64"
            ]
          },
          "metadata": {
            "tags": []
          },
          "execution_count": 33
        }
      ]
    },
    {
      "cell_type": "code",
      "metadata": {
        "id": "--DzcSmo73Pc",
        "colab": {
          "base_uri": "https://localhost:8080/",
          "height": 204
        },
        "outputId": "22b4bc49-beb5-44e6-81ca-3591d672658b"
      },
      "source": [
        "bank_df['month'].value_counts()"
      ],
      "execution_count": null,
      "outputs": [
        {
          "output_type": "execute_result",
          "data": {
            "text/plain": [
              "may    13769\n",
              "jul     7174\n",
              "aug     6178\n",
              "jun     5318\n",
              "nov     4101\n",
              "apr     2632\n",
              "oct      718\n",
              "sep      570\n",
              "mar      546\n",
              "dec      182\n",
              "Name: month, dtype: int64"
            ]
          },
          "metadata": {
            "tags": []
          },
          "execution_count": 34
        }
      ]
    },
    {
      "cell_type": "code",
      "metadata": {
        "id": "z-QoWrjj73Pf",
        "colab": {
          "base_uri": "https://localhost:8080/",
          "height": 119
        },
        "outputId": "622bd7d8-de31-40d8-9ae7-e15f9204d9e3"
      },
      "source": [
        "bank_df['day_of_week'].value_counts()"
      ],
      "execution_count": null,
      "outputs": [
        {
          "output_type": "execute_result",
          "data": {
            "text/plain": [
              "thu    8623\n",
              "mon    8514\n",
              "wed    8134\n",
              "tue    8090\n",
              "fri    7827\n",
              "Name: day_of_week, dtype: int64"
            ]
          },
          "metadata": {
            "tags": []
          },
          "execution_count": 35
        }
      ]
    },
    {
      "cell_type": "code",
      "metadata": {
        "id": "qGnwrJH573Pi",
        "colab": {
          "base_uri": "https://localhost:8080/",
          "height": 406
        },
        "outputId": "8ff6d9e3-4b29-4478-b13c-b7cd762ade46"
      },
      "source": [
        "samp1=bank_df.loc[bank_df['y']=='yes']\n",
        "plt.figure(figsize=(14,6))\n",
        "plt.subplot(2,2,1)\n",
        "plt.bar(x=bank_df['contact'].value_counts().index,height=bank_df['contact'].value_counts(),width=.25,color='indigo',align='center',label='Total count')\n",
        "plt.bar(x=samp1['contact'].value_counts().index,height=samp1['contact'].value_counts(),width=.25,color='lime',label='count with subsciption')\n",
        "plt.legend()\n",
        "plt.xlabel('contact')\n",
        "plt.ylabel('Count')\n",
        "plt.subplot(2,2,2)\n",
        "plt.bar(x=bank_df['month'].value_counts().index,height=bank_df['month'].value_counts(),width=.25,color='indigo',align='center',label='Total count')\n",
        "plt.bar(x=samp1['month'].value_counts().index,height=samp1['month'].value_counts(),width=.25,color='lime',label='count with subsciption')\n",
        "plt.legend()\n",
        "plt.xlabel('month')\n",
        "plt.ylabel('Count')\n",
        "plt.subplot(2,2,3)\n",
        "plt.bar(x=bank_df['day_of_week'].value_counts().index,height=bank_df['day_of_week'].value_counts(),width=.25,color='indigo',align='center',label='Total count')\n",
        "plt.bar(x=samp1['day_of_week'].value_counts().index,height=samp1['day_of_week'].value_counts(),width=.25,color='lime',label='count with subsciption')\n",
        "plt.legend()\n",
        "plt.xlabel('day_of_week')\n",
        "plt.ylabel('Count')\n"
      ],
      "execution_count": null,
      "outputs": [
        {
          "output_type": "execute_result",
          "data": {
            "text/plain": [
              "Text(0, 0.5, 'Count')"
            ]
          },
          "metadata": {
            "tags": []
          },
          "execution_count": 36
        },
        {
          "output_type": "display_data",
          "data": {
            "image/png": "[encoded data removed]",
            "text/plain": [
              "<Figure size 1008x432 with 3 Axes>"
            ]
          },
          "metadata": {
            "tags": [],
            "needs_background": "light"
          }
        }
      ]
    },
    {
      "cell_type": "code",
      "metadata": {
        "id": "uTVkEHzX73Pm"
      },
      "source": [
        "#Day of week doesn't seems to have any impact on product subscription conversion\n",
        "#April and all other months are showing more conversion rate to subsciption than may. Looking carefully it can be inferred that months also doesn't have any significant impact on increases in subscription.\n",
        "#It may be possible that there may be a saturation level of max. no. of subscribers after a large possible efforts\n",
        "#Most of the contacts are made through cellular network and also more subscription is attained by this"
      ],
      "execution_count": null,
      "outputs": []
    },
    {
      "cell_type": "code",
      "metadata": {
        "id": "dGyhoouw73Pq"
      },
      "source": [
        "del bank_df['day_of_week']\n",
        "del bank_df['month']\n",
        "dummies=pd.get_dummies(bank_df['contact'])\n",
        "del dummies['telephone']\n",
        "bank_df=pd.concat([dummies,bank_df],axis=1)"
      ],
      "execution_count": null,
      "outputs": []
    },
    {
      "cell_type": "code",
      "metadata": {
        "id": "LqS7vuVj73Pt",
        "colab": {
          "base_uri": "https://localhost:8080/",
          "height": 68
        },
        "outputId": "d833b1f3-f3aa-4353-c79d-ae1ee785d7b1"
      },
      "source": [
        "print('Max call duration:',bank_df['duration'].max())\n",
        "print('Min. call duration:',bank_df['duration'].min())\n",
        "print('Average call duration:',bank_df['duration'].mean())"
      ],
      "execution_count": null,
      "outputs": [
        {
          "output_type": "stream",
          "text": [
            "Max call duration: 4918\n",
            "Min. call duration: 0\n",
            "Average call duration: 258.2850101971448\n"
          ],
          "name": "stdout"
        }
      ]
    },
    {
      "cell_type": "code",
      "metadata": {
        "id": "vLF1Qc_c73Pw"
      },
      "source": [
        "#The duration is in seconds."
      ],
      "execution_count": null,
      "outputs": []
    },
    {
      "cell_type": "code",
      "metadata": {
        "id": "8OF6nNX673P6",
        "colab": {
          "base_uri": "https://localhost:8080/",
          "height": 596
        },
        "outputId": "52c57b04-660d-4f98-c98b-2502ec23a61d"
      },
      "source": [
        "plt.figure(figsize=(10,10))\n",
        "plt.subplot(2,1,1)\n",
        "sns.distplot(bank_df.loc[bank_df['y']=='no',['duration']],hist=True,color='green',label='Not subscribed')\n",
        "sns.distplot(samp1['duration'],hist=True,color='lightblue',label='subscribed')\n",
        "plt.legend()\n",
        "plt.ylabel('Count')\n",
        "plt.xlim(0,2000)\n",
        "plt.subplot(2,1,2)\n",
        "sns.boxplot(x='duration',data=bank_df,orient='v')"
      ],
      "execution_count": null,
      "outputs": [
        {
          "output_type": "execute_result",
          "data": {
            "text/plain": [
              "<matplotlib.axes._subplots.AxesSubplot at 0x7f1cc91b2cc0>"
            ]
          },
          "metadata": {
            "tags": []
          },
          "execution_count": 41
        },
        {
          "output_type": "display_data",
          "data": {
            "image/png": "[encoded data removed]",
            "text/plain": [
              "<Figure size 720x720 with 2 Axes>"
            ]
          },
          "metadata": {
            "tags": [],
            "needs_background": "light"
          }
        }
      ]
    },
    {
      "cell_type": "code",
      "metadata": {
        "id": "yG1oIbEK73P9"
      },
      "source": [
        "#From above graph, it can be infered that as the call duration becomes more than 250 sec, the number of 'yes' are more than 'no'."
      ],
      "execution_count": null,
      "outputs": []
    },
    {
      "cell_type": "code",
      "metadata": {
        "id": "I1gl5LyW73QA"
      },
      "source": [
        "#Thus calling definitely have significant impact on conversion rate from 'yes' to 'no'"
      ],
      "execution_count": null,
      "outputs": []
    },
    {
      "cell_type": "code",
      "metadata": {
        "id": "TU-CewdS73QF",
        "colab": {
          "base_uri": "https://localhost:8080/",
          "height": 68
        },
        "outputId": "be95fea7-e272-4575-c704-afff3c8da8fa"
      },
      "source": [
        "print('Max campaign value:',bank_df['campaign'].max())\n",
        "print('Min. campaign value:',bank_df['campaign'].min())\n",
        "print('Average campaign value:',bank_df['campaign'].mean())"
      ],
      "execution_count": null,
      "outputs": [
        {
          "output_type": "stream",
          "text": [
            "Max campaign value: 56\n",
            "Min. campaign value: 1\n",
            "Average campaign value: 2.567592502670681\n"
          ],
          "name": "stdout"
        }
      ]
    },
    {
      "cell_type": "code",
      "metadata": {
        "id": "KyDkei4w73QK",
        "colab": {
          "base_uri": "https://localhost:8080/",
          "height": 595
        },
        "outputId": "d560f74d-d4ff-484a-dbcb-f90140bc3ca4"
      },
      "source": [
        "plt.figure(figsize=(10,10))\n",
        "plt.subplot(2,1,1)\n",
        "sns.distplot(bank_df.loc[bank_df['y']=='no',['campaign']],hist=True,color='orangered',label='Not subscribed',bins=np.arange(0,150,2))\n",
        "sns.distplot(samp1['campaign'],hist=True,color='yellow',label='subscribed',bins=np.arange(0,150,2))\n",
        "plt.legend()\n",
        "plt.xlim(0,20)\n",
        "plt.xticks(np.arange(0,20,2))\n",
        "plt.ylabel('Count')\n",
        "plt.subplot(2,1,2)\n",
        "sns.boxplot(x='campaign',data=bank_df,orient='v')"
      ],
      "execution_count": null,
      "outputs": [
        {
          "output_type": "execute_result",
          "data": {
            "text/plain": [
              "<matplotlib.axes._subplots.AxesSubplot at 0x7f1cc8e3b160>"
            ]
          },
          "metadata": {
            "tags": []
          },
          "execution_count": 45
        },
        {
          "output_type": "display_data",
          "data": {
            "image/png": "[encoded data removed]",
            "text/plain": [
              "<Figure size 720x720 with 2 Axes>"
            ]
          },
          "metadata": {
            "tags": [],
            "needs_background": "light"
          }
        }
      ]
    },
    {
      "cell_type": "code",
      "metadata": {
        "id": "Uz8uh2oY73QQ"
      },
      "source": [
        "#For 3 or less campaigns, no. of subsciber are more than with non-subscribers\n",
        "#The values above 8 are outliers"
      ],
      "execution_count": null,
      "outputs": []
    },
    {
      "cell_type": "code",
      "metadata": {
        "id": "NK12EXzG73QV",
        "colab": {
          "base_uri": "https://localhost:8080/",
          "height": 68
        },
        "outputId": "d3472d41-15c3-4589-9ec5-53c881defd5e"
      },
      "source": [
        "print('Max no. of p-days:',bank_df['pdays'].max())\n",
        "print('Min. no. of p-days:',bank_df['pdays'].min())\n",
        "print('Mean no. of p-days:',bank_df['pdays'].mean())"
      ],
      "execution_count": null,
      "outputs": [
        {
          "output_type": "stream",
          "text": [
            "Max no. of p-days: 999\n",
            "Min. no. of p-days: 0\n",
            "Mean no. of p-days: 962.4754540157328\n"
          ],
          "name": "stdout"
        }
      ]
    },
    {
      "cell_type": "code",
      "metadata": {
        "id": "ku_nFEPf73QZ",
        "colab": {
          "base_uri": "https://localhost:8080/",
          "height": 597
        },
        "outputId": "054c7926-ac80-47ea-93c7-b0d0822fe319"
      },
      "source": [
        "plt.figure(figsize=(10,10))\n",
        "plt.subplot(2,1,1)\n",
        "sns.distplot(bank_df.loc[bank_df['y']=='no',['pdays']],hist=True,color='orangered',label='Not subscribed')\n",
        "sns.distplot(samp1['pdays'],hist=True,color='yellow',label='subscribed')\n",
        "plt.legend()\n",
        "plt.xlim(0,28)\n",
        "plt.ylabel('Count')\n",
        "plt.subplot(2,1,2)\n",
        "sns.boxplot(x='pdays',data=bank_df,orient='v')\n",
        "plt.ylim(0,40)"
      ],
      "execution_count": null,
      "outputs": [
        {
          "output_type": "execute_result",
          "data": {
            "text/plain": [
              "(0.0, 40.0)"
            ]
          },
          "metadata": {
            "tags": []
          },
          "execution_count": 48
        },
        {
          "output_type": "display_data",
          "data": {
            "image/png": "[encoded data removed]",
            "text/plain": [
              "<Figure size 720x720 with 2 Axes>"
            ]
          },
          "metadata": {
            "tags": [],
            "needs_background": "light"
          }
        }
      ]
    },
    {
      "cell_type": "code",
      "metadata": {
        "id": "Fd-QG55D73Qe",
        "colab": {
          "base_uri": "https://localhost:8080/",
          "height": 493
        },
        "outputId": "784ecdcb-63ce-4795-f9a3-47aac04d5de1"
      },
      "source": [
        "bank_df['pdays'].value_counts()"
      ],
      "execution_count": null,
      "outputs": [
        {
          "output_type": "execute_result",
          "data": {
            "text/plain": [
              "999    39673\n",
              "3        439\n",
              "6        412\n",
              "4        118\n",
              "9         64\n",
              "2         61\n",
              "7         60\n",
              "12        58\n",
              "10        52\n",
              "5         46\n",
              "13        36\n",
              "11        28\n",
              "1         26\n",
              "15        24\n",
              "14        20\n",
              "8         18\n",
              "0         15\n",
              "16        11\n",
              "17         8\n",
              "18         7\n",
              "19         3\n",
              "22         3\n",
              "21         2\n",
              "26         1\n",
              "20         1\n",
              "25         1\n",
              "27         1\n",
              "Name: pdays, dtype: int64"
            ]
          },
          "metadata": {
            "tags": []
          },
          "execution_count": 49
        }
      ]
    },
    {
      "cell_type": "code",
      "metadata": {
        "id": "ha9iV3ZC73Qh"
      },
      "source": [
        "#999 here signifies that in our last campaign to attract customers, the customer was not called at all\n",
        "#No. of days pass by have no impact on the conversion rate"
      ],
      "execution_count": null,
      "outputs": []
    },
    {
      "cell_type": "code",
      "metadata": {
        "id": "g1c2uiXV73Qk",
        "colab": {
          "base_uri": "https://localhost:8080/",
          "height": 170
        },
        "outputId": "d503ddcf-8e72-4df8-ad8e-46b70b1bed68"
      },
      "source": [
        "bank_df['previous'].value_counts()"
      ],
      "execution_count": null,
      "outputs": [
        {
          "output_type": "execute_result",
          "data": {
            "text/plain": [
              "0    35563\n",
              "1     4561\n",
              "2      754\n",
              "3      216\n",
              "4       70\n",
              "5       18\n",
              "6        5\n",
              "7        1\n",
              "Name: previous, dtype: int64"
            ]
          },
          "metadata": {
            "tags": []
          },
          "execution_count": 51
        }
      ]
    },
    {
      "cell_type": "code",
      "metadata": {
        "id": "avJnfbbW73Qq",
        "colab": {
          "base_uri": "https://localhost:8080/",
          "height": 409
        },
        "outputId": "0be3a291-df6e-457d-eff9-3fd8cd6a813c"
      },
      "source": [
        "#Previous shows that before the ongoing campaign, how many times the person was contacted\n",
        "plt.figure(figsize=(6,6))\n",
        "sns.countplot(x=\"previous\",hue=\"y\",data=bank_df)\n",
        "plt.legend(loc='upper right')\n",
        "plt.ylim(0,5000)"
      ],
      "execution_count": null,
      "outputs": [
        {
          "output_type": "execute_result",
          "data": {
            "text/plain": [
              "(0.0, 5000.0)"
            ]
          },
          "metadata": {
            "tags": []
          },
          "execution_count": 52
        },
        {
          "output_type": "display_data",
          "data": {
            "image/png": "[encoded data removed]",
            "text/plain": [
              "<Figure size 432x432 with 1 Axes>"
            ]
          },
          "metadata": {
            "tags": [],
            "needs_background": "light"
          }
        }
      ]
    },
    {
      "cell_type": "code",
      "metadata": {
        "id": "QtmM8cYr73Qz"
      },
      "source": [
        "#When no contact or 1 contact was performed, conversion rate is very low\n",
        "#But then as the no. of contacts increased the conversion rate has increased\n"
      ],
      "execution_count": null,
      "outputs": []
    },
    {
      "cell_type": "code",
      "metadata": {
        "id": "cIqh4rXj73Q2",
        "colab": {
          "base_uri": "https://localhost:8080/",
          "height": 85
        },
        "outputId": "8b8fa564-ec41-4603-8983-13a59c02f76f"
      },
      "source": [
        "bank_df['poutcome'].value_counts()"
      ],
      "execution_count": null,
      "outputs": [
        {
          "output_type": "execute_result",
          "data": {
            "text/plain": [
              "nonexistent    35563\n",
              "failure         4252\n",
              "success         1373\n",
              "Name: poutcome, dtype: int64"
            ]
          },
          "metadata": {
            "tags": []
          },
          "execution_count": 54
        }
      ]
    },
    {
      "cell_type": "code",
      "metadata": {
        "id": "tO1OanPw73Q-"
      },
      "source": [
        "#Most of the results of last marketing campaign are missings. Thus, this column can be dropped\n",
        "del bank_df['poutcome']"
      ],
      "execution_count": null,
      "outputs": []
    },
    {
      "cell_type": "code",
      "metadata": {
        "id": "kWkJoqrn73RC"
      },
      "source": [
        "#The attributes which we'll analyze now are related to the social and economic aspects of the location in which the person is living"
      ],
      "execution_count": null,
      "outputs": []
    },
    {
      "cell_type": "code",
      "metadata": {
        "id": "W8uxDnyP73RH",
        "colab": {
          "base_uri": "https://localhost:8080/",
          "height": 170
        },
        "outputId": "ed542a1f-d7e3-4b07-b069-222b323336f1"
      },
      "source": [
        "bank_df.columns"
      ],
      "execution_count": null,
      "outputs": [
        {
          "output_type": "execute_result",
          "data": {
            "text/plain": [
              "Index(['cellular', 'no', 'yes', 'no', 'yes', 'no', 'yes', 'basic.4y',\n",
              "       'basic.6y', 'basic.9y', 'high.school', 'illiterate',\n",
              "       'professional.course', 'university.degree', 'divorced', 'married',\n",
              "       'single', 'blue-collar', 'entrepreneur', 'housemaid', 'management',\n",
              "       'retired', 'self-employed', 'services', 'student', 'technician',\n",
              "       'unemployed', 'unknown', 'age', 'contact', 'duration', 'campaign',\n",
              "       'pdays', 'previous', 'emp.var.rate', 'cons.price.idx', 'cons.conf.idx',\n",
              "       'euribor3m', 'nr.employed', 'y'],\n",
              "      dtype='object')"
            ]
          },
          "metadata": {
            "tags": []
          },
          "execution_count": 57
        }
      ]
    },
    {
      "cell_type": "code",
      "metadata": {
        "id": "ihC2pZ6Z73RM",
        "colab": {
          "base_uri": "https://localhost:8080/",
          "height": 204
        },
        "outputId": "3c4625da-59c4-4749-eeaa-ad802ccc86ef"
      },
      "source": [
        "bank_df['emp.var.rate'].value_counts()"
      ],
      "execution_count": null,
      "outputs": [
        {
          "output_type": "execute_result",
          "data": {
            "text/plain": [
              " 1.4    16234\n",
              "-1.8     9184\n",
              " 1.1     7763\n",
              "-0.1     3683\n",
              "-2.9     1663\n",
              "-3.4     1071\n",
              "-1.7      773\n",
              "-1.1      635\n",
              "-3.0      172\n",
              "-0.2       10\n",
              "Name: emp.var.rate, dtype: int64"
            ]
          },
          "metadata": {
            "tags": []
          },
          "execution_count": 58
        }
      ]
    },
    {
      "cell_type": "code",
      "metadata": {
        "id": "O5MPqQ-A73RQ",
        "colab": {
          "base_uri": "https://localhost:8080/",
          "height": 409
        },
        "outputId": "44faee40-1b61-4274-fe9f-14cc17584d26"
      },
      "source": [
        "plt.figure(figsize=(6,6))\n",
        "sns.countplot(x=\"emp.var.rate\",hue=\"y\",data=bank_df)\n",
        "plt.legend(loc='upper right')\n",
        "plt.ylim(0,5000)"
      ],
      "execution_count": null,
      "outputs": [
        {
          "output_type": "execute_result",
          "data": {
            "text/plain": [
              "(0.0, 5000.0)"
            ]
          },
          "metadata": {
            "tags": []
          },
          "execution_count": 59
        },
        {
          "output_type": "display_data",
          "data": {
            "image/png": "[encoded data removed]",
            "text/plain": [
              "<Figure size 432x432 with 1 Axes>"
            ]
          },
          "metadata": {
            "tags": [],
            "needs_background": "light"
          }
        }
      ]
    },
    {
      "cell_type": "code",
      "metadata": {
        "id": "zWeCUTUs73RT"
      },
      "source": [
        "#Emp. variation rate with negative values have more probability of subscribing the product than with positive values.\n",
        "#Thus we can convert it into categorical variable having positive or negative variation rate\n",
        "bank_df['emp.var.rate']=pd.cut(bank_df['emp.var.rate'],bins=[-5,0,5],labels=['Negative','Positive'])"
      ],
      "execution_count": null,
      "outputs": []
    },
    {
      "cell_type": "code",
      "metadata": {
        "id": "dwXT0oHR73RW",
        "colab": {
          "base_uri": "https://localhost:8080/",
          "height": 68
        },
        "outputId": "e38c2fbd-abce-4f7e-f1b1-7d60851073d0"
      },
      "source": [
        "bank_df['emp.var.rate'].value_counts()"
      ],
      "execution_count": null,
      "outputs": [
        {
          "output_type": "execute_result",
          "data": {
            "text/plain": [
              "Positive    23997\n",
              "Negative    17191\n",
              "Name: emp.var.rate, dtype: int64"
            ]
          },
          "metadata": {
            "tags": []
          },
          "execution_count": 61
        }
      ]
    },
    {
      "cell_type": "code",
      "metadata": {
        "id": "g5hqEzZC73RZ"
      },
      "source": [
        "dummies=pd.get_dummies(bank_df['emp.var.rate'])\n"
      ],
      "execution_count": null,
      "outputs": []
    },
    {
      "cell_type": "code",
      "metadata": {
        "id": "y8G7pvPO73Rc"
      },
      "source": [
        "del dummies['Positive']"
      ],
      "execution_count": null,
      "outputs": []
    },
    {
      "cell_type": "code",
      "metadata": {
        "id": "7ujpzaWg73Re"
      },
      "source": [
        "bank_df=pd.concat([bank_df,dummies],axis=1)"
      ],
      "execution_count": null,
      "outputs": []
    },
    {
      "cell_type": "code",
      "metadata": {
        "id": "mkV5d05X73Ri",
        "colab": {
          "base_uri": "https://localhost:8080/",
          "height": 476
        },
        "outputId": "0515a466-bf7d-46f9-cab1-1ef1b2fbf798"
      },
      "source": [
        "bank_df['cons.price.idx'].value_counts()"
      ],
      "execution_count": null,
      "outputs": [
        {
          "output_type": "execute_result",
          "data": {
            "text/plain": [
              "93.994    7763\n",
              "93.918    6685\n",
              "92.893    5794\n",
              "93.444    5175\n",
              "94.465    4374\n",
              "93.200    3616\n",
              "93.075    2458\n",
              "92.201     770\n",
              "92.963     715\n",
              "92.431     447\n",
              "92.649     357\n",
              "94.215     311\n",
              "94.199     303\n",
              "92.843     282\n",
              "92.379     267\n",
              "93.369     264\n",
              "94.027     233\n",
              "94.055     229\n",
              "93.876     212\n",
              "94.601     204\n",
              "92.469     178\n",
              "93.749     174\n",
              "92.713     172\n",
              "94.767     128\n",
              "93.798      67\n",
              "92.756      10\n",
              "Name: cons.price.idx, dtype: int64"
            ]
          },
          "metadata": {
            "tags": []
          },
          "execution_count": 65
        }
      ]
    },
    {
      "cell_type": "code",
      "metadata": {
        "id": "AnyeK3BH73Rk",
        "colab": {
          "base_uri": "https://localhost:8080/",
          "height": 476
        },
        "outputId": "1e7811f0-d8c1-4111-ab26-3365206535f7"
      },
      "source": [
        "bank_df['cons.conf.idx'].value_counts()"
      ],
      "execution_count": null,
      "outputs": [
        {
          "output_type": "execute_result",
          "data": {
            "text/plain": [
              "-36.4    7763\n",
              "-42.7    6685\n",
              "-46.2    5794\n",
              "-36.1    5175\n",
              "-41.8    4374\n",
              "-42.0    3616\n",
              "-47.1    2458\n",
              "-31.4     770\n",
              "-40.8     715\n",
              "-26.9     447\n",
              "-30.1     357\n",
              "-40.3     311\n",
              "-37.5     303\n",
              "-50.0     282\n",
              "-29.8     267\n",
              "-34.8     264\n",
              "-38.3     233\n",
              "-39.8     229\n",
              "-40.0     212\n",
              "-49.5     204\n",
              "-33.6     178\n",
              "-34.6     174\n",
              "-33.0     172\n",
              "-50.8     128\n",
              "-40.4      67\n",
              "-45.9      10\n",
              "Name: cons.conf.idx, dtype: int64"
            ]
          },
          "metadata": {
            "tags": []
          },
          "execution_count": 66
        }
      ]
    },
    {
      "cell_type": "code",
      "metadata": {
        "id": "9N7AnHdv73Rm",
        "colab": {
          "base_uri": "https://localhost:8080/",
          "height": 623
        },
        "outputId": "d3434172-3618-466d-e3a3-d60e2a59d1f9"
      },
      "source": [
        "plt.figure(figsize=(10,10))\n",
        "plt.subplot(2,1,1)\n",
        "sns.distplot(bank_df.loc[bank_df['y']=='no',['cons.price.idx']],hist=True,color='orangered',label='Not subscribed')\n",
        "sns.distplot(samp1['cons.price.idx'],hist=True,color='yellow',label='subscribed')\n",
        "plt.legend()\n",
        "plt.subplot(2,1,2)\n",
        "sns.distplot(bank_df.loc[bank_df['y']=='no',['cons.conf.idx']],hist=True,color='orangered',label='Not subscribed')\n",
        "sns.distplot(samp1['cons.conf.idx'],hist=True,color='yellow',label='subscribed')\n",
        "plt.legend()"
      ],
      "execution_count": null,
      "outputs": [
        {
          "output_type": "execute_result",
          "data": {
            "text/plain": [
              "<matplotlib.legend.Legend at 0x7f1cc891ae10>"
            ]
          },
          "metadata": {
            "tags": []
          },
          "execution_count": 67
        },
        {
          "output_type": "display_data",
          "data": {
            "image/png": "[encoded data removed]",
            "text/plain": [
              "<Figure size 720x720 with 2 Axes>"
            ]
          },
          "metadata": {
            "tags": [],
            "needs_background": "light"
          }
        }
      ]
    },
    {
      "cell_type": "code",
      "metadata": {
        "id": "7eZeCial73Rp"
      },
      "source": [
        "#In case of both consumer price and consumer coefficient index, there are certain intervals in which subscription rate is more."
      ],
      "execution_count": null,
      "outputs": []
    },
    {
      "cell_type": "code",
      "metadata": {
        "id": "2Ld-XMi973Rr",
        "colab": {
          "base_uri": "https://localhost:8080/",
          "height": 68
        },
        "outputId": "ded800af-91d1-40b2-af26-e2cc7dbfe3da"
      },
      "source": [
        "print('max. euribor 3 months rate:',bank_df['euribor3m'].max())\n",
        "print('min. euribor 3 months rate:',bank_df['euribor3m'].min())\n",
        "print('mean euribor 3 months rate:',bank_df['euribor3m'].mean())"
      ],
      "execution_count": null,
      "outputs": [
        {
          "output_type": "stream",
          "text": [
            "max. euribor 3 months rate: 5.045\n",
            "min. euribor 3 months rate: 0.634\n",
            "mean euribor 3 months rate: 3.621290812858068\n"
          ],
          "name": "stdout"
        }
      ]
    },
    {
      "cell_type": "code",
      "metadata": {
        "id": "vh0pbigX73Rx",
        "colab": {
          "base_uri": "https://localhost:8080/",
          "height": 351
        },
        "outputId": "27a4c3ad-0b28-4be1-824b-083519a391c4"
      },
      "source": [
        "plt.figure(figsize=(8,5))\n",
        "sns.distplot(bank_df.loc[bank_df['y']=='no',['euribor3m']],hist=True,color='orangered',label='Not subscribed')\n",
        "sns.distplot(samp1['euribor3m'],hist=True,color='yellow',label='subscribed')\n",
        "plt.legend()"
      ],
      "execution_count": null,
      "outputs": [
        {
          "output_type": "execute_result",
          "data": {
            "text/plain": [
              "<matplotlib.legend.Legend at 0x7f1cc9088ef0>"
            ]
          },
          "metadata": {
            "tags": []
          },
          "execution_count": 70
        },
        {
          "output_type": "display_data",
          "data": {
            "image/png": "[encoded data removed]",
            "text/plain": [
              "<Figure size 576x360 with 1 Axes>"
            ]
          },
          "metadata": {
            "tags": [],
            "needs_background": "light"
          }
        }
      ]
    },
    {
      "cell_type": "code",
      "metadata": {
        "id": "yvJWW7rU73Rz"
      },
      "source": [
        "#For values of euribor for 3 months less than 3, subscribed are more than non-subscibed\n",
        "bank_df['euribor3m']=pd.cut(bank_df['euribor3m'],bins=[0,3,6],labels=['profit_euribor','loss_euribor'])"
      ],
      "execution_count": null,
      "outputs": []
    },
    {
      "cell_type": "code",
      "metadata": {
        "id": "L-uuuC8v73R2"
      },
      "source": [
        "dummies=pd.get_dummies(bank_df['euribor3m'])\n",
        "del dummies['loss_euribor']\n"
      ],
      "execution_count": null,
      "outputs": []
    },
    {
      "cell_type": "code",
      "metadata": {
        "id": "yJl3orB373R4"
      },
      "source": [
        "bank_df=pd.concat([bank_df,dummies],axis=1)"
      ],
      "execution_count": null,
      "outputs": []
    },
    {
      "cell_type": "code",
      "metadata": {
        "id": "f8mYopKb73R7",
        "colab": {
          "base_uri": "https://localhost:8080/",
          "height": 221
        },
        "outputId": "fe91dfd9-819d-4836-ef56-1e71eb21de84"
      },
      "source": [
        "bank_df['nr.employed'].value_counts()"
      ],
      "execution_count": null,
      "outputs": [
        {
          "output_type": "execute_result",
          "data": {
            "text/plain": [
              "5228.1    16234\n",
              "5099.1     8534\n",
              "5191.0     7763\n",
              "5195.8     3683\n",
              "5076.2     1663\n",
              "5017.5     1071\n",
              "4991.6      773\n",
              "5008.7      650\n",
              "4963.6      635\n",
              "5023.5      172\n",
              "5176.3       10\n",
              "Name: nr.employed, dtype: int64"
            ]
          },
          "metadata": {
            "tags": []
          },
          "execution_count": 74
        }
      ]
    },
    {
      "cell_type": "code",
      "metadata": {
        "id": "DhX9pdUo73R_",
        "colab": {
          "base_uri": "https://localhost:8080/",
          "height": 406
        },
        "outputId": "0458a10b-5f65-48e8-8893-674857359898"
      },
      "source": [
        "plt.figure(figsize=(6,6))\n",
        "sns.countplot(x=\"nr.employed\",hue=\"y\",data=bank_df)\n",
        "plt.legend(loc='upper right')\n",
        "plt.xlabel('No. of employees')\n",
        "plt.ylim(0,)"
      ],
      "execution_count": null,
      "outputs": [
        {
          "output_type": "execute_result",
          "data": {
            "text/plain": [
              "(0.0, 16136.4)"
            ]
          },
          "metadata": {
            "tags": []
          },
          "execution_count": 75
        },
        {
          "output_type": "display_data",
          "data": {
            "image/png": "[encoded data removed]",
            "text/plain": [
              "<Figure size 432x432 with 1 Axes>"
            ]
          },
          "metadata": {
            "tags": [],
            "needs_background": "light"
          }
        }
      ]
    },
    {
      "cell_type": "code",
      "metadata": {
        "id": "J5uJHlxo73SD"
      },
      "source": [
        "#More no. of employees employed doesn't give any increase in subscription"
      ],
      "execution_count": null,
      "outputs": []
    },
    {
      "cell_type": "code",
      "metadata": {
        "id": "wRskBtr373SL"
      },
      "source": [
        "dummies=pd.get_dummies(bank_df['age'],drop_first=True)\n",
        "bank_df=pd.concat([bank_df,dummies],axis=1)"
      ],
      "execution_count": null,
      "outputs": []
    },
    {
      "cell_type": "code",
      "metadata": {
        "id": "fgLa6GJd73SQ"
      },
      "source": [
        "del bank_df['age']"
      ],
      "execution_count": null,
      "outputs": []
    },
    {
      "cell_type": "code",
      "metadata": {
        "id": "iC1KSHe073ST"
      },
      "source": [
        "del bank_df['contact']\n",
        "del bank_df['emp.var.rate']\n",
        "del bank_df['euribor3m']\n",
        "del bank_df['nr.employed']"
      ],
      "execution_count": null,
      "outputs": []
    },
    {
      "cell_type": "code",
      "metadata": {
        "id": "OnH9QcZi73SV",
        "colab": {
          "base_uri": "https://localhost:8080/",
          "height": 714
        },
        "outputId": "a3d9c9ca-62c2-4cf0-c483-d112ac457bda"
      },
      "source": [
        "bank_df.dtypes"
      ],
      "execution_count": null,
      "outputs": [
        {
          "output_type": "execute_result",
          "data": {
            "text/plain": [
              "cellular                 uint8\n",
              "no                       uint8\n",
              "yes                      uint8\n",
              "no                       uint8\n",
              "yes                      uint8\n",
              "no                       uint8\n",
              "yes                      uint8\n",
              "basic.4y                 uint8\n",
              "basic.6y                 uint8\n",
              "basic.9y                 uint8\n",
              "high.school              uint8\n",
              "illiterate               uint8\n",
              "professional.course      uint8\n",
              "university.degree        uint8\n",
              "divorced                 uint8\n",
              "married                  uint8\n",
              "single                   uint8\n",
              "blue-collar              uint8\n",
              "entrepreneur             uint8\n",
              "housemaid                uint8\n",
              "management               uint8\n",
              "retired                  uint8\n",
              "self-employed            uint8\n",
              "services                 uint8\n",
              "student                  uint8\n",
              "technician               uint8\n",
              "unemployed               uint8\n",
              "unknown                  uint8\n",
              "duration                 int64\n",
              "campaign                 int64\n",
              "pdays                    int64\n",
              "previous                 int64\n",
              "cons.price.idx         float64\n",
              "cons.conf.idx          float64\n",
              "y                       object\n",
              "Negative                 uint8\n",
              "profit_euribor           uint8\n",
              "young                    uint8\n",
              "mature                   uint8\n",
              "declining                uint8\n",
              "dtype: object"
            ]
          },
          "metadata": {
            "tags": []
          },
          "execution_count": 80
        }
      ]
    },
    {
      "cell_type": "code",
      "metadata": {
        "id": "duZN0yfd73SY"
      },
      "source": [
        "samp=bank_df.copy()\n",
        "del samp['y']\n",
        "X=samp.values"
      ],
      "execution_count": null,
      "outputs": []
    },
    {
      "cell_type": "code",
      "metadata": {
        "id": "11EsEqDzXxNJ",
        "colab": {
          "base_uri": "https://localhost:8080/",
          "height": 34
        },
        "outputId": "4b4361cd-8272-48c1-f7cc-c9a2aabebb5d"
      },
      "source": [
        "bank_df.shape"
      ],
      "execution_count": null,
      "outputs": [
        {
          "output_type": "execute_result",
          "data": {
            "text/plain": [
              "(41188, 40)"
            ]
          },
          "metadata": {
            "tags": []
          },
          "execution_count": 82
        }
      ]
    },
    {
      "cell_type": "code",
      "metadata": {
        "id": "BC8GO6Zx73Sb"
      },
      "source": [
        "y=bank_df.loc[:,['y']].values"
      ],
      "execution_count": null,
      "outputs": []
    },
    {
      "cell_type": "code",
      "metadata": {
        "id": "dcpqB5CC73Sg"
      },
      "source": [
        "y=y.reshape((len(y),))"
      ],
      "execution_count": null,
      "outputs": []
    },
    {
      "cell_type": "code",
      "metadata": {
        "id": "ZSKp5gsG73Sj",
        "colab": {
          "base_uri": "https://localhost:8080/",
          "height": 34
        },
        "outputId": "57954bc6-7a82-4925-bc4f-c4592f4959c5"
      },
      "source": [
        "y.shape"
      ],
      "execution_count": null,
      "outputs": [
        {
          "output_type": "execute_result",
          "data": {
            "text/plain": [
              "(41188,)"
            ]
          },
          "metadata": {
            "tags": []
          },
          "execution_count": 85
        }
      ]
    },
    {
      "cell_type": "code",
      "metadata": {
        "id": "2H45iWoO73Sm",
        "colab": {
          "base_uri": "https://localhost:8080/",
          "height": 34
        },
        "outputId": "2bf7384e-bd66-48f6-fffd-f47ab77e802b"
      },
      "source": [
        "X.shape"
      ],
      "execution_count": null,
      "outputs": [
        {
          "output_type": "execute_result",
          "data": {
            "text/plain": [
              "(41188, 39)"
            ]
          },
          "metadata": {
            "tags": []
          },
          "execution_count": 86
        }
      ]
    },
    {
      "cell_type": "code",
      "metadata": {
        "id": "N4BaiZrDYE1e",
        "colab": {
          "base_uri": "https://localhost:8080/",
          "height": 34
        },
        "outputId": "26127641-8ea4-448d-a9da-e7e27641cb22"
      },
      "source": [
        "print(y)"
      ],
      "execution_count": null,
      "outputs": [
        {
          "output_type": "stream",
          "text": [
            "['no' 'no' 'no' ... 'no' 'yes' 'no']\n"
          ],
          "name": "stdout"
        }
      ]
    },
    {
      "cell_type": "code",
      "metadata": {
        "id": "p8fUoP-TYJpT",
        "colab": {
          "base_uri": "https://localhost:8080/",
          "height": 102
        },
        "outputId": "8e2c50d0-39d4-47a0-f8bf-97f21f1dbc82"
      },
      "source": [
        "print(X[1])"
      ],
      "execution_count": null,
      "outputs": [
        {
          "output_type": "stream",
          "text": [
            "[  0.      1.      0.      1.      0.      0.      0.      0.      0.\n",
            "   0.      1.      0.      0.      0.      0.      1.      0.      0.\n",
            "   0.      0.      0.      0.      0.      1.      0.      0.      0.\n",
            "   0.    149.      1.    999.      0.     93.994 -36.4     0.      0.\n",
            "   0.      0.      1.   ]\n"
          ],
          "name": "stdout"
        }
      ]
    },
    {
      "cell_type": "code",
      "metadata": {
        "id": "kVmaEZHj73Sp"
      },
      "source": [
        "from sklearn.preprocessing import StandardScaler\n",
        "SS=StandardScaler()\n",
        "X=SS.fit_transform(X)"
      ],
      "execution_count": null,
      "outputs": []
    },
    {
      "cell_type": "code",
      "metadata": {
        "id": "YXBGGWYwYIZK",
        "colab": {
          "base_uri": "https://localhost:8080/",
          "height": 136
        },
        "outputId": "5d6e18fd-feaf-452f-e4a6-b18f51d116f7"
      },
      "source": [
        "print(X[1])"
      ],
      "execution_count": null,
      "outputs": [
        {
          "output_type": "stream",
          "text": [
            "[-1.31826996  0.46173139 -0.42287213  1.10081447 -1.04887691 -1.94661304\n",
            " -0.00853476 -0.3358992  -0.24274754 -0.41474269  1.82448461 -0.0209096\n",
            " -0.38191849 -0.64753149 -0.35509663  0.80763764 -0.62493754 -0.53831699\n",
            " -0.19143021 -0.16252837 -0.2764353  -0.2087573  -0.18903213  3.06225816\n",
            " -0.1473267  -0.44244927 -0.15887166 -0.08987076 -0.42150051 -0.56592197\n",
            "  0.1954139  -0.34949428  0.72272247  0.88644656 -0.84639306 -0.69818937\n",
            " -1.0401367  -0.73874756  3.64846917]\n"
          ],
          "name": "stdout"
        }
      ]
    },
    {
      "cell_type": "code",
      "metadata": {
        "id": "9WZaQ-Oi73Ss"
      },
      "source": [
        "from sklearn.preprocessing import LabelEncoder\n",
        "le=LabelEncoder()\n",
        "y=le.fit_transform(y)"
      ],
      "execution_count": null,
      "outputs": []
    },
    {
      "cell_type": "code",
      "metadata": {
        "id": "i95gYJ8ZZNjr",
        "colab": {
          "base_uri": "https://localhost:8080/",
          "height": 34
        },
        "outputId": "37253419-1712-42e8-d846-b968d5ea9707"
      },
      "source": [
        "y"
      ],
      "execution_count": null,
      "outputs": [
        {
          "output_type": "execute_result",
          "data": {
            "text/plain": [
              "array([0, 0, 0, ..., 0, 1, 0])"
            ]
          },
          "metadata": {
            "tags": []
          },
          "execution_count": 92
        }
      ]
    },
    {
      "cell_type": "code",
      "metadata": {
        "id": "m4ON9MqhZa6t",
        "colab": {
          "base_uri": "https://localhost:8080/",
          "height": 105
        },
        "outputId": "edf33021-3c90-4bb5-d50c-598d8d80220b"
      },
      "source": [
        "from sklearn.discriminant_analysis import LinearDiscriminantAnalysis as LDA\n",
        "lda=LDA(n_components=10)\n",
        "lda.fit(X,y)\n",
        "X_new=lda.transform(X)"
      ],
      "execution_count": null,
      "outputs": [
        {
          "output_type": "stream",
          "text": [
            "/usr/local/lib/python3.6/dist-packages/sklearn/discriminant_analysis.py:463: ChangedBehaviorWarning: n_components cannot be larger than min(n_features, n_classes - 1). Using min(n_features, n_classes - 1) = min(39, 2 - 1) = 1 components.\n",
            "  ChangedBehaviorWarning)\n",
            "/usr/local/lib/python3.6/dist-packages/sklearn/discriminant_analysis.py:469: FutureWarning: In version 0.23, setting n_components > min(n_features, n_classes - 1) will raise a ValueError. You should set n_components to None (default), or a value smaller or equal to min(n_features, n_classes - 1).\n",
            "  warnings.warn(future_msg, FutureWarning)\n"
          ],
          "name": "stderr"
        }
      ]
    },
    {
      "cell_type": "code",
      "metadata": {
        "id": "XrUelqf6bw-O",
        "colab": {
          "base_uri": "https://localhost:8080/",
          "height": 34
        },
        "outputId": "6c39fa69-1155-437a-92e4-da7641062f5b"
      },
      "source": [
        "X_new.shape"
      ],
      "execution_count": null,
      "outputs": [
        {
          "output_type": "execute_result",
          "data": {
            "text/plain": [
              "(41188, 1)"
            ]
          },
          "metadata": {
            "tags": []
          },
          "execution_count": 95
        }
      ]
    },
    {
      "cell_type": "code",
      "metadata": {
        "id": "Sy5vlL2M73Sv",
        "colab": {
          "base_uri": "https://localhost:8080/",
          "height": 51
        },
        "outputId": "3898037b-85fc-4514-eed6-2f5038c85c78"
      },
      "source": [
        "from sklearn.model_selection import train_test_split\n",
        "X_train,X_test,y_train,y_test=train_test_split(X,y,test_size=.25,random_state=0)\n",
        "print(X_train.shape,y_train.shape)\n",
        "print(X_test.shape,y_test.shape)"
      ],
      "execution_count": null,
      "outputs": [
        {
          "output_type": "stream",
          "text": [
            "(30891, 39) (30891,)\n",
            "(10297, 39) (10297,)\n"
          ],
          "name": "stdout"
        }
      ]
    },
    {
      "cell_type": "code",
      "metadata": {
        "id": "vLfqanhQ73Sy"
      },
      "source": [
        "from sklearn.model_selection import cross_val_score"
      ],
      "execution_count": null,
      "outputs": []
    },
    {
      "cell_type": "code",
      "metadata": {
        "id": "fWEAqkks73S1"
      },
      "source": [
        "from sklearn.model_selection import GridSearchCV"
      ],
      "execution_count": null,
      "outputs": []
    },
    {
      "cell_type": "code",
      "metadata": {
        "id": "AuI32-vt73S7"
      },
      "source": [
        "from sklearn.metrics import accuracy_score,confusion_matrix,f1_score"
      ],
      "execution_count": null,
      "outputs": []
    },
    {
      "cell_type": "markdown",
      "metadata": {
        "id": "eC-cqwU373S9"
      },
      "source": [
        "### Logistic Regression model"
      ]
    },
    {
      "cell_type": "code",
      "metadata": {
        "id": "ZtWdAZst73S9"
      },
      "source": [
        "from sklearn.linear_model import LogisticRegression\n",
        "LR=LogisticRegression(random_state=0)"
      ],
      "execution_count": null,
      "outputs": []
    },
    {
      "cell_type": "code",
      "metadata": {
        "id": "22P0BMmT73TA"
      },
      "source": [
        "params=[{'C':[.1,.5,1,2,3,5],'solver':['lbfgs','liblinear']}]\n",
        "grid=GridSearchCV(estimator=LR,param_grid=params,scoring='accuracy',cv=10)"
      ],
      "execution_count": null,
      "outputs": []
    },
    {
      "cell_type": "code",
      "metadata": {
        "id": "jRuKta9C73TC",
        "colab": {
          "base_uri": "https://localhost:8080/",
          "height": 255
        },
        "outputId": "bbac6533-7f3d-45e4-d585-a78e3dee5552"
      },
      "source": [
        "grid.fit(X,y)"
      ],
      "execution_count": null,
      "outputs": [
        {
          "output_type": "execute_result",
          "data": {
            "text/plain": [
              "GridSearchCV(cv=10, error_score=nan,\n",
              "             estimator=LogisticRegression(C=1.0, class_weight=None, dual=False,\n",
              "                                          fit_intercept=True,\n",
              "                                          intercept_scaling=1, l1_ratio=None,\n",
              "                                          max_iter=100, multi_class='auto',\n",
              "                                          n_jobs=None, penalty='l2',\n",
              "                                          random_state=0, solver='lbfgs',\n",
              "                                          tol=0.0001, verbose=0,\n",
              "                                          warm_start=False),\n",
              "             iid='deprecated', n_jobs=None,\n",
              "             param_grid=[{'C': [0.1, 0.5, 1, 2, 3, 5],\n",
              "                          'solver': ['lbfgs', 'liblinear']}],\n",
              "             pre_dispatch='2*n_jobs', refit=True, return_train_score=False,\n",
              "             scoring='accuracy', verbose=0)"
            ]
          },
          "metadata": {
            "tags": []
          },
          "execution_count": 102
        }
      ]
    },
    {
      "cell_type": "code",
      "metadata": {
        "id": "7ASg9SB873TE",
        "colab": {
          "base_uri": "https://localhost:8080/",
          "height": 51
        },
        "outputId": "3906751a-7614-4fc3-a359-748795d767f4"
      },
      "source": [
        "pm=grid.best_params_\n",
        "score=grid.best_score_\n",
        "print(pm)\n",
        "print(score)"
      ],
      "execution_count": null,
      "outputs": [
        {
          "output_type": "stream",
          "text": [
            "{'C': 0.1, 'solver': 'lbfgs'}\n",
            "0.8503358557890612\n"
          ],
          "name": "stdout"
        }
      ]
    },
    {
      "cell_type": "code",
      "metadata": {
        "id": "Q-p_xZGy73TG"
      },
      "source": [
        "lr=LogisticRegression(C=.1,solver='lbfgs',random_state=0)"
      ],
      "execution_count": null,
      "outputs": []
    },
    {
      "cell_type": "code",
      "metadata": {
        "id": "3fWdsQNg73TI",
        "colab": {
          "base_uri": "https://localhost:8080/",
          "height": 102
        },
        "outputId": "06660d6a-7d83-4ffb-81e7-a763d786e313"
      },
      "source": [
        "lr.fit(X_train,y_train)"
      ],
      "execution_count": null,
      "outputs": [
        {
          "output_type": "execute_result",
          "data": {
            "text/plain": [
              "LogisticRegression(C=0.1, class_weight=None, dual=False, fit_intercept=True,\n",
              "                   intercept_scaling=1, l1_ratio=None, max_iter=100,\n",
              "                   multi_class='auto', n_jobs=None, penalty='l2',\n",
              "                   random_state=0, solver='lbfgs', tol=0.0001, verbose=0,\n",
              "                   warm_start=False)"
            ]
          },
          "metadata": {
            "tags": []
          },
          "execution_count": 105
        }
      ]
    },
    {
      "cell_type": "code",
      "metadata": {
        "id": "QONrUZ0Z73TN"
      },
      "source": [
        "y_pred=lr.predict(X_test)"
      ],
      "execution_count": null,
      "outputs": []
    },
    {
      "cell_type": "code",
      "metadata": {
        "id": "LyMOX-6N73TQ",
        "colab": {
          "base_uri": "https://localhost:8080/",
          "height": 51
        },
        "outputId": "b83e0285-de59-4789-8f15-f5cb523479d8"
      },
      "source": [
        "cm=confusion_matrix(y_test,y_pred)\n",
        "print(cm)"
      ],
      "execution_count": null,
      "outputs": [
        {
          "output_type": "stream",
          "text": [
            "[[8917  222]\n",
            " [ 669  489]]\n"
          ],
          "name": "stdout"
        }
      ]
    },
    {
      "cell_type": "markdown",
      "metadata": {
        "id": "NMSFoRn3j5di"
      },
      "source": [
        "**The accuracy score obtained in Logistic Regression is .85**"
      ]
    },
    {
      "cell_type": "markdown",
      "metadata": {
        "id": "ijMErcuV73TU"
      },
      "source": [
        "### KNN model"
      ]
    },
    {
      "cell_type": "code",
      "metadata": {
        "id": "bMwW2am273TV"
      },
      "source": [
        "from sklearn.neighbors import KNeighborsClassifier\n",
        "knc=KNeighborsClassifier(n_neighbors=2)"
      ],
      "execution_count": null,
      "outputs": []
    },
    {
      "cell_type": "code",
      "metadata": {
        "id": "TVqaIjsr_9JH"
      },
      "source": [
        "params={'n_neighbors':[1,2,3,4,5,6],'metric':['minkowski']}\n",
        "grid=GridSearchCV(estimator=knc,param_grid=params,cv=10,scoring='accuracy')"
      ],
      "execution_count": null,
      "outputs": []
    },
    {
      "cell_type": "code",
      "metadata": {
        "id": "WaxgIvU4Dpft",
        "colab": {
          "base_uri": "https://localhost:8080/",
          "height": 204
        },
        "outputId": "e0c5b66e-e81d-4bce-86fc-8f9704205318"
      },
      "source": [
        "grid.fit(X,y)"
      ],
      "execution_count": null,
      "outputs": [
        {
          "output_type": "execute_result",
          "data": {
            "text/plain": [
              "GridSearchCV(cv=10, error_score=nan,\n",
              "             estimator=KNeighborsClassifier(algorithm='auto', leaf_size=30,\n",
              "                                            metric='minkowski',\n",
              "                                            metric_params=None, n_jobs=None,\n",
              "                                            n_neighbors=2, p=2,\n",
              "                                            weights='uniform'),\n",
              "             iid='deprecated', n_jobs=None,\n",
              "             param_grid={'metric': ['minkowski'],\n",
              "                         'n_neighbors': [1, 2, 3, 4, 5, 6]},\n",
              "             pre_dispatch='2*n_jobs', refit=True, return_train_score=False,\n",
              "             scoring='accuracy', verbose=0)"
            ]
          },
          "metadata": {
            "tags": []
          },
          "execution_count": 110
        }
      ]
    },
    {
      "cell_type": "code",
      "metadata": {
        "id": "dDX4mu22EJ2c",
        "colab": {
          "base_uri": "https://localhost:8080/",
          "height": 51
        },
        "outputId": "d75adfb5-e078-4230-86c3-6a929dfaad88"
      },
      "source": [
        "pr=grid.best_params_\n",
        "score=grid.best_score_\n",
        "print(pr)\n",
        "print(score)"
      ],
      "execution_count": null,
      "outputs": [
        {
          "output_type": "stream",
          "text": [
            "{'metric': 'minkowski', 'n_neighbors': 6}\n",
            "0.8560446613680123\n"
          ],
          "name": "stdout"
        }
      ]
    },
    {
      "cell_type": "code",
      "metadata": {
        "id": "rVXEK7jtGbmb"
      },
      "source": [
        "KNC=KNeighborsClassifier(n_neighbors=6)"
      ],
      "execution_count": null,
      "outputs": []
    },
    {
      "cell_type": "code",
      "metadata": {
        "id": "Cjy0nzjcGlZ9",
        "colab": {
          "base_uri": "https://localhost:8080/",
          "height": 68
        },
        "outputId": "24f57f2e-6547-4fd9-a668-0e6d748d3b4a"
      },
      "source": [
        "KNC.fit(X_train,y_train)"
      ],
      "execution_count": null,
      "outputs": [
        {
          "output_type": "execute_result",
          "data": {
            "text/plain": [
              "KNeighborsClassifier(algorithm='auto', leaf_size=30, metric='minkowski',\n",
              "                     metric_params=None, n_jobs=None, n_neighbors=6, p=2,\n",
              "                     weights='uniform')"
            ]
          },
          "metadata": {
            "tags": []
          },
          "execution_count": 113
        }
      ]
    },
    {
      "cell_type": "code",
      "metadata": {
        "id": "PiZTita2HCtw"
      },
      "source": [
        "y_pred=KNC.predict(X_test)"
      ],
      "execution_count": null,
      "outputs": []
    },
    {
      "cell_type": "code",
      "metadata": {
        "id": "7_gM9jEPHIyM",
        "colab": {
          "base_uri": "https://localhost:8080/",
          "height": 51
        },
        "outputId": "4d0c3b1d-0b84-4fe7-a770-e55425191116"
      },
      "source": [
        "cm=confusion_matrix(y_test,y_pred)\n",
        "print(cm)"
      ],
      "execution_count": null,
      "outputs": [
        {
          "output_type": "stream",
          "text": [
            "[[8972  167]\n",
            " [ 879  279]]\n"
          ],
          "name": "stdout"
        }
      ]
    },
    {
      "cell_type": "code",
      "metadata": {
        "id": "DVycYPi4HS2M",
        "colab": {
          "base_uri": "https://localhost:8080/",
          "height": 34
        },
        "outputId": "d9606cdc-f397-444f-ad6b-2c20230aad8b"
      },
      "source": [
        "print('F1-Score:',f1_score(y_test,y_pred))"
      ],
      "execution_count": null,
      "outputs": [
        {
          "output_type": "stream",
          "text": [
            "F1-Score: 0.3478802992518703\n"
          ],
          "name": "stdout"
        }
      ]
    },
    {
      "cell_type": "markdown",
      "metadata": {
        "id": "KB8bvkShkPee"
      },
      "source": [
        "**Accuracy score in KNN is .856**"
      ]
    },
    {
      "cell_type": "markdown",
      "metadata": {
        "id": "LN7IZDx1K9Bq"
      },
      "source": [
        "### SVC classifier"
      ]
    },
    {
      "cell_type": "code",
      "metadata": {
        "id": "9WLiV9U1K8Cs"
      },
      "source": [
        "from sklearn.svm import SVC"
      ],
      "execution_count": null,
      "outputs": []
    },
    {
      "cell_type": "code",
      "metadata": {
        "id": "XI3H0_6TKl2F",
        "colab": {
          "base_uri": "https://localhost:8080/",
          "height": 85
        },
        "outputId": "0c779d39-7562-4b6b-8a93-3646c6141c5a"
      },
      "source": [
        "svc=SVC(C=20,kernel='rbf',random_state=0)\n",
        "svc.fit(X,y)\n",
        "      "
      ],
      "execution_count": null,
      "outputs": [
        {
          "output_type": "execute_result",
          "data": {
            "text/plain": [
              "SVC(C=20, break_ties=False, cache_size=200, class_weight=None, coef0=0.0,\n",
              "    decision_function_shape='ovr', degree=3, gamma='scale', kernel='rbf',\n",
              "    max_iter=-1, probability=False, random_state=0, shrinking=True, tol=0.001,\n",
              "    verbose=False)"
            ]
          },
          "metadata": {
            "tags": []
          },
          "execution_count": 150
        }
      ]
    },
    {
      "cell_type": "code",
      "metadata": {
        "id": "pzTOWESTK6sU"
      },
      "source": [
        "y_pred=svc.predict(X_test)\n",
        "cm=confusion_matrix(y_test,y_pred)"
      ],
      "execution_count": null,
      "outputs": []
    },
    {
      "cell_type": "code",
      "metadata": {
        "id": "APnzhZF_SRWQ",
        "colab": {
          "base_uri": "https://localhost:8080/",
          "height": 51
        },
        "outputId": "506231ca-8a22-4547-cdff-27b2830b2986"
      },
      "source": [
        "print(cm)"
      ],
      "execution_count": null,
      "outputs": [
        {
          "output_type": "stream",
          "text": [
            "[[9040   99]\n",
            " [ 372  786]]\n"
          ],
          "name": "stdout"
        }
      ]
    },
    {
      "cell_type": "code",
      "metadata": {
        "id": "dHV6_47bkQIg",
        "colab": {
          "base_uri": "https://localhost:8080/",
          "height": 51
        },
        "outputId": "0064eb44-235c-4402-d01f-dad951761499"
      },
      "source": [
        "print('F1-score:',f1_score(y_test,y_pred))\n",
        "print('Accuracy score:',svc.score(X_test,y_test))"
      ],
      "execution_count": null,
      "outputs": [
        {
          "output_type": "stream",
          "text": [
            "F1-score: 0.7694566813509545\n",
            "Accuracy score: 0.9542585218995824\n"
          ],
          "name": "stdout"
        }
      ]
    },
    {
      "cell_type": "markdown",
      "metadata": {
        "id": "DQdsVXCtkmCf"
      },
      "source": [
        "**Accuracy score in SVC in .954**"
      ]
    },
    {
      "cell_type": "markdown",
      "metadata": {
        "id": "5YsPvii1oSyB"
      },
      "source": [
        "### DecisionTree Classifier"
      ]
    },
    {
      "cell_type": "code",
      "metadata": {
        "id": "PWCLVDk9oXqj"
      },
      "source": [
        "from sklearn.tree import DecisionTreeClassifier"
      ],
      "execution_count": null,
      "outputs": []
    },
    {
      "cell_type": "code",
      "metadata": {
        "id": "g-d4ztUMobth",
        "colab": {
          "base_uri": "https://localhost:8080/",
          "height": 119
        },
        "outputId": "38e93094-48a6-47a9-ec6c-fba02513b620"
      },
      "source": [
        "dtc=DecisionTreeClassifier(random_state=0,criterion='entropy')\n",
        "dtc.fit(X_train,y_train)"
      ],
      "execution_count": null,
      "outputs": [
        {
          "output_type": "execute_result",
          "data": {
            "text/plain": [
              "DecisionTreeClassifier(ccp_alpha=0.0, class_weight=None, criterion='entropy',\n",
              "                       max_depth=None, max_features=None, max_leaf_nodes=None,\n",
              "                       min_impurity_decrease=0.0, min_impurity_split=None,\n",
              "                       min_samples_leaf=1, min_samples_split=2,\n",
              "                       min_weight_fraction_leaf=0.0, presort='deprecated',\n",
              "                       random_state=0, splitter='best')"
            ]
          },
          "metadata": {
            "tags": []
          },
          "execution_count": 158
        }
      ]
    },
    {
      "cell_type": "code",
      "metadata": {
        "id": "3eY0u62-o-lh"
      },
      "source": [
        "y_pred=dtc.predict(X_test)\n",
        "cm=confusion_matrix(y_test,y_pred)"
      ],
      "execution_count": null,
      "outputs": []
    },
    {
      "cell_type": "code",
      "metadata": {
        "id": "MGsP_NrgpN3W",
        "colab": {
          "base_uri": "https://localhost:8080/",
          "height": 85
        },
        "outputId": "ce33d5f8-9552-459b-d09b-974023d05eb8"
      },
      "source": [
        "print(cm)\n",
        "print('F1-Score:',f1_score(y_test,y_pred))\n",
        "print('accuracy:',dtc.score(X_test,y_test))"
      ],
      "execution_count": null,
      "outputs": [
        {
          "output_type": "stream",
          "text": [
            "[[8546  593]\n",
            " [ 579  579]]\n",
            "F1-Score: 0.4969957081545065\n",
            "accuracy: 0.886180440905118\n"
          ],
          "name": "stdout"
        }
      ]
    },
    {
      "cell_type": "markdown",
      "metadata": {
        "id": "_m83STuMku17"
      },
      "source": [
        "**Accuracy score in Decision Tree Classifier is .88**"
      ]
    },
    {
      "cell_type": "markdown",
      "metadata": {
        "id": "gt5F6yNrpqnx"
      },
      "source": [
        "### RandomForest Classifier"
      ]
    },
    {
      "cell_type": "code",
      "metadata": {
        "id": "mnrpdEi7pvHf"
      },
      "source": [
        "from sklearn.ensemble import RandomForestClassifier"
      ],
      "execution_count": null,
      "outputs": []
    },
    {
      "cell_type": "code",
      "metadata": {
        "id": "lhshJu7Op0mc",
        "colab": {
          "base_uri": "https://localhost:8080/",
          "height": 153
        },
        "outputId": "45e28558-79ad-4f10-ac05-913ddb441c89"
      },
      "source": [
        "rfc=RandomForestClassifier(n_estimators=100,random_state=0)\n",
        "rfc.fit(X_train,y_train)"
      ],
      "execution_count": null,
      "outputs": [
        {
          "output_type": "execute_result",
          "data": {
            "text/plain": [
              "RandomForestClassifier(bootstrap=True, ccp_alpha=0.0, class_weight=None,\n",
              "                       criterion='gini', max_depth=None, max_features='auto',\n",
              "                       max_leaf_nodes=None, max_samples=None,\n",
              "                       min_impurity_decrease=0.0, min_impurity_split=None,\n",
              "                       min_samples_leaf=1, min_samples_split=2,\n",
              "                       min_weight_fraction_leaf=0.0, n_estimators=100,\n",
              "                       n_jobs=None, oob_score=False, random_state=0, verbose=0,\n",
              "                       warm_start=False)"
            ]
          },
          "metadata": {
            "tags": []
          },
          "execution_count": 162
        }
      ]
    },
    {
      "cell_type": "code",
      "metadata": {
        "id": "oD4nxOP2qCli",
        "colab": {
          "base_uri": "https://localhost:8080/",
          "height": 85
        },
        "outputId": "0a02772d-43a4-4f17-fc6e-b7d928f5cbf7"
      },
      "source": [
        "y_pred=rfc.predict(X_test)\n",
        "cm=confusion_matrix(y_test,y_pred)\n",
        "print(cm)\n",
        "print('F1-score:',f1_score(y_test,y_pred))\n",
        "print('accuracy:',rfc.score(X_test,y_test))"
      ],
      "execution_count": null,
      "outputs": [
        {
          "output_type": "stream",
          "text": [
            "[[8820  319]\n",
            " [ 607  551]]\n",
            "F1-score: 0.5433925049309665\n",
            "accuracy: 0.9100708944352724\n"
          ],
          "name": "stdout"
        }
      ]
    },
    {
      "cell_type": "code",
      "metadata": {
        "id": "7bpPm_sjqdk5"
      },
      "source": [
        "from sklearn.model_selection import RandomizedSearchCV"
      ],
      "execution_count": null,
      "outputs": []
    },
    {
      "cell_type": "code",
      "metadata": {
        "id": "ZG8p5sddq_zd",
        "colab": {
          "base_uri": "https://localhost:8080/",
          "height": 54
        },
        "outputId": "4195be53-3eed-4e6e-f205-a172e94e09b0"
      },
      "source": [
        "params={'n_estimators':[10,50,100],\n",
        "        'max_features':['auto','sqrt'],\n",
        "        'min_samples_split':[2,5,10],\n",
        "        'bootstrap':[True,False]}\n",
        "print(params)        "
      ],
      "execution_count": null,
      "outputs": [
        {
          "output_type": "stream",
          "text": [
            "{'n_estimators': [10, 50, 100], 'max_features': ['auto', 'sqrt'], 'min_samples_split': [2, 5, 10], 'bootstrap': [True, False]}\n"
          ],
          "name": "stdout"
        }
      ]
    },
    {
      "cell_type": "code",
      "metadata": {
        "id": "QdhwujUYr9BB"
      },
      "source": [
        "rf_random=RandomizedSearchCV(rfc,params,n_iter=100,scoring='f1',n_jobs=-1,verbose=0,cv=3,random_state=0)"
      ],
      "execution_count": null,
      "outputs": []
    },
    {
      "cell_type": "code",
      "metadata": {
        "id": "3-sPyBVZslsa",
        "colab": {
          "base_uri": "https://localhost:8080/",
          "height": 513
        },
        "outputId": "2900336a-a467-405e-b5d2-39ba8f050db6"
      },
      "source": [
        "rf_random.fit(X_train,y_train)"
      ],
      "execution_count": null,
      "outputs": [
        {
          "output_type": "stream",
          "text": [
            "/usr/local/lib/python3.6/dist-packages/sklearn/model_selection/_search.py:281: UserWarning: The total space of parameters 36 is smaller than n_iter=100. Running 36 iterations. For exhaustive searches, use GridSearchCV.\n",
            "  % (grid_size, self.n_iter, grid_size), UserWarning)\n"
          ],
          "name": "stderr"
        },
        {
          "output_type": "execute_result",
          "data": {
            "text/plain": [
              "RandomizedSearchCV(cv=3, error_score=nan,\n",
              "                   estimator=RandomForestClassifier(bootstrap=True,\n",
              "                                                    ccp_alpha=0.0,\n",
              "                                                    class_weight=None,\n",
              "                                                    criterion='gini',\n",
              "                                                    max_depth=None,\n",
              "                                                    max_features='auto',\n",
              "                                                    max_leaf_nodes=None,\n",
              "                                                    max_samples=None,\n",
              "                                                    min_impurity_decrease=0.0,\n",
              "                                                    min_impurity_split=None,\n",
              "                                                    min_samples_leaf=1,\n",
              "                                                    min_samples_split=2,\n",
              "                                                    min_weight_fraction_leaf=0.0,\n",
              "                                                    n_estimators=100,\n",
              "                                                    n_jobs=None,\n",
              "                                                    oob_score=False,\n",
              "                                                    random_state=0, verbose=0,\n",
              "                                                    warm_start=False),\n",
              "                   iid='deprecated', n_iter=100, n_jobs=-1,\n",
              "                   param_distributions={'bootstrap': [True, False],\n",
              "                                        'max_features': ['auto', 'sqrt'],\n",
              "                                        'min_samples_split': [2, 5, 10],\n",
              "                                        'n_estimators': [10, 50, 100]},\n",
              "                   pre_dispatch='2*n_jobs', random_state=0, refit=True,\n",
              "                   return_train_score=False, scoring='f1', verbose=0)"
            ]
          },
          "metadata": {
            "tags": []
          },
          "execution_count": 171
        }
      ]
    },
    {
      "cell_type": "code",
      "metadata": {
        "id": "Nm-K4gZFs6RS",
        "colab": {
          "base_uri": "https://localhost:8080/",
          "height": 51
        },
        "outputId": "9b78ee8e-0f68-42e5-f5df-e6e06955eb31"
      },
      "source": [
        "best_params=rf_random.best_params_\n",
        "best_score=rf_random.best_score_\n",
        "print(best_params)\n",
        "print(best_score)"
      ],
      "execution_count": null,
      "outputs": [
        {
          "output_type": "stream",
          "text": [
            "{'n_estimators': 100, 'min_samples_split': 5, 'max_features': 'auto', 'bootstrap': False}\n",
            "0.5432710058001965\n"
          ],
          "name": "stdout"
        }
      ]
    },
    {
      "cell_type": "markdown",
      "metadata": {
        "id": "cp_7aZeKlAaG"
      },
      "source": [
        "**Best Accuracy score in Random Forest Classifier is .91**"
      ]
    },
    {
      "cell_type": "markdown",
      "metadata": {
        "id": "QXTF4XpquII8"
      },
      "source": [
        "### Gradient Boosting Classifier"
      ]
    },
    {
      "cell_type": "code",
      "metadata": {
        "id": "qKZX6p9muGLk"
      },
      "source": [
        "from sklearn.ensemble import GradientBoostingClassifier"
      ],
      "execution_count": null,
      "outputs": []
    },
    {
      "cell_type": "code",
      "metadata": {
        "id": "f6TG2Bkzws2j"
      },
      "source": [
        "gbc=GradientBoostingClassifier()"
      ],
      "execution_count": null,
      "outputs": []
    },
    {
      "cell_type": "code",
      "metadata": {
        "id": "Y7Y9yBEtt7e3"
      },
      "source": [
        "params={'learning_rate':[.01,.05,.1,.2,.5,.8],\n",
        "        'min_samples_split':[2,3,4],\n",
        "        'max_depth':[3,5,7]\n",
        "        }\n",
        "rf_random=RandomizedSearchCV(estimator=gbc,param_distributions=params,n_iter=100,scoring='f1',n_jobs=-1,cv=3,random_state=0)        "
      ],
      "execution_count": null,
      "outputs": []
    },
    {
      "cell_type": "code",
      "metadata": {
        "id": "PEQHLV0audBy",
        "colab": {
          "base_uri": "https://localhost:8080/",
          "height": 581
        },
        "outputId": "a0f609bf-6c43-4f2e-fea0-512a2335f1a0"
      },
      "source": [
        "rf_random.fit(X_test,y_test)"
      ],
      "execution_count": null,
      "outputs": [
        {
          "output_type": "stream",
          "text": [
            "/usr/local/lib/python3.6/dist-packages/sklearn/model_selection/_search.py:281: UserWarning: The total space of parameters 54 is smaller than n_iter=100. Running 54 iterations. For exhaustive searches, use GridSearchCV.\n",
            "  % (grid_size, self.n_iter, grid_size), UserWarning)\n"
          ],
          "name": "stderr"
        },
        {
          "output_type": "execute_result",
          "data": {
            "text/plain": [
              "RandomizedSearchCV(cv=3, error_score=nan,\n",
              "                   estimator=GradientBoostingClassifier(ccp_alpha=0.0,\n",
              "                                                        criterion='friedman_mse',\n",
              "                                                        init=None,\n",
              "                                                        learning_rate=0.1,\n",
              "                                                        loss='deviance',\n",
              "                                                        max_depth=3,\n",
              "                                                        max_features=None,\n",
              "                                                        max_leaf_nodes=None,\n",
              "                                                        min_impurity_decrease=0.0,\n",
              "                                                        min_impurity_split=None,\n",
              "                                                        min_samples_leaf=1,\n",
              "                                                        min_samples_split=2,\n",
              "                                                        min_weight_fraction_leaf=0.0,\n",
              "                                                        n_estimators=100,\n",
              "                                                        n_ite...\n",
              "                                                        presort='deprecated',\n",
              "                                                        random_state=None,\n",
              "                                                        subsample=1.0,\n",
              "                                                        tol=0.0001,\n",
              "                                                        validation_fraction=0.1,\n",
              "                                                        verbose=0,\n",
              "                                                        warm_start=False),\n",
              "                   iid='deprecated', n_iter=100, n_jobs=-1,\n",
              "                   param_distributions={'learning_rate': [0.01, 0.05, 0.1, 0.2,\n",
              "                                                          0.5, 0.8],\n",
              "                                        'max_depth': [3, 5, 7],\n",
              "                                        'min_samples_split': [2, 3, 4]},\n",
              "                   pre_dispatch='2*n_jobs', random_state=0, refit=True,\n",
              "                   return_train_score=False, scoring='f1', verbose=0)"
            ]
          },
          "metadata": {
            "tags": []
          },
          "execution_count": 176
        }
      ]
    },
    {
      "cell_type": "code",
      "metadata": {
        "id": "sThfK0EhxHdK",
        "colab": {
          "base_uri": "https://localhost:8080/",
          "height": 51
        },
        "outputId": "3281aaa4-2175-4e10-8d4d-b6f57fa58e8b"
      },
      "source": [
        "para=rf_random.best_params_\n",
        "score=rf_random.best_score_\n",
        "print(para)\n",
        "print(score)"
      ],
      "execution_count": null,
      "outputs": [
        {
          "output_type": "stream",
          "text": [
            "{'min_samples_split': 3, 'max_depth': 3, 'learning_rate': 0.2}\n",
            "0.5877089326255875\n"
          ],
          "name": "stdout"
        }
      ]
    },
    {
      "cell_type": "code",
      "metadata": {
        "id": "JyS4moQgyLxu",
        "colab": {
          "base_uri": "https://localhost:8080/",
          "height": 187
        },
        "outputId": "86e31cd2-353f-47a6-94a8-a90be60c4c7d"
      },
      "source": [
        "gbc=GradientBoostingClassifier(learning_rate=.2,n_estimators=150,min_samples_split=3,random_state=0)\n",
        "gbc.fit(X_train,y_train)"
      ],
      "execution_count": null,
      "outputs": [
        {
          "output_type": "execute_result",
          "data": {
            "text/plain": [
              "GradientBoostingClassifier(ccp_alpha=0.0, criterion='friedman_mse', init=None,\n",
              "                           learning_rate=0.2, loss='deviance', max_depth=3,\n",
              "                           max_features=None, max_leaf_nodes=None,\n",
              "                           min_impurity_decrease=0.0, min_impurity_split=None,\n",
              "                           min_samples_leaf=1, min_samples_split=3,\n",
              "                           min_weight_fraction_leaf=0.0, n_estimators=150,\n",
              "                           n_iter_no_change=None, presort='deprecated',\n",
              "                           random_state=0, subsample=1.0, tol=0.0001,\n",
              "                           validation_fraction=0.1, verbose=0,\n",
              "                           warm_start=False)"
            ]
          },
          "metadata": {
            "tags": []
          },
          "execution_count": 178
        }
      ]
    },
    {
      "cell_type": "code",
      "metadata": {
        "id": "y-9DQinLyqWf",
        "colab": {
          "base_uri": "https://localhost:8080/",
          "height": 85
        },
        "outputId": "ca694c09-dec9-4517-8e8f-10ef55132057"
      },
      "source": [
        "y_pred=gbc.predict(X_test)\n",
        "cm=confusion_matrix(y_test,y_pred)\n",
        "print(cm)\n",
        "print('F1-score:',f1_score(y_test,y_pred))\n",
        "print('Accuracy:',gbc.score(X_test,y_test))"
      ],
      "execution_count": null,
      "outputs": [
        {
          "output_type": "stream",
          "text": [
            "[[8866  273]\n",
            " [ 546  612]]\n",
            "F1-score: 0.5991189427312776\n",
            "Accuracy: 0.920462270564242\n"
          ],
          "name": "stdout"
        }
      ]
    },
    {
      "cell_type": "markdown",
      "metadata": {
        "id": "lai55zzBlQgr"
      },
      "source": [
        "**Best accuracy score in Gradient Boosting is .92**"
      ]
    },
    {
      "cell_type": "markdown",
      "metadata": {
        "id": "XEtEBnXezN7h"
      },
      "source": [
        "XGBoost Classifier"
      ]
    },
    {
      "cell_type": "code",
      "metadata": {
        "id": "n51Svk58zCar"
      },
      "source": [
        "from xgboost import XGBClassifier"
      ],
      "execution_count": null,
      "outputs": []
    },
    {
      "cell_type": "code",
      "metadata": {
        "id": "JqBx30BSzR5X"
      },
      "source": [
        "xgb=XGBClassifier(max_depth=3,learning_rate=.1,n_estimators=100,verbosity=1,gamma=0,random_state=0)"
      ],
      "execution_count": null,
      "outputs": []
    },
    {
      "cell_type": "code",
      "metadata": {
        "id": "0kL9uKHyza-x",
        "colab": {
          "base_uri": "https://localhost:8080/",
          "height": 374
        },
        "outputId": "33778efc-638f-4fbb-94f4-00b0e774c3a3"
      },
      "source": [
        "params={'max_depth':[3,4,5,6],\n",
        "        'learning_rate':[.1,.2,.5,.05],\n",
        "        'n_estimators':[100,150],\n",
        "        'gamma':[0,.05,.1,.2]\n",
        "        }\n",
        "rf_random=RandomizedSearchCV(estimator=xgb,param_distributions=params,n_iter=100,scoring='f1',n_jobs=-1,cv=3,random_state=0)\n",
        "rf_random.fit(X_test,y_test)        "
      ],
      "execution_count": null,
      "outputs": [
        {
          "output_type": "execute_result",
          "data": {
            "text/plain": [
              "RandomizedSearchCV(cv=3, error_score=nan,\n",
              "                   estimator=XGBClassifier(base_score=0.5, booster='gbtree',\n",
              "                                           colsample_bylevel=1,\n",
              "                                           colsample_bynode=1,\n",
              "                                           colsample_bytree=1, gamma=0,\n",
              "                                           learning_rate=0.1, max_delta_step=0,\n",
              "                                           max_depth=3, min_child_weight=1,\n",
              "                                           missing=None, n_estimators=100,\n",
              "                                           n_jobs=1, nthread=None,\n",
              "                                           objective='binary:logistic',\n",
              "                                           random_state=0, reg_alpha=0,\n",
              "                                           reg_lambda=1, scale_pos_weight=1,\n",
              "                                           seed=None, silent=None, subsample=1,\n",
              "                                           verbosity=1),\n",
              "                   iid='deprecated', n_iter=100, n_jobs=-1,\n",
              "                   param_distributions={'gamma': [0, 0.05, 0.1, 0.2],\n",
              "                                        'learning_rate': [0.1, 0.2, 0.5, 0.05],\n",
              "                                        'max_depth': [3, 4, 5, 6],\n",
              "                                        'n_estimators': [100, 150]},\n",
              "                   pre_dispatch='2*n_jobs', random_state=0, refit=True,\n",
              "                   return_train_score=False, scoring='f1', verbose=0)"
            ]
          },
          "metadata": {
            "tags": []
          },
          "execution_count": 183
        }
      ]
    },
    {
      "cell_type": "code",
      "metadata": {
        "id": "uoduFbPK1ait",
        "colab": {
          "base_uri": "https://localhost:8080/",
          "height": 51
        },
        "outputId": "0edd7547-6c46-465a-fe84-f6d96de19a63"
      },
      "source": [
        "para=rf_random.best_params_\n",
        "score=rf_random.best_score_\n",
        "print(para)\n",
        "print(score)"
      ],
      "execution_count": null,
      "outputs": [
        {
          "output_type": "stream",
          "text": [
            "{'n_estimators': 100, 'max_depth': 4, 'learning_rate': 0.1, 'gamma': 0.05}\n",
            "0.6014405227153222\n"
          ],
          "name": "stdout"
        }
      ]
    },
    {
      "cell_type": "code",
      "metadata": {
        "id": "10MKF6Kk226X",
        "colab": {
          "base_uri": "https://localhost:8080/",
          "height": 136
        },
        "outputId": "ef402d40-eb5e-42d9-b396-442c975bd7e0"
      },
      "source": [
        "xgb=XGBClassifier(n_estimators=100,max_depth=4,learning_rate=.1,gamma=.01,random_state=0)\n",
        "xgb.fit(X_train,y_train)"
      ],
      "execution_count": null,
      "outputs": [
        {
          "output_type": "execute_result",
          "data": {
            "text/plain": [
              "XGBClassifier(base_score=0.5, booster='gbtree', colsample_bylevel=1,\n",
              "              colsample_bynode=1, colsample_bytree=1, gamma=0.01,\n",
              "              learning_rate=0.1, max_delta_step=0, max_depth=4,\n",
              "              min_child_weight=1, missing=None, n_estimators=100, n_jobs=1,\n",
              "              nthread=None, objective='binary:logistic', random_state=0,\n",
              "              reg_alpha=0, reg_lambda=1, scale_pos_weight=1, seed=None,\n",
              "              silent=None, subsample=1, verbosity=1)"
            ]
          },
          "metadata": {
            "tags": []
          },
          "execution_count": 187
        }
      ]
    },
    {
      "cell_type": "code",
      "metadata": {
        "id": "DxzsMwlM3fGC",
        "colab": {
          "base_uri": "https://localhost:8080/",
          "height": 85
        },
        "outputId": "844e1665-ae39-4bd7-e002-825eee3c9afe"
      },
      "source": [
        "y_pred=gbc.predict(X_test)\n",
        "cm=confusion_matrix(y_test,y_pred)\n",
        "print(cm)\n",
        "print('F1-score:',f1_score(y_test,y_pred))\n",
        "print('Accuracy:',gbc.score(X_test,y_test))"
      ],
      "execution_count": null,
      "outputs": [
        {
          "output_type": "stream",
          "text": [
            "[[8866  273]\n",
            " [ 546  612]]\n",
            "F1-score: 0.5991189427312776\n",
            "Accuracy: 0.920462270564242\n"
          ],
          "name": "stdout"
        }
      ]
    },
    {
      "cell_type": "markdown",
      "metadata": {
        "id": "AufAUem_lcDY"
      },
      "source": [
        "**Best accuracy in XG-Boosting classifier is .92**"
      ]
    },
    {
      "cell_type": "markdown",
      "metadata": {
        "id": "gPww2Ir63tCN"
      },
      "source": [
        "From all the above model the best one is SVC classifier having **f1-score of .77 and accuracy of approx 95%**"
      ]
    }
  ]
}