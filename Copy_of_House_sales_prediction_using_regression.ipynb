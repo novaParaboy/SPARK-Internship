{
  "nbformat": 4,
  "nbformat_minor": 0,
  "metadata": {
    "kernelspec": {
      "display_name": "Python 3",
      "language": "python",
      "name": "python3"
    },
    "language_info": {
      "codemirror_mode": {
        "name": "ipython",
        "version": 3
      },
      "file_extension": ".py",
      "mimetype": "text/x-python",
      "name": "python",
      "nbconvert_exporter": "python",
      "pygments_lexer": "ipython3",
      "version": "3.7.4"
    },
    "colab": {
      "name": "Copy of House sales prediction using regression.ipynb",
      "provenance": []
    }
  },
  "cells": [
    {
      "cell_type": "code",
      "metadata": {
        "id": "FIBWMgAYWOmC"
      },
      "source": [
        "import pandas as pd\n",
        "import matplotlib.pyplot as plt\n",
        "import numpy as np\n",
        "import seaborn as sns\n",
        "%matplotlib inline"
      ],
      "execution_count": null,
      "outputs": []
    },
    {
      "cell_type": "code",
      "metadata": {
        "id": "oEPPKFtIWOmK"
      },
      "source": [
        "data=r'F:\\Study\\Machine Learning\\House Sales\\house_sales.csv'\n",
        "sales_df=pd.read_csv(data)"
      ],
      "execution_count": null,
      "outputs": []
    },
    {
      "cell_type": "code",
      "metadata": {
        "id": "kKvBcyMYWOmP",
        "outputId": "fca0c888-3fc0-42b6-9602-b1679c7b2fd2"
      },
      "source": [
        "sales_df.head()"
      ],
      "execution_count": null,
      "outputs": [
        {
          "output_type": "execute_result",
          "data": {
            "text/html": [
              "<div>\n",
              "<style scoped>\n",
              "    .dataframe tbody tr th:only-of-type {\n",
              "        vertical-align: middle;\n",
              "    }\n",
              "\n",
              "    .dataframe tbody tr th {\n",
              "        vertical-align: top;\n",
              "    }\n",
              "\n",
              "    .dataframe thead th {\n",
              "        text-align: right;\n",
              "    }\n",
              "</style>\n",
              "<table border=\"1\" class=\"dataframe\">\n",
              "  <thead>\n",
              "    <tr style=\"text-align: right;\">\n",
              "      <th></th>\n",
              "      <th>id</th>\n",
              "      <th>date</th>\n",
              "      <th>price</th>\n",
              "      <th>bedrooms</th>\n",
              "      <th>bathrooms</th>\n",
              "      <th>sqft_living</th>\n",
              "      <th>sqft_lot</th>\n",
              "      <th>floors</th>\n",
              "      <th>waterfront</th>\n",
              "      <th>view</th>\n",
              "      <th>...</th>\n",
              "      <th>grade</th>\n",
              "      <th>sqft_above</th>\n",
              "      <th>sqft_basement</th>\n",
              "      <th>yr_built</th>\n",
              "      <th>yr_renovated</th>\n",
              "      <th>zipcode</th>\n",
              "      <th>lat</th>\n",
              "      <th>long</th>\n",
              "      <th>sqft_living15</th>\n",
              "      <th>sqft_lot15</th>\n",
              "    </tr>\n",
              "  </thead>\n",
              "  <tbody>\n",
              "    <tr>\n",
              "      <td>0</td>\n",
              "      <td>7129300520</td>\n",
              "      <td>20141013T000000</td>\n",
              "      <td>221900.0</td>\n",
              "      <td>3</td>\n",
              "      <td>1.00</td>\n",
              "      <td>1180</td>\n",
              "      <td>5650</td>\n",
              "      <td>1.0</td>\n",
              "      <td>0</td>\n",
              "      <td>0</td>\n",
              "      <td>...</td>\n",
              "      <td>7</td>\n",
              "      <td>1180</td>\n",
              "      <td>0</td>\n",
              "      <td>1955</td>\n",
              "      <td>0</td>\n",
              "      <td>98178</td>\n",
              "      <td>47.5112</td>\n",
              "      <td>-122.257</td>\n",
              "      <td>1340</td>\n",
              "      <td>5650</td>\n",
              "    </tr>\n",
              "    <tr>\n",
              "      <td>1</td>\n",
              "      <td>6414100192</td>\n",
              "      <td>20141209T000000</td>\n",
              "      <td>538000.0</td>\n",
              "      <td>3</td>\n",
              "      <td>2.25</td>\n",
              "      <td>2570</td>\n",
              "      <td>7242</td>\n",
              "      <td>2.0</td>\n",
              "      <td>0</td>\n",
              "      <td>0</td>\n",
              "      <td>...</td>\n",
              "      <td>7</td>\n",
              "      <td>2170</td>\n",
              "      <td>400</td>\n",
              "      <td>1951</td>\n",
              "      <td>1991</td>\n",
              "      <td>98125</td>\n",
              "      <td>47.7210</td>\n",
              "      <td>-122.319</td>\n",
              "      <td>1690</td>\n",
              "      <td>7639</td>\n",
              "    </tr>\n",
              "    <tr>\n",
              "      <td>2</td>\n",
              "      <td>5631500400</td>\n",
              "      <td>20150225T000000</td>\n",
              "      <td>180000.0</td>\n",
              "      <td>2</td>\n",
              "      <td>1.00</td>\n",
              "      <td>770</td>\n",
              "      <td>10000</td>\n",
              "      <td>1.0</td>\n",
              "      <td>0</td>\n",
              "      <td>0</td>\n",
              "      <td>...</td>\n",
              "      <td>6</td>\n",
              "      <td>770</td>\n",
              "      <td>0</td>\n",
              "      <td>1933</td>\n",
              "      <td>0</td>\n",
              "      <td>98028</td>\n",
              "      <td>47.7379</td>\n",
              "      <td>-122.233</td>\n",
              "      <td>2720</td>\n",
              "      <td>8062</td>\n",
              "    </tr>\n",
              "    <tr>\n",
              "      <td>3</td>\n",
              "      <td>2487200875</td>\n",
              "      <td>20141209T000000</td>\n",
              "      <td>604000.0</td>\n",
              "      <td>4</td>\n",
              "      <td>3.00</td>\n",
              "      <td>1960</td>\n",
              "      <td>5000</td>\n",
              "      <td>1.0</td>\n",
              "      <td>0</td>\n",
              "      <td>0</td>\n",
              "      <td>...</td>\n",
              "      <td>7</td>\n",
              "      <td>1050</td>\n",
              "      <td>910</td>\n",
              "      <td>1965</td>\n",
              "      <td>0</td>\n",
              "      <td>98136</td>\n",
              "      <td>47.5208</td>\n",
              "      <td>-122.393</td>\n",
              "      <td>1360</td>\n",
              "      <td>5000</td>\n",
              "    </tr>\n",
              "    <tr>\n",
              "      <td>4</td>\n",
              "      <td>1954400510</td>\n",
              "      <td>20150218T000000</td>\n",
              "      <td>510000.0</td>\n",
              "      <td>3</td>\n",
              "      <td>2.00</td>\n",
              "      <td>1680</td>\n",
              "      <td>8080</td>\n",
              "      <td>1.0</td>\n",
              "      <td>0</td>\n",
              "      <td>0</td>\n",
              "      <td>...</td>\n",
              "      <td>8</td>\n",
              "      <td>1680</td>\n",
              "      <td>0</td>\n",
              "      <td>1987</td>\n",
              "      <td>0</td>\n",
              "      <td>98074</td>\n",
              "      <td>47.6168</td>\n",
              "      <td>-122.045</td>\n",
              "      <td>1800</td>\n",
              "      <td>7503</td>\n",
              "    </tr>\n",
              "  </tbody>\n",
              "</table>\n",
              "<p>5 rows × 21 columns</p>\n",
              "</div>"
            ],
            "text/plain": [
              "           id             date     price  bedrooms  bathrooms  sqft_living  \\\n",
              "0  7129300520  20141013T000000  221900.0         3       1.00         1180   \n",
              "1  6414100192  20141209T000000  538000.0         3       2.25         2570   \n",
              "2  5631500400  20150225T000000  180000.0         2       1.00          770   \n",
              "3  2487200875  20141209T000000  604000.0         4       3.00         1960   \n",
              "4  1954400510  20150218T000000  510000.0         3       2.00         1680   \n",
              "\n",
              "   sqft_lot  floors  waterfront  view  ...  grade  sqft_above  sqft_basement  \\\n",
              "0      5650     1.0           0     0  ...      7        1180              0   \n",
              "1      7242     2.0           0     0  ...      7        2170            400   \n",
              "2     10000     1.0           0     0  ...      6         770              0   \n",
              "3      5000     1.0           0     0  ...      7        1050            910   \n",
              "4      8080     1.0           0     0  ...      8        1680              0   \n",
              "\n",
              "   yr_built  yr_renovated  zipcode      lat     long  sqft_living15  \\\n",
              "0      1955             0    98178  47.5112 -122.257           1340   \n",
              "1      1951          1991    98125  47.7210 -122.319           1690   \n",
              "2      1933             0    98028  47.7379 -122.233           2720   \n",
              "3      1965             0    98136  47.5208 -122.393           1360   \n",
              "4      1987             0    98074  47.6168 -122.045           1800   \n",
              "\n",
              "   sqft_lot15  \n",
              "0        5650  \n",
              "1        7639  \n",
              "2        8062  \n",
              "3        5000  \n",
              "4        7503  \n",
              "\n",
              "[5 rows x 21 columns]"
            ]
          },
          "metadata": {
            "tags": []
          },
          "execution_count": 3
        }
      ]
    },
    {
      "cell_type": "code",
      "metadata": {
        "id": "Xz6Kec3SWOmV"
      },
      "source": [
        "del sales_df['id']"
      ],
      "execution_count": null,
      "outputs": []
    },
    {
      "cell_type": "code",
      "metadata": {
        "id": "AUr2w-61WOmZ",
        "outputId": "e1968dab-0b21-4ceb-bffd-bc3900bf0c69"
      },
      "source": [
        "sales_df.dtypes"
      ],
      "execution_count": null,
      "outputs": [
        {
          "output_type": "execute_result",
          "data": {
            "text/plain": [
              "date              object\n",
              "price            float64\n",
              "bedrooms           int64\n",
              "bathrooms        float64\n",
              "sqft_living        int64\n",
              "sqft_lot           int64\n",
              "floors           float64\n",
              "waterfront         int64\n",
              "view               int64\n",
              "condition          int64\n",
              "grade              int64\n",
              "sqft_above         int64\n",
              "sqft_basement      int64\n",
              "yr_built           int64\n",
              "yr_renovated       int64\n",
              "zipcode            int64\n",
              "lat              float64\n",
              "long             float64\n",
              "sqft_living15      int64\n",
              "sqft_lot15         int64\n",
              "dtype: object"
            ]
          },
          "metadata": {
            "tags": []
          },
          "execution_count": 5
        }
      ]
    },
    {
      "cell_type": "code",
      "metadata": {
        "id": "Q32Rc3ndWOme"
      },
      "source": [
        "sales_df['date']=sales_df['date'].str[:8]"
      ],
      "execution_count": null,
      "outputs": []
    },
    {
      "cell_type": "code",
      "metadata": {
        "id": "iPs9rT5cWOmj"
      },
      "source": [
        "sales_df['date']=pd.to_datetime(sales_df['date'],dayfirst=True)"
      ],
      "execution_count": null,
      "outputs": []
    },
    {
      "cell_type": "code",
      "metadata": {
        "id": "-oMosRenWOmo",
        "outputId": "ba8195b7-720a-4440-e0d1-17b0c92cb705"
      },
      "source": [
        "sales_df.head()"
      ],
      "execution_count": null,
      "outputs": [
        {
          "output_type": "execute_result",
          "data": {
            "text/html": [
              "<div>\n",
              "<style scoped>\n",
              "    .dataframe tbody tr th:only-of-type {\n",
              "        vertical-align: middle;\n",
              "    }\n",
              "\n",
              "    .dataframe tbody tr th {\n",
              "        vertical-align: top;\n",
              "    }\n",
              "\n",
              "    .dataframe thead th {\n",
              "        text-align: right;\n",
              "    }\n",
              "</style>\n",
              "<table border=\"1\" class=\"dataframe\">\n",
              "  <thead>\n",
              "    <tr style=\"text-align: right;\">\n",
              "      <th></th>\n",
              "      <th>date</th>\n",
              "      <th>price</th>\n",
              "      <th>bedrooms</th>\n",
              "      <th>bathrooms</th>\n",
              "      <th>sqft_living</th>\n",
              "      <th>sqft_lot</th>\n",
              "      <th>floors</th>\n",
              "      <th>waterfront</th>\n",
              "      <th>view</th>\n",
              "      <th>condition</th>\n",
              "      <th>grade</th>\n",
              "      <th>sqft_above</th>\n",
              "      <th>sqft_basement</th>\n",
              "      <th>yr_built</th>\n",
              "      <th>yr_renovated</th>\n",
              "      <th>zipcode</th>\n",
              "      <th>lat</th>\n",
              "      <th>long</th>\n",
              "      <th>sqft_living15</th>\n",
              "      <th>sqft_lot15</th>\n",
              "    </tr>\n",
              "  </thead>\n",
              "  <tbody>\n",
              "    <tr>\n",
              "      <td>0</td>\n",
              "      <td>2014-10-13</td>\n",
              "      <td>221900.0</td>\n",
              "      <td>3</td>\n",
              "      <td>1.00</td>\n",
              "      <td>1180</td>\n",
              "      <td>5650</td>\n",
              "      <td>1.0</td>\n",
              "      <td>0</td>\n",
              "      <td>0</td>\n",
              "      <td>3</td>\n",
              "      <td>7</td>\n",
              "      <td>1180</td>\n",
              "      <td>0</td>\n",
              "      <td>1955</td>\n",
              "      <td>0</td>\n",
              "      <td>98178</td>\n",
              "      <td>47.5112</td>\n",
              "      <td>-122.257</td>\n",
              "      <td>1340</td>\n",
              "      <td>5650</td>\n",
              "    </tr>\n",
              "    <tr>\n",
              "      <td>1</td>\n",
              "      <td>2014-12-09</td>\n",
              "      <td>538000.0</td>\n",
              "      <td>3</td>\n",
              "      <td>2.25</td>\n",
              "      <td>2570</td>\n",
              "      <td>7242</td>\n",
              "      <td>2.0</td>\n",
              "      <td>0</td>\n",
              "      <td>0</td>\n",
              "      <td>3</td>\n",
              "      <td>7</td>\n",
              "      <td>2170</td>\n",
              "      <td>400</td>\n",
              "      <td>1951</td>\n",
              "      <td>1991</td>\n",
              "      <td>98125</td>\n",
              "      <td>47.7210</td>\n",
              "      <td>-122.319</td>\n",
              "      <td>1690</td>\n",
              "      <td>7639</td>\n",
              "    </tr>\n",
              "    <tr>\n",
              "      <td>2</td>\n",
              "      <td>2015-02-25</td>\n",
              "      <td>180000.0</td>\n",
              "      <td>2</td>\n",
              "      <td>1.00</td>\n",
              "      <td>770</td>\n",
              "      <td>10000</td>\n",
              "      <td>1.0</td>\n",
              "      <td>0</td>\n",
              "      <td>0</td>\n",
              "      <td>3</td>\n",
              "      <td>6</td>\n",
              "      <td>770</td>\n",
              "      <td>0</td>\n",
              "      <td>1933</td>\n",
              "      <td>0</td>\n",
              "      <td>98028</td>\n",
              "      <td>47.7379</td>\n",
              "      <td>-122.233</td>\n",
              "      <td>2720</td>\n",
              "      <td>8062</td>\n",
              "    </tr>\n",
              "    <tr>\n",
              "      <td>3</td>\n",
              "      <td>2014-12-09</td>\n",
              "      <td>604000.0</td>\n",
              "      <td>4</td>\n",
              "      <td>3.00</td>\n",
              "      <td>1960</td>\n",
              "      <td>5000</td>\n",
              "      <td>1.0</td>\n",
              "      <td>0</td>\n",
              "      <td>0</td>\n",
              "      <td>5</td>\n",
              "      <td>7</td>\n",
              "      <td>1050</td>\n",
              "      <td>910</td>\n",
              "      <td>1965</td>\n",
              "      <td>0</td>\n",
              "      <td>98136</td>\n",
              "      <td>47.5208</td>\n",
              "      <td>-122.393</td>\n",
              "      <td>1360</td>\n",
              "      <td>5000</td>\n",
              "    </tr>\n",
              "    <tr>\n",
              "      <td>4</td>\n",
              "      <td>2015-02-18</td>\n",
              "      <td>510000.0</td>\n",
              "      <td>3</td>\n",
              "      <td>2.00</td>\n",
              "      <td>1680</td>\n",
              "      <td>8080</td>\n",
              "      <td>1.0</td>\n",
              "      <td>0</td>\n",
              "      <td>0</td>\n",
              "      <td>3</td>\n",
              "      <td>8</td>\n",
              "      <td>1680</td>\n",
              "      <td>0</td>\n",
              "      <td>1987</td>\n",
              "      <td>0</td>\n",
              "      <td>98074</td>\n",
              "      <td>47.6168</td>\n",
              "      <td>-122.045</td>\n",
              "      <td>1800</td>\n",
              "      <td>7503</td>\n",
              "    </tr>\n",
              "  </tbody>\n",
              "</table>\n",
              "</div>"
            ],
            "text/plain": [
              "        date     price  bedrooms  bathrooms  sqft_living  sqft_lot  floors  \\\n",
              "0 2014-10-13  221900.0         3       1.00         1180      5650     1.0   \n",
              "1 2014-12-09  538000.0         3       2.25         2570      7242     2.0   \n",
              "2 2015-02-25  180000.0         2       1.00          770     10000     1.0   \n",
              "3 2014-12-09  604000.0         4       3.00         1960      5000     1.0   \n",
              "4 2015-02-18  510000.0         3       2.00         1680      8080     1.0   \n",
              "\n",
              "   waterfront  view  condition  grade  sqft_above  sqft_basement  yr_built  \\\n",
              "0           0     0          3      7        1180              0      1955   \n",
              "1           0     0          3      7        2170            400      1951   \n",
              "2           0     0          3      6         770              0      1933   \n",
              "3           0     0          5      7        1050            910      1965   \n",
              "4           0     0          3      8        1680              0      1987   \n",
              "\n",
              "   yr_renovated  zipcode      lat     long  sqft_living15  sqft_lot15  \n",
              "0             0    98178  47.5112 -122.257           1340        5650  \n",
              "1          1991    98125  47.7210 -122.319           1690        7639  \n",
              "2             0    98028  47.7379 -122.233           2720        8062  \n",
              "3             0    98136  47.5208 -122.393           1360        5000  \n",
              "4             0    98074  47.6168 -122.045           1800        7503  "
            ]
          },
          "metadata": {
            "tags": []
          },
          "execution_count": 8
        }
      ]
    },
    {
      "cell_type": "code",
      "metadata": {
        "id": "yfihVvKUWOms",
        "outputId": "899b867e-4b4f-48c9-99b0-0decef276742"
      },
      "source": [
        "sales_df.isna().sum()"
      ],
      "execution_count": null,
      "outputs": [
        {
          "output_type": "execute_result",
          "data": {
            "text/plain": [
              "date             0\n",
              "price            0\n",
              "bedrooms         0\n",
              "bathrooms        0\n",
              "sqft_living      0\n",
              "sqft_lot         0\n",
              "floors           0\n",
              "waterfront       0\n",
              "view             0\n",
              "condition        0\n",
              "grade            0\n",
              "sqft_above       0\n",
              "sqft_basement    0\n",
              "yr_built         0\n",
              "yr_renovated     0\n",
              "zipcode          0\n",
              "lat              0\n",
              "long             0\n",
              "sqft_living15    0\n",
              "sqft_lot15       0\n",
              "dtype: int64"
            ]
          },
          "metadata": {
            "tags": []
          },
          "execution_count": 9
        }
      ]
    },
    {
      "cell_type": "code",
      "metadata": {
        "id": "ZoRlb00KWOmx",
        "outputId": "b32bbc53-b653-42c6-8e6d-5666065297b9"
      },
      "source": [
        "sales_df.shape"
      ],
      "execution_count": null,
      "outputs": [
        {
          "output_type": "execute_result",
          "data": {
            "text/plain": [
              "(21613, 20)"
            ]
          },
          "metadata": {
            "tags": []
          },
          "execution_count": 10
        }
      ]
    },
    {
      "cell_type": "code",
      "metadata": {
        "id": "X6CdmqlxWOm1",
        "outputId": "4ac55478-dbcd-4660-b2a0-cec7768a31e9"
      },
      "source": [
        "sales_df['bathrooms'].value_counts()"
      ],
      "execution_count": null,
      "outputs": [
        {
          "output_type": "execute_result",
          "data": {
            "text/plain": [
              "2.50    5380\n",
              "1.00    3852\n",
              "1.75    3048\n",
              "2.25    2047\n",
              "2.00    1930\n",
              "1.50    1446\n",
              "2.75    1185\n",
              "3.00     753\n",
              "3.50     731\n",
              "3.25     589\n",
              "3.75     155\n",
              "4.00     136\n",
              "4.50     100\n",
              "4.25      79\n",
              "0.75      72\n",
              "4.75      23\n",
              "5.00      21\n",
              "5.25      13\n",
              "0.00      10\n",
              "5.50      10\n",
              "1.25       9\n",
              "6.00       6\n",
              "0.50       4\n",
              "5.75       4\n",
              "8.00       2\n",
              "6.25       2\n",
              "6.50       2\n",
              "6.75       2\n",
              "7.50       1\n",
              "7.75       1\n",
              "Name: bathrooms, dtype: int64"
            ]
          },
          "metadata": {
            "tags": []
          },
          "execution_count": 11
        }
      ]
    },
    {
      "cell_type": "code",
      "metadata": {
        "id": "Ob0khtQ7WOm6"
      },
      "source": [
        "#There seems to be some fault in bathroom counts since no. of bathrooms can never be negative\n",
        "sales_df['bathrooms']=sales_df['bathrooms'].round(decimals=0)\n",
        "sales_df['bathrooms']=sales_df['bathrooms'].astype('int')"
      ],
      "execution_count": null,
      "outputs": []
    },
    {
      "cell_type": "code",
      "metadata": {
        "id": "Tin6ktmPWOm_",
        "outputId": "45254942-2322-4e36-c2d8-b70b4636dc59"
      },
      "source": [
        "sales_df['bathrooms'].value_counts()"
      ],
      "execution_count": null,
      "outputs": [
        {
          "output_type": "execute_result",
          "data": {
            "text/plain": [
              "2    13851\n",
              "1     3933\n",
              "3     2527\n",
              "4     1201\n",
              "5       57\n",
              "6       24\n",
              "0       14\n",
              "8        4\n",
              "7        2\n",
              "Name: bathrooms, dtype: int64"
            ]
          },
          "metadata": {
            "tags": []
          },
          "execution_count": 13
        }
      ]
    },
    {
      "cell_type": "code",
      "metadata": {
        "id": "2C7eYf-ZWOnD"
      },
      "source": [
        "sales_df['floors']=sales_df['floors'].round(decimals=0)\n",
        "sales_df['floors']=sales_df['floors'].astype('int')"
      ],
      "execution_count": null,
      "outputs": []
    },
    {
      "cell_type": "code",
      "metadata": {
        "id": "vAILI431WOnH",
        "outputId": "0f1945a3-a2e1-4d0a-a262-a2267708f35c"
      },
      "source": [
        "sales_df['floors'].value_counts()"
      ],
      "execution_count": null,
      "outputs": [
        {
          "output_type": "execute_result",
          "data": {
            "text/plain": [
              "1    10680\n",
              "2    10312\n",
              "3      613\n",
              "4        8\n",
              "Name: floors, dtype: int64"
            ]
          },
          "metadata": {
            "tags": []
          },
          "execution_count": 15
        }
      ]
    },
    {
      "cell_type": "code",
      "metadata": {
        "id": "9ccHugjIWOnM",
        "outputId": "8c92db12-adf3-40df-aae0-3fb66a4a9fcb"
      },
      "source": [
        "sales_df['yr_renovated'].value_counts()"
      ],
      "execution_count": null,
      "outputs": [
        {
          "output_type": "execute_result",
          "data": {
            "text/plain": [
              "0       20699\n",
              "2014       91\n",
              "2013       37\n",
              "2003       36\n",
              "2000       35\n",
              "        ...  \n",
              "1934        1\n",
              "1959        1\n",
              "1951        1\n",
              "1948        1\n",
              "1944        1\n",
              "Name: yr_renovated, Length: 70, dtype: int64"
            ]
          },
          "metadata": {
            "tags": []
          },
          "execution_count": 16
        }
      ]
    },
    {
      "cell_type": "code",
      "metadata": {
        "id": "wiKhVcVqWOnQ"
      },
      "source": [
        "#In yr_renovated data for most of the cases is not available where 0 is placed. Therefore, it's better to remove this column"
      ],
      "execution_count": null,
      "outputs": []
    },
    {
      "cell_type": "code",
      "metadata": {
        "id": "O4Jbr0RJWOnU"
      },
      "source": [
        "del sales_df['yr_renovated']"
      ],
      "execution_count": null,
      "outputs": []
    },
    {
      "cell_type": "code",
      "metadata": {
        "id": "WYOGSvgCWOnZ",
        "outputId": "2db339ca-92fe-4e36-f771-87c9d8aa7542"
      },
      "source": [
        "sales_df.head()"
      ],
      "execution_count": null,
      "outputs": [
        {
          "output_type": "execute_result",
          "data": {
            "text/html": [
              "<div>\n",
              "<style scoped>\n",
              "    .dataframe tbody tr th:only-of-type {\n",
              "        vertical-align: middle;\n",
              "    }\n",
              "\n",
              "    .dataframe tbody tr th {\n",
              "        vertical-align: top;\n",
              "    }\n",
              "\n",
              "    .dataframe thead th {\n",
              "        text-align: right;\n",
              "    }\n",
              "</style>\n",
              "<table border=\"1\" class=\"dataframe\">\n",
              "  <thead>\n",
              "    <tr style=\"text-align: right;\">\n",
              "      <th></th>\n",
              "      <th>date</th>\n",
              "      <th>price</th>\n",
              "      <th>bedrooms</th>\n",
              "      <th>bathrooms</th>\n",
              "      <th>sqft_living</th>\n",
              "      <th>sqft_lot</th>\n",
              "      <th>floors</th>\n",
              "      <th>waterfront</th>\n",
              "      <th>view</th>\n",
              "      <th>condition</th>\n",
              "      <th>grade</th>\n",
              "      <th>sqft_above</th>\n",
              "      <th>sqft_basement</th>\n",
              "      <th>yr_built</th>\n",
              "      <th>zipcode</th>\n",
              "      <th>lat</th>\n",
              "      <th>long</th>\n",
              "      <th>sqft_living15</th>\n",
              "      <th>sqft_lot15</th>\n",
              "    </tr>\n",
              "  </thead>\n",
              "  <tbody>\n",
              "    <tr>\n",
              "      <td>0</td>\n",
              "      <td>2014-10-13</td>\n",
              "      <td>221900.0</td>\n",
              "      <td>3</td>\n",
              "      <td>1</td>\n",
              "      <td>1180</td>\n",
              "      <td>5650</td>\n",
              "      <td>1</td>\n",
              "      <td>0</td>\n",
              "      <td>0</td>\n",
              "      <td>3</td>\n",
              "      <td>7</td>\n",
              "      <td>1180</td>\n",
              "      <td>0</td>\n",
              "      <td>1955</td>\n",
              "      <td>98178</td>\n",
              "      <td>47.5112</td>\n",
              "      <td>-122.257</td>\n",
              "      <td>1340</td>\n",
              "      <td>5650</td>\n",
              "    </tr>\n",
              "    <tr>\n",
              "      <td>1</td>\n",
              "      <td>2014-12-09</td>\n",
              "      <td>538000.0</td>\n",
              "      <td>3</td>\n",
              "      <td>2</td>\n",
              "      <td>2570</td>\n",
              "      <td>7242</td>\n",
              "      <td>2</td>\n",
              "      <td>0</td>\n",
              "      <td>0</td>\n",
              "      <td>3</td>\n",
              "      <td>7</td>\n",
              "      <td>2170</td>\n",
              "      <td>400</td>\n",
              "      <td>1951</td>\n",
              "      <td>98125</td>\n",
              "      <td>47.7210</td>\n",
              "      <td>-122.319</td>\n",
              "      <td>1690</td>\n",
              "      <td>7639</td>\n",
              "    </tr>\n",
              "    <tr>\n",
              "      <td>2</td>\n",
              "      <td>2015-02-25</td>\n",
              "      <td>180000.0</td>\n",
              "      <td>2</td>\n",
              "      <td>1</td>\n",
              "      <td>770</td>\n",
              "      <td>10000</td>\n",
              "      <td>1</td>\n",
              "      <td>0</td>\n",
              "      <td>0</td>\n",
              "      <td>3</td>\n",
              "      <td>6</td>\n",
              "      <td>770</td>\n",
              "      <td>0</td>\n",
              "      <td>1933</td>\n",
              "      <td>98028</td>\n",
              "      <td>47.7379</td>\n",
              "      <td>-122.233</td>\n",
              "      <td>2720</td>\n",
              "      <td>8062</td>\n",
              "    </tr>\n",
              "    <tr>\n",
              "      <td>3</td>\n",
              "      <td>2014-12-09</td>\n",
              "      <td>604000.0</td>\n",
              "      <td>4</td>\n",
              "      <td>3</td>\n",
              "      <td>1960</td>\n",
              "      <td>5000</td>\n",
              "      <td>1</td>\n",
              "      <td>0</td>\n",
              "      <td>0</td>\n",
              "      <td>5</td>\n",
              "      <td>7</td>\n",
              "      <td>1050</td>\n",
              "      <td>910</td>\n",
              "      <td>1965</td>\n",
              "      <td>98136</td>\n",
              "      <td>47.5208</td>\n",
              "      <td>-122.393</td>\n",
              "      <td>1360</td>\n",
              "      <td>5000</td>\n",
              "    </tr>\n",
              "    <tr>\n",
              "      <td>4</td>\n",
              "      <td>2015-02-18</td>\n",
              "      <td>510000.0</td>\n",
              "      <td>3</td>\n",
              "      <td>2</td>\n",
              "      <td>1680</td>\n",
              "      <td>8080</td>\n",
              "      <td>1</td>\n",
              "      <td>0</td>\n",
              "      <td>0</td>\n",
              "      <td>3</td>\n",
              "      <td>8</td>\n",
              "      <td>1680</td>\n",
              "      <td>0</td>\n",
              "      <td>1987</td>\n",
              "      <td>98074</td>\n",
              "      <td>47.6168</td>\n",
              "      <td>-122.045</td>\n",
              "      <td>1800</td>\n",
              "      <td>7503</td>\n",
              "    </tr>\n",
              "  </tbody>\n",
              "</table>\n",
              "</div>"
            ],
            "text/plain": [
              "        date     price  bedrooms  bathrooms  sqft_living  sqft_lot  floors  \\\n",
              "0 2014-10-13  221900.0         3          1         1180      5650       1   \n",
              "1 2014-12-09  538000.0         3          2         2570      7242       2   \n",
              "2 2015-02-25  180000.0         2          1          770     10000       1   \n",
              "3 2014-12-09  604000.0         4          3         1960      5000       1   \n",
              "4 2015-02-18  510000.0         3          2         1680      8080       1   \n",
              "\n",
              "   waterfront  view  condition  grade  sqft_above  sqft_basement  yr_built  \\\n",
              "0           0     0          3      7        1180              0      1955   \n",
              "1           0     0          3      7        2170            400      1951   \n",
              "2           0     0          3      6         770              0      1933   \n",
              "3           0     0          5      7        1050            910      1965   \n",
              "4           0     0          3      8        1680              0      1987   \n",
              "\n",
              "   zipcode      lat     long  sqft_living15  sqft_lot15  \n",
              "0    98178  47.5112 -122.257           1340        5650  \n",
              "1    98125  47.7210 -122.319           1690        7639  \n",
              "2    98028  47.7379 -122.233           2720        8062  \n",
              "3    98136  47.5208 -122.393           1360        5000  \n",
              "4    98074  47.6168 -122.045           1800        7503  "
            ]
          },
          "metadata": {
            "tags": []
          },
          "execution_count": 19
        }
      ]
    },
    {
      "cell_type": "code",
      "metadata": {
        "id": "3PnpVklTWOnf",
        "outputId": "ba9f533f-0a06-47ae-c7a0-aaa903c40038"
      },
      "source": [
        "plt.figure(figsize=(11,6))\n",
        "group=sales_df[['date','price']].groupby(by='date').mean()\n",
        "plt.plot(group.index,group['price'],color='blue')"
      ],
      "execution_count": null,
      "outputs": [
        {
          "output_type": "stream",
          "text": [
            "C:\\Users\\HP PC\\Anaconda3\\lib\\site-packages\\pandas\\plotting\\_matplotlib\\converter.py:103: FutureWarning: Using an implicitly registered datetime converter for a matplotlib plotting method. The converter was registered by pandas on import. Future versions of pandas will require you to explicitly register matplotlib converters.\n",
            "\n",
            "To register the converters:\n",
            "\t>>> from pandas.plotting import register_matplotlib_converters\n",
            "\t>>> register_matplotlib_converters()\n",
            "  warnings.warn(msg, FutureWarning)\n"
          ],
          "name": "stderr"
        },
        {
          "output_type": "execute_result",
          "data": {
            "text/plain": [
              "[<matplotlib.lines.Line2D at 0x53fdf49808>]"
            ]
          },
          "metadata": {
            "tags": []
          },
          "execution_count": 20
        },
        {
          "output_type": "display_data",
          "data": {
            "image/png": "[encoded data removed]",
            "text/plain": [
              "<Figure size 792x432 with 1 Axes>"
            ]
          },
          "metadata": {
            "tags": [],
            "needs_background": "light"
          }
        }
      ]
    },
    {
      "cell_type": "code",
      "metadata": {
        "id": "Qayr8DPQWOnj"
      },
      "source": [
        "# The data shown in above figure [has stationarity and there is no trend shown in price with date of purchasing.\n",
        "# Thus, we can neglect this column\n",
        "del sales_df['date']"
      ],
      "execution_count": null,
      "outputs": []
    },
    {
      "cell_type": "code",
      "metadata": {
        "id": "X0DumGp0WOnn"
      },
      "source": [
        "# lat and long combine together represent a particular location, thus it's better to combine them"
      ],
      "execution_count": null,
      "outputs": []
    },
    {
      "cell_type": "code",
      "metadata": {
        "id": "8ZvvuTJAWOnq"
      },
      "source": [
        "from math import radians, cos, sin, asin, sqrt\n",
        "def single_pt_haversine(lat, long):\n",
        "    r = 6371 # Earth's radius (km). Have r = 3956 if you want miles\n",
        "    # Convert decimal degrees to radians\n",
        "    # 'Single-point' Haversine formula\n",
        "    a = sin(lat/2)**2 + cos(lat) * sin(long/2)**2\n",
        "    d = 2 * r * asin(sqrt(a)) \n",
        "    return d"
      ],
      "execution_count": null,
      "outputs": []
    },
    {
      "cell_type": "code",
      "metadata": {
        "id": "Pse6IiwOWOnt"
      },
      "source": [
        "sales_df['haversine_distance']=[single_pt_haversine(lat,long) for lat,long in zip(sales_df.lat,sales_df.long)]"
      ],
      "execution_count": null,
      "outputs": []
    },
    {
      "cell_type": "code",
      "metadata": {
        "id": "vV5ei-oCWOnx",
        "outputId": "3ed74fa2-42b2-48ee-f448-6434d3eaa6ba"
      },
      "source": [
        "sales_df[['haversine_distance']].head()"
      ],
      "execution_count": null,
      "outputs": [
        {
          "output_type": "execute_result",
          "data": {
            "text/html": [
              "<div>\n",
              "<style scoped>\n",
              "    .dataframe tbody tr th:only-of-type {\n",
              "        vertical-align: middle;\n",
              "    }\n",
              "\n",
              "    .dataframe tbody tr th {\n",
              "        vertical-align: top;\n",
              "    }\n",
              "\n",
              "    .dataframe thead th {\n",
              "        text-align: right;\n",
              "    }\n",
              "</style>\n",
              "<table border=\"1\" class=\"dataframe\">\n",
              "  <thead>\n",
              "    <tr style=\"text-align: right;\">\n",
              "      <th></th>\n",
              "      <th>haversine_distance</th>\n",
              "    </tr>\n",
              "  </thead>\n",
              "  <tbody>\n",
              "    <tr>\n",
              "      <td>0</td>\n",
              "      <td>2965.959782</td>\n",
              "    </tr>\n",
              "    <tr>\n",
              "      <td>1</td>\n",
              "      <td>3992.739163</td>\n",
              "    </tr>\n",
              "    <tr>\n",
              "      <td>2</td>\n",
              "      <td>4272.669852</td>\n",
              "    </tr>\n",
              "    <tr>\n",
              "      <td>3</td>\n",
              "      <td>2652.374543</td>\n",
              "    </tr>\n",
              "    <tr>\n",
              "      <td>4</td>\n",
              "      <td>4281.317255</td>\n",
              "    </tr>\n",
              "  </tbody>\n",
              "</table>\n",
              "</div>"
            ],
            "text/plain": [
              "   haversine_distance\n",
              "0         2965.959782\n",
              "1         3992.739163\n",
              "2         4272.669852\n",
              "3         2652.374543\n",
              "4         4281.317255"
            ]
          },
          "metadata": {
            "tags": []
          },
          "execution_count": 25
        }
      ]
    },
    {
      "cell_type": "code",
      "metadata": {
        "id": "R2R-PjmxWOn1",
        "outputId": "36fe96eb-7506-45e8-dfeb-c7a50cc6a490"
      },
      "source": [
        "plt.scatter(sales_df['haversine_distance'],sales_df['price'],color='blue')"
      ],
      "execution_count": null,
      "outputs": [
        {
          "output_type": "execute_result",
          "data": {
            "text/plain": [
              "<matplotlib.collections.PathCollection at 0x53fe051888>"
            ]
          },
          "metadata": {
            "tags": []
          },
          "execution_count": 26
        },
        {
          "output_type": "display_data",
          "data": {
            "image/png": "[encoded data removed]",
            "text/plain": [
              "<Figure size 432x288 with 1 Axes>"
            ]
          },
          "metadata": {
            "tags": [],
            "needs_background": "light"
          }
        }
      ]
    },
    {
      "cell_type": "code",
      "metadata": {
        "id": "4U3WmCCBWOn5",
        "outputId": "e80f2bd7-ff88-4035-90cc-370ec4515b4f"
      },
      "source": [
        "#There seems to be the impact of location in terms of haversine_distance on sales\n",
        "#But a particular location is characterized by various factors. Let's see effect of location on other locational factors.\n",
        "sns.violinplot(x=sales_df['view'],y=sales_df['haversine_distance'],color='yellow')"
      ],
      "execution_count": null,
      "outputs": [
        {
          "output_type": "execute_result",
          "data": {
            "text/plain": [
              "<matplotlib.axes._subplots.AxesSubplot at 0x53fdff0d08>"
            ]
          },
          "metadata": {
            "tags": []
          },
          "execution_count": 27
        },
        {
          "output_type": "display_data",
          "data": {
            "image/png": "[encoded data removed]",
            "text/plain": [
              "<Figure size 432x288 with 1 Axes>"
            ]
          },
          "metadata": {
            "tags": [],
            "needs_background": "light"
          }
        }
      ]
    },
    {
      "cell_type": "code",
      "metadata": {
        "id": "egIDDI6cWOn-"
      },
      "source": [
        "# There is a clear correlation between view, waterfront and location.\n",
        "#Thus location column need to be removed in order to avoid the problem of homoscedasticity\n",
        "del sales_df['haversine_distance']\n",
        "del sales_df['lat']\n",
        "del sales_df['long']\n",
        "del sales_df['zipcode']\n",
        "# Since zipcode also represent location"
      ],
      "execution_count": null,
      "outputs": []
    },
    {
      "cell_type": "code",
      "metadata": {
        "id": "JOfcZCCMWOoB",
        "outputId": "b2db8c94-9bcf-43e2-db24-12d6d1415432"
      },
      "source": [
        "sales_df.dtypes"
      ],
      "execution_count": null,
      "outputs": [
        {
          "output_type": "execute_result",
          "data": {
            "text/plain": [
              "price            float64\n",
              "bedrooms           int64\n",
              "bathrooms          int32\n",
              "sqft_living        int64\n",
              "sqft_lot           int64\n",
              "floors             int32\n",
              "waterfront         int64\n",
              "view               int64\n",
              "condition          int64\n",
              "grade              int64\n",
              "sqft_above         int64\n",
              "sqft_basement      int64\n",
              "yr_built           int64\n",
              "sqft_living15      int64\n",
              "sqft_lot15         int64\n",
              "dtype: object"
            ]
          },
          "metadata": {
            "tags": []
          },
          "execution_count": 29
        }
      ]
    },
    {
      "cell_type": "code",
      "metadata": {
        "id": "us13SwaWWOoF",
        "outputId": "7a686b49-6899-4053-bddd-106ac4d031f7"
      },
      "source": [
        "sns.regplot(sales_df['sqft_living'],sales_df['sqft_living15'])"
      ],
      "execution_count": null,
      "outputs": [
        {
          "output_type": "execute_result",
          "data": {
            "text/plain": [
              "<matplotlib.axes._subplots.AxesSubplot at 0x53fe0e1708>"
            ]
          },
          "metadata": {
            "tags": []
          },
          "execution_count": 30
        },
        {
          "output_type": "display_data",
          "data": {
            "image/png": "[encoded data removed]",
            "text/plain": [
              "<Figure size 432x288 with 1 Axes>"
            ]
          },
          "metadata": {
            "tags": [],
            "needs_background": "light"
          }
        }
      ]
    },
    {
      "cell_type": "code",
      "metadata": {
        "id": "_QRqS_SNWOoJ",
        "outputId": "7bcefb6a-0a6e-400d-8558-97f0b64478c2"
      },
      "source": [
        "sns.regplot(sales_df['sqft_lot'],sales_df['sqft_lot15'])"
      ],
      "execution_count": null,
      "outputs": [
        {
          "output_type": "execute_result",
          "data": {
            "text/plain": [
              "<matplotlib.axes._subplots.AxesSubplot at 0x53feab4708>"
            ]
          },
          "metadata": {
            "tags": []
          },
          "execution_count": 31
        },
        {
          "output_type": "display_data",
          "data": {
            "image/png": "[encoded data removed]",
            "text/plain": [
              "<Figure size 432x288 with 1 Axes>"
            ]
          },
          "metadata": {
            "tags": [],
            "needs_background": "light"
          }
        }
      ]
    },
    {
      "cell_type": "code",
      "metadata": {
        "id": "atDa5EvKWOoN",
        "outputId": "271358fe-e831-4ae8-ea2e-4df6d9098c5a"
      },
      "source": [
        "sales_df[['sqft_living','sqft_living15']].corr()"
      ],
      "execution_count": null,
      "outputs": [
        {
          "output_type": "execute_result",
          "data": {
            "text/html": [
              "<div>\n",
              "<style scoped>\n",
              "    .dataframe tbody tr th:only-of-type {\n",
              "        vertical-align: middle;\n",
              "    }\n",
              "\n",
              "    .dataframe tbody tr th {\n",
              "        vertical-align: top;\n",
              "    }\n",
              "\n",
              "    .dataframe thead th {\n",
              "        text-align: right;\n",
              "    }\n",
              "</style>\n",
              "<table border=\"1\" class=\"dataframe\">\n",
              "  <thead>\n",
              "    <tr style=\"text-align: right;\">\n",
              "      <th></th>\n",
              "      <th>sqft_living</th>\n",
              "      <th>sqft_living15</th>\n",
              "    </tr>\n",
              "  </thead>\n",
              "  <tbody>\n",
              "    <tr>\n",
              "      <td>sqft_living</td>\n",
              "      <td>1.00000</td>\n",
              "      <td>0.75642</td>\n",
              "    </tr>\n",
              "    <tr>\n",
              "      <td>sqft_living15</td>\n",
              "      <td>0.75642</td>\n",
              "      <td>1.00000</td>\n",
              "    </tr>\n",
              "  </tbody>\n",
              "</table>\n",
              "</div>"
            ],
            "text/plain": [
              "               sqft_living  sqft_living15\n",
              "sqft_living        1.00000        0.75642\n",
              "sqft_living15      0.75642        1.00000"
            ]
          },
          "metadata": {
            "tags": []
          },
          "execution_count": 32
        }
      ]
    },
    {
      "cell_type": "code",
      "metadata": {
        "id": "cTY6OsJIWOoQ",
        "outputId": "5022876e-a2c3-4c51-b123-72334ae1c067"
      },
      "source": [
        "sales_df[['sqft_living','price']].corr()"
      ],
      "execution_count": null,
      "outputs": [
        {
          "output_type": "execute_result",
          "data": {
            "text/html": [
              "<div>\n",
              "<style scoped>\n",
              "    .dataframe tbody tr th:only-of-type {\n",
              "        vertical-align: middle;\n",
              "    }\n",
              "\n",
              "    .dataframe tbody tr th {\n",
              "        vertical-align: top;\n",
              "    }\n",
              "\n",
              "    .dataframe thead th {\n",
              "        text-align: right;\n",
              "    }\n",
              "</style>\n",
              "<table border=\"1\" class=\"dataframe\">\n",
              "  <thead>\n",
              "    <tr style=\"text-align: right;\">\n",
              "      <th></th>\n",
              "      <th>sqft_living</th>\n",
              "      <th>price</th>\n",
              "    </tr>\n",
              "  </thead>\n",
              "  <tbody>\n",
              "    <tr>\n",
              "      <td>sqft_living</td>\n",
              "      <td>1.000000</td>\n",
              "      <td>0.702035</td>\n",
              "    </tr>\n",
              "    <tr>\n",
              "      <td>price</td>\n",
              "      <td>0.702035</td>\n",
              "      <td>1.000000</td>\n",
              "    </tr>\n",
              "  </tbody>\n",
              "</table>\n",
              "</div>"
            ],
            "text/plain": [
              "             sqft_living     price\n",
              "sqft_living     1.000000  0.702035\n",
              "price           0.702035  1.000000"
            ]
          },
          "metadata": {
            "tags": []
          },
          "execution_count": 33
        }
      ]
    },
    {
      "cell_type": "code",
      "metadata": {
        "id": "iR3QkkHlWOoV"
      },
      "source": [
        "# There is stronger correlation between sqft_living and sqft_living15 as compared to correlation between sqrt_living and price.\n",
        "# Similar is the case of sqrt_lot and sqft_lot15.\n",
        "#Thus, it's better to drop one of them to avoid homoscedasticity\n",
        "del sales_df['sqft_living15']\n",
        "del sales_df['sqft_lot15']"
      ],
      "execution_count": null,
      "outputs": []
    },
    {
      "cell_type": "markdown",
      "metadata": {
        "id": "fs5lBW-zWOoY"
      },
      "source": [
        "### Bivariate Exploratory analysis"
      ]
    },
    {
      "cell_type": "code",
      "metadata": {
        "id": "9yS8FgjdWOoZ",
        "outputId": "17398030-200c-422b-a413-a4de3db2cab0"
      },
      "source": [
        "plt.figure(figsize=(10,10))\n",
        "plt.subplot(2,2,1)\n",
        "plt.scatter(sales_df['sqft_living'],sales_df['price'],color='purple')\n",
        "plt.xlabel('square feet living')\n",
        "plt.ylabel('price')\n",
        "plt.subplot(2,2,2)\n",
        "plt.scatter(sales_df['sqft_lot'],sales_df['price'],color='purple')\n",
        "plt.xlabel('square feet lot')\n",
        "plt.ylabel('price')\n",
        "plt.xlim(10,)\n",
        "plt.subplot(2,2,3)\n",
        "plt.scatter(sales_df['sqft_above'],sales_df['price'],color='purple')\n",
        "plt.xlabel('square feet above')\n",
        "plt.ylabel('price')\n",
        "plt.subplot(2,2,4)\n",
        "plt.scatter(sales_df['sqft_basement'],sales_df['price'],color='purple')\n",
        "plt.xlabel('square feet basement')\n",
        "plt.ylabel('price')"
      ],
      "execution_count": null,
      "outputs": [
        {
          "output_type": "execute_result",
          "data": {
            "text/plain": [
              "Text(0, 0.5, 'price')"
            ]
          },
          "metadata": {
            "tags": []
          },
          "execution_count": 35
        },
        {
          "output_type": "display_data",
          "data": {
            "image/png": "[encoded data removed]",
            "text/plain": [
              "<Figure size 720x720 with 4 Axes>"
            ]
          },
          "metadata": {
            "tags": [],
            "needs_background": "light"
          }
        }
      ]
    },
    {
      "cell_type": "code",
      "metadata": {
        "id": "FZcx4vAsWOod",
        "outputId": "88d143f5-6128-43ff-bfef-f2fecf46471d"
      },
      "source": [
        "sales_df.loc[sales_df['sqft_basement']==0,['sqft_basement']].count()"
      ],
      "execution_count": null,
      "outputs": [
        {
          "output_type": "execute_result",
          "data": {
            "text/plain": [
              "sqft_basement    13126\n",
              "dtype: int64"
            ]
          },
          "metadata": {
            "tags": []
          },
          "execution_count": 36
        }
      ]
    },
    {
      "cell_type": "code",
      "metadata": {
        "id": "OY3HW_O3WOog",
        "outputId": "f0e15411-7fdd-4d6c-cdc2-1c230a6c82f1"
      },
      "source": [
        "sales_df['sqft_living'].min()"
      ],
      "execution_count": null,
      "outputs": [
        {
          "output_type": "execute_result",
          "data": {
            "text/plain": [
              "290"
            ]
          },
          "metadata": {
            "tags": []
          },
          "execution_count": 37
        }
      ]
    },
    {
      "cell_type": "code",
      "metadata": {
        "id": "Y4Md-8K3WOok",
        "outputId": "963f978a-0afd-4d63-f0f1-ed83fe954fe9"
      },
      "source": [
        "plt.figure(figsize=(10,10))\n",
        "plt.subplot(2,1,1)\n",
        "sns.violinplot(sales_df['bedrooms'],sales_df['price'],color='purple')\n",
        "plt.xlabel('No of bedrooms')\n",
        "plt.ylabel('price')\n",
        "plt.ylim(0,4000000)\n",
        "plt.subplot(2,1,2)\n",
        "sns.violinplot(sales_df['bathrooms'],sales_df['price'],color='purple')\n",
        "plt.xlabel('No of bathrooms')\n",
        "plt.ylabel('price')\n",
        "plt.ylim(0,5000000)"
      ],
      "execution_count": null,
      "outputs": [
        {
          "output_type": "execute_result",
          "data": {
            "text/plain": [
              "(0, 5000000)"
            ]
          },
          "metadata": {
            "tags": []
          },
          "execution_count": 38
        },
        {
          "output_type": "display_data",
          "data": {
            "image/png": "[encoded data removed]",
            "text/plain": [
              "<Figure size 720x720 with 2 Axes>"
            ]
          },
          "metadata": {
            "tags": [],
            "needs_background": "light"
          }
        }
      ]
    },
    {
      "cell_type": "code",
      "metadata": {
        "id": "__zd66aiWOoo",
        "outputId": "964d9d44-9801-40f5-9b9f-fd2fad634823"
      },
      "source": [
        "plt.figure(figsize=(10,10))\n",
        "plt.subplot(2,1,1)\n",
        "sns.violinplot(sales_df['waterfront'],sales_df['price'],color='purple')\n",
        "plt.xlabel('waterfront(y/n)')\n",
        "plt.ylabel('price')\n",
        "plt.ylim(0,4000000)\n",
        "plt.subplot(2,1,2)\n",
        "sns.violinplot(sales_df['view'],sales_df['price'],color='purple')\n",
        "plt.xlabel('view')\n",
        "plt.ylabel('price')\n",
        "plt.ylim(0,3000000)"
      ],
      "execution_count": null,
      "outputs": [
        {
          "output_type": "execute_result",
          "data": {
            "text/plain": [
              "(0, 3000000)"
            ]
          },
          "metadata": {
            "tags": []
          },
          "execution_count": 39
        },
        {
          "output_type": "display_data",
          "data": {
            "image/png": "[encoded data removed]",
            "text/plain": [
              "<Figure size 720x720 with 2 Axes>"
            ]
          },
          "metadata": {
            "tags": [],
            "needs_background": "light"
          }
        }
      ]
    },
    {
      "cell_type": "code",
      "metadata": {
        "id": "qwoqPTPxWOou"
      },
      "source": [
        ""
      ],
      "execution_count": null,
      "outputs": []
    },
    {
      "cell_type": "code",
      "metadata": {
        "id": "7U7aL4B7WOo0",
        "outputId": "b07d0028-7c7c-4a8b-db1c-439a88934132"
      },
      "source": [
        "plt.figure(figsize=(10,10))\n",
        "plt.subplot(2,2,1)\n",
        "sns.violinplot(sales_df['floors'],sales_df['price'],color='purple')\n",
        "plt.xlabel('No. of floors')\n",
        "plt.ylabel('price')\n",
        "plt.ylim(0,4000000)\n",
        "plt.subplot(2,1,2)\n",
        "group=sales_df[['price','yr_built']].groupby(by='yr_built').mean()\n",
        "plt.plot(group.index,group['price'],color='purple')\n",
        "plt.xlabel('Year of built')\n",
        "plt.ylabel('price')\n",
        "plt.ylim(0,1000000)"
      ],
      "execution_count": null,
      "outputs": [
        {
          "output_type": "execute_result",
          "data": {
            "text/plain": [
              "(0, 1000000)"
            ]
          },
          "metadata": {
            "tags": []
          },
          "execution_count": 40
        },
        {
          "output_type": "display_data",
          "data": {
            "image/png": "[encoded data removed]",
            "text/plain": [
              "<Figure size 720x720 with 2 Axes>"
            ]
          },
          "metadata": {
            "tags": [],
            "needs_background": "light"
          }
        }
      ]
    },
    {
      "cell_type": "code",
      "metadata": {
        "id": "il9wDkq0WOo5"
      },
      "source": [
        "# There is no clear effect of year of built on sales. Thus, we may drop it\n",
        "del sales_df['yr_built']"
      ],
      "execution_count": null,
      "outputs": []
    },
    {
      "cell_type": "code",
      "metadata": {
        "id": "vwsM4ORMWOo9",
        "outputId": "90759003-a942-4a10-ebde-7bc54d322123"
      },
      "source": [
        "plt.figure(figsize=(10,10))\n",
        "plt.subplot(2,1,1)\n",
        "sns.violinplot(sales_df['condition'],sales_df['price'],color='purple')\n",
        "plt.xlabel('condition')\n",
        "plt.ylabel('price')\n",
        "plt.ylim(0,3000000)\n",
        "plt.subplot(2,1,2)\n",
        "sns.violinplot(sales_df['grade'],sales_df['price'],color='purple')\n",
        "plt.xlabel('grade')\n",
        "plt.ylabel('price')\n",
        "plt.ylim(0,3000000)"
      ],
      "execution_count": null,
      "outputs": [
        {
          "output_type": "execute_result",
          "data": {
            "text/plain": [
              "(0, 3000000)"
            ]
          },
          "metadata": {
            "tags": []
          },
          "execution_count": 42
        },
        {
          "output_type": "display_data",
          "data": {
            "image/png": "[encoded data removed]",
            "text/plain": [
              "<Figure size 720x720 with 2 Axes>"
            ]
          },
          "metadata": {
            "tags": [],
            "needs_background": "light"
          }
        }
      ]
    },
    {
      "cell_type": "code",
      "metadata": {
        "id": "zvcSP5KaWOpC"
      },
      "source": [
        "#In bedrooms column, the houses with no. of beds 11 and above are outliers. Thus, it's better to drop the outlier rows\n",
        "\n",
        "labels=sales_df.loc[sales_df['bedrooms'].isin([11,33])].index\n",
        "sales_df.drop(labels=labels,axis=0,inplace=True)"
      ],
      "execution_count": null,
      "outputs": []
    },
    {
      "cell_type": "code",
      "metadata": {
        "id": "ZvDz-salWOpH",
        "outputId": "b39ef1c8-904f-4a30-9fea-061eb02763ca"
      },
      "source": [
        "sales_df['bedrooms'].value_counts()"
      ],
      "execution_count": null,
      "outputs": [
        {
          "output_type": "execute_result",
          "data": {
            "text/plain": [
              "3     9824\n",
              "4     6882\n",
              "2     2760\n",
              "5     1601\n",
              "6      272\n",
              "1      199\n",
              "7       38\n",
              "8       13\n",
              "0       13\n",
              "9        6\n",
              "10       3\n",
              "Name: bedrooms, dtype: int64"
            ]
          },
          "metadata": {
            "tags": []
          },
          "execution_count": 44
        }
      ]
    },
    {
      "cell_type": "code",
      "metadata": {
        "id": "O19X8X9eWOpR",
        "outputId": "45256be3-e6fd-485a-bdc6-858f893b56a4"
      },
      "source": [
        "sales_df.corr().style.background_gradient(cmap='coolwarm')"
      ],
      "execution_count": null,
      "outputs": [
        {
          "output_type": "execute_result",
          "data": {
            "text/html": [
              "<style  type=\"text/css\" >\n",
              "    #T_a0c8278a_9b63_11ea_91b8_70188bd91660row0_col0 {\n",
              "            background-color:  #b40426;\n",
              "            color:  #f1f1f1;\n",
              "        }    #T_a0c8278a_9b63_11ea_91b8_70188bd91660row0_col1 {\n",
              "            background-color:  #a6c4fe;\n",
              "            color:  #000000;\n",
              "        }    #T_a0c8278a_9b63_11ea_91b8_70188bd91660row0_col2 {\n",
              "            background-color:  #e9d5cb;\n",
              "            color:  #000000;\n",
              "        }    #T_a0c8278a_9b63_11ea_91b8_70188bd91660row0_col3 {\n",
              "            background-color:  #f7a688;\n",
              "            color:  #000000;\n",
              "        }    #T_a0c8278a_9b63_11ea_91b8_70188bd91660row0_col4 {\n",
              "            background-color:  #5977e3;\n",
              "            color:  #000000;\n",
              "        }    #T_a0c8278a_9b63_11ea_91b8_70188bd91660row0_col5 {\n",
              "            background-color:  #bed2f6;\n",
              "            color:  #000000;\n",
              "        }    #T_a0c8278a_9b63_11ea_91b8_70188bd91660row0_col6 {\n",
              "            background-color:  #94b6ff;\n",
              "            color:  #000000;\n",
              "        }    #T_a0c8278a_9b63_11ea_91b8_70188bd91660row0_col7 {\n",
              "            background-color:  #bad0f8;\n",
              "            color:  #000000;\n",
              "        }    #T_a0c8278a_9b63_11ea_91b8_70188bd91660row0_col8 {\n",
              "            background-color:  #80a3fa;\n",
              "            color:  #000000;\n",
              "        }    #T_a0c8278a_9b63_11ea_91b8_70188bd91660row0_col9 {\n",
              "            background-color:  #f7a98b;\n",
              "            color:  #000000;\n",
              "        }    #T_a0c8278a_9b63_11ea_91b8_70188bd91660row0_col10 {\n",
              "            background-color:  #f7ba9f;\n",
              "            color:  #000000;\n",
              "        }    #T_a0c8278a_9b63_11ea_91b8_70188bd91660row0_col11 {\n",
              "            background-color:  #d2dbe8;\n",
              "            color:  #000000;\n",
              "        }    #T_a0c8278a_9b63_11ea_91b8_70188bd91660row1_col0 {\n",
              "            background-color:  #9bbcff;\n",
              "            color:  #000000;\n",
              "        }    #T_a0c8278a_9b63_11ea_91b8_70188bd91660row1_col1 {\n",
              "            background-color:  #b40426;\n",
              "            color:  #f1f1f1;\n",
              "        }    #T_a0c8278a_9b63_11ea_91b8_70188bd91660row1_col2 {\n",
              "            background-color:  #e5d8d1;\n",
              "            color:  #000000;\n",
              "        }    #T_a0c8278a_9b63_11ea_91b8_70188bd91660row1_col3 {\n",
              "            background-color:  #f3c7b1;\n",
              "            color:  #000000;\n",
              "        }    #T_a0c8278a_9b63_11ea_91b8_70188bd91660row1_col4 {\n",
              "            background-color:  #465ecf;\n",
              "            color:  #f1f1f1;\n",
              "        }    #T_a0c8278a_9b63_11ea_91b8_70188bd91660row1_col5 {\n",
              "            background-color:  #aec9fc;\n",
              "            color:  #000000;\n",
              "        }    #T_a0c8278a_9b63_11ea_91b8_70188bd91660row1_col6 {\n",
              "            background-color:  #3b4cc0;\n",
              "            color:  #f1f1f1;\n",
              "        }    #T_a0c8278a_9b63_11ea_91b8_70188bd91660row1_col7 {\n",
              "            background-color:  #4b64d5;\n",
              "            color:  #f1f1f1;\n",
              "        }    #T_a0c8278a_9b63_11ea_91b8_70188bd91660row1_col8 {\n",
              "            background-color:  #7da0f9;\n",
              "            color:  #000000;\n",
              "        }    #T_a0c8278a_9b63_11ea_91b8_70188bd91660row1_col9 {\n",
              "            background-color:  #cedaeb;\n",
              "            color:  #000000;\n",
              "        }    #T_a0c8278a_9b63_11ea_91b8_70188bd91660row1_col10 {\n",
              "            background-color:  #ebd3c6;\n",
              "            color:  #000000;\n",
              "        }    #T_a0c8278a_9b63_11ea_91b8_70188bd91660row1_col11 {\n",
              "            background-color:  #cedaeb;\n",
              "            color:  #000000;\n",
              "        }    #T_a0c8278a_9b63_11ea_91b8_70188bd91660row2_col0 {\n",
              "            background-color:  #dddcdc;\n",
              "            color:  #000000;\n",
              "        }    #T_a0c8278a_9b63_11ea_91b8_70188bd91660row2_col1 {\n",
              "            background-color:  #dedcdb;\n",
              "            color:  #000000;\n",
              "        }    #T_a0c8278a_9b63_11ea_91b8_70188bd91660row2_col2 {\n",
              "            background-color:  #b40426;\n",
              "            color:  #f1f1f1;\n",
              "        }    #T_a0c8278a_9b63_11ea_91b8_70188bd91660row2_col3 {\n",
              "            background-color:  #f7a688;\n",
              "            color:  #000000;\n",
              "        }    #T_a0c8278a_9b63_11ea_91b8_70188bd91660row2_col4 {\n",
              "            background-color:  #5977e3;\n",
              "            color:  #000000;\n",
              "        }    #T_a0c8278a_9b63_11ea_91b8_70188bd91660row2_col5 {\n",
              "            background-color:  #d2dbe8;\n",
              "            color:  #000000;\n",
              "        }    #T_a0c8278a_9b63_11ea_91b8_70188bd91660row2_col6 {\n",
              "            background-color:  #506bda;\n",
              "            color:  #000000;\n",
              "        }    #T_a0c8278a_9b63_11ea_91b8_70188bd91660row2_col7 {\n",
              "            background-color:  #7597f6;\n",
              "            color:  #000000;\n",
              "        }    #T_a0c8278a_9b63_11ea_91b8_70188bd91660row2_col8 {\n",
              "            background-color:  #6282ea;\n",
              "            color:  #000000;\n",
              "        }    #T_a0c8278a_9b63_11ea_91b8_70188bd91660row2_col9 {\n",
              "            background-color:  #f6bfa6;\n",
              "            color:  #000000;\n",
              "        }    #T_a0c8278a_9b63_11ea_91b8_70188bd91660row2_col10 {\n",
              "            background-color:  #f7bca1;\n",
              "            color:  #000000;\n",
              "        }    #T_a0c8278a_9b63_11ea_91b8_70188bd91660row2_col11 {\n",
              "            background-color:  #d4dbe6;\n",
              "            color:  #000000;\n",
              "        }    #T_a0c8278a_9b63_11ea_91b8_70188bd91660row3_col0 {\n",
              "            background-color:  #f7b093;\n",
              "            color:  #000000;\n",
              "        }    #T_a0c8278a_9b63_11ea_91b8_70188bd91660row3_col1 {\n",
              "            background-color:  #f1ccb8;\n",
              "            color:  #000000;\n",
              "        }    #T_a0c8278a_9b63_11ea_91b8_70188bd91660row3_col2 {\n",
              "            background-color:  #f6a586;\n",
              "            color:  #000000;\n",
              "        }    #T_a0c8278a_9b63_11ea_91b8_70188bd91660row3_col3 {\n",
              "            background-color:  #b40426;\n",
              "            color:  #f1f1f1;\n",
              "        }    #T_a0c8278a_9b63_11ea_91b8_70188bd91660row3_col4 {\n",
              "            background-color:  #7597f6;\n",
              "            color:  #000000;\n",
              "        }    #T_a0c8278a_9b63_11ea_91b8_70188bd91660row3_col5 {\n",
              "            background-color:  #d1dae9;\n",
              "            color:  #000000;\n",
              "        }    #T_a0c8278a_9b63_11ea_91b8_70188bd91660row3_col6 {\n",
              "            background-color:  #5d7ce6;\n",
              "            color:  #000000;\n",
              "        }    #T_a0c8278a_9b63_11ea_91b8_70188bd91660row3_col7 {\n",
              "            background-color:  #92b4fe;\n",
              "            color:  #000000;\n",
              "        }    #T_a0c8278a_9b63_11ea_91b8_70188bd91660row3_col8 {\n",
              "            background-color:  #6485ec;\n",
              "            color:  #000000;\n",
              "        }    #T_a0c8278a_9b63_11ea_91b8_70188bd91660row3_col9 {\n",
              "            background-color:  #ef886b;\n",
              "            color:  #000000;\n",
              "        }    #T_a0c8278a_9b63_11ea_91b8_70188bd91660row3_col10 {\n",
              "            background-color:  #d85646;\n",
              "            color:  #000000;\n",
              "        }    #T_a0c8278a_9b63_11ea_91b8_70188bd91660row3_col11 {\n",
              "            background-color:  #e8d6cc;\n",
              "            color:  #000000;\n",
              "        }    #T_a0c8278a_9b63_11ea_91b8_70188bd91660row4_col0 {\n",
              "            background-color:  #4b64d5;\n",
              "            color:  #f1f1f1;\n",
              "        }    #T_a0c8278a_9b63_11ea_91b8_70188bd91660row4_col1 {\n",
              "            background-color:  #465ecf;\n",
              "            color:  #f1f1f1;\n",
              "        }    #T_a0c8278a_9b63_11ea_91b8_70188bd91660row4_col2 {\n",
              "            background-color:  #688aef;\n",
              "            color:  #000000;\n",
              "        }    #T_a0c8278a_9b63_11ea_91b8_70188bd91660row4_col3 {\n",
              "            background-color:  #81a4fb;\n",
              "            color:  #000000;\n",
              "        }    #T_a0c8278a_9b63_11ea_91b8_70188bd91660row4_col4 {\n",
              "            background-color:  #b40426;\n",
              "            color:  #f1f1f1;\n",
              "        }    #T_a0c8278a_9b63_11ea_91b8_70188bd91660row4_col5 {\n",
              "            background-color:  #7a9df8;\n",
              "            color:  #000000;\n",
              "        }    #T_a0c8278a_9b63_11ea_91b8_70188bd91660row4_col6 {\n",
              "            background-color:  #4358cb;\n",
              "            color:  #f1f1f1;\n",
              "        }    #T_a0c8278a_9b63_11ea_91b8_70188bd91660row4_col7 {\n",
              "            background-color:  #4961d2;\n",
              "            color:  #f1f1f1;\n",
              "        }    #T_a0c8278a_9b63_11ea_91b8_70188bd91660row4_col8 {\n",
              "            background-color:  #7295f4;\n",
              "            color:  #000000;\n",
              "        }    #T_a0c8278a_9b63_11ea_91b8_70188bd91660row4_col9 {\n",
              "            background-color:  #84a7fc;\n",
              "            color:  #000000;\n",
              "        }    #T_a0c8278a_9b63_11ea_91b8_70188bd91660row4_col10 {\n",
              "            background-color:  #9dbdff;\n",
              "            color:  #000000;\n",
              "        }    #T_a0c8278a_9b63_11ea_91b8_70188bd91660row4_col11 {\n",
              "            background-color:  #7ea1fa;\n",
              "            color:  #000000;\n",
              "        }    #T_a0c8278a_9b63_11ea_91b8_70188bd91660row5_col0 {\n",
              "            background-color:  #81a4fb;\n",
              "            color:  #000000;\n",
              "        }    #T_a0c8278a_9b63_11ea_91b8_70188bd91660row5_col1 {\n",
              "            background-color:  #779af7;\n",
              "            color:  #000000;\n",
              "        }    #T_a0c8278a_9b63_11ea_91b8_70188bd91660row5_col2 {\n",
              "            background-color:  #b6cefa;\n",
              "            color:  #000000;\n",
              "        }    #T_a0c8278a_9b63_11ea_91b8_70188bd91660row5_col3 {\n",
              "            background-color:  #b3cdfb;\n",
              "            color:  #000000;\n",
              "        }    #T_a0c8278a_9b63_11ea_91b8_70188bd91660row5_col4 {\n",
              "            background-color:  #3c4ec2;\n",
              "            color:  #f1f1f1;\n",
              "        }    #T_a0c8278a_9b63_11ea_91b8_70188bd91660row5_col5 {\n",
              "            background-color:  #b40426;\n",
              "            color:  #f1f1f1;\n",
              "        }    #T_a0c8278a_9b63_11ea_91b8_70188bd91660row5_col6 {\n",
              "            background-color:  #445acc;\n",
              "            color:  #f1f1f1;\n",
              "        }    #T_a0c8278a_9b63_11ea_91b8_70188bd91660row5_col7 {\n",
              "            background-color:  #3b4cc0;\n",
              "            color:  #f1f1f1;\n",
              "        }    #T_a0c8278a_9b63_11ea_91b8_70188bd91660row5_col8 {\n",
              "            background-color:  #3b4cc0;\n",
              "            color:  #f1f1f1;\n",
              "        }    #T_a0c8278a_9b63_11ea_91b8_70188bd91660row5_col9 {\n",
              "            background-color:  #d8dce2;\n",
              "            color:  #000000;\n",
              "        }    #T_a0c8278a_9b63_11ea_91b8_70188bd91660row5_col10 {\n",
              "            background-color:  #ead4c8;\n",
              "            color:  #000000;\n",
              "        }    #T_a0c8278a_9b63_11ea_91b8_70188bd91660row5_col11 {\n",
              "            background-color:  #3b4cc0;\n",
              "            color:  #f1f1f1;\n",
              "        }    #T_a0c8278a_9b63_11ea_91b8_70188bd91660row6_col0 {\n",
              "            background-color:  #89acfd;\n",
              "            color:  #000000;\n",
              "        }    #T_a0c8278a_9b63_11ea_91b8_70188bd91660row6_col1 {\n",
              "            background-color:  #3b4cc0;\n",
              "            color:  #f1f1f1;\n",
              "        }    #T_a0c8278a_9b63_11ea_91b8_70188bd91660row6_col2 {\n",
              "            background-color:  #6180e9;\n",
              "            color:  #000000;\n",
              "        }    #T_a0c8278a_9b63_11ea_91b8_70188bd91660row6_col3 {\n",
              "            background-color:  #6b8df0;\n",
              "            color:  #000000;\n",
              "        }    #T_a0c8278a_9b63_11ea_91b8_70188bd91660row6_col4 {\n",
              "            background-color:  #4358cb;\n",
              "            color:  #f1f1f1;\n",
              "        }    #T_a0c8278a_9b63_11ea_91b8_70188bd91660row6_col5 {\n",
              "            background-color:  #81a4fb;\n",
              "            color:  #000000;\n",
              "        }    #T_a0c8278a_9b63_11ea_91b8_70188bd91660row6_col6 {\n",
              "            background-color:  #b40426;\n",
              "            color:  #f1f1f1;\n",
              "        }    #T_a0c8278a_9b63_11ea_91b8_70188bd91660row6_col7 {\n",
              "            background-color:  #bbd1f8;\n",
              "            color:  #000000;\n",
              "        }    #T_a0c8278a_9b63_11ea_91b8_70188bd91660row6_col8 {\n",
              "            background-color:  #7a9df8;\n",
              "            color:  #000000;\n",
              "        }    #T_a0c8278a_9b63_11ea_91b8_70188bd91660row6_col9 {\n",
              "            background-color:  #7a9df8;\n",
              "            color:  #000000;\n",
              "        }    #T_a0c8278a_9b63_11ea_91b8_70188bd91660row6_col10 {\n",
              "            background-color:  #7a9df8;\n",
              "            color:  #000000;\n",
              "        }    #T_a0c8278a_9b63_11ea_91b8_70188bd91660row6_col11 {\n",
              "            background-color:  #92b4fe;\n",
              "            color:  #000000;\n",
              "        }    #T_a0c8278a_9b63_11ea_91b8_70188bd91660row7_col0 {\n",
              "            background-color:  #b7cff9;\n",
              "            color:  #000000;\n",
              "        }    #T_a0c8278a_9b63_11ea_91b8_70188bd91660row7_col1 {\n",
              "            background-color:  #5572df;\n",
              "            color:  #000000;\n",
              "        }    #T_a0c8278a_9b63_11ea_91b8_70188bd91660row7_col2 {\n",
              "            background-color:  #8db0fe;\n",
              "            color:  #000000;\n",
              "        }    #T_a0c8278a_9b63_11ea_91b8_70188bd91660row7_col3 {\n",
              "            background-color:  #a7c5fe;\n",
              "            color:  #000000;\n",
              "        }    #T_a0c8278a_9b63_11ea_91b8_70188bd91660row7_col4 {\n",
              "            background-color:  #5470de;\n",
              "            color:  #000000;\n",
              "        }    #T_a0c8278a_9b63_11ea_91b8_70188bd91660row7_col5 {\n",
              "            background-color:  #82a6fb;\n",
              "            color:  #000000;\n",
              "        }    #T_a0c8278a_9b63_11ea_91b8_70188bd91660row7_col6 {\n",
              "            background-color:  #c1d4f4;\n",
              "            color:  #000000;\n",
              "        }    #T_a0c8278a_9b63_11ea_91b8_70188bd91660row7_col7 {\n",
              "            background-color:  #b40426;\n",
              "            color:  #f1f1f1;\n",
              "        }    #T_a0c8278a_9b63_11ea_91b8_70188bd91660row7_col8 {\n",
              "            background-color:  #82a6fb;\n",
              "            color:  #000000;\n",
              "        }    #T_a0c8278a_9b63_11ea_91b8_70188bd91660row7_col9 {\n",
              "            background-color:  #aec9fc;\n",
              "            color:  #000000;\n",
              "        }    #T_a0c8278a_9b63_11ea_91b8_70188bd91660row7_col10 {\n",
              "            background-color:  #98b9ff;\n",
              "            color:  #000000;\n",
              "        }    #T_a0c8278a_9b63_11ea_91b8_70188bd91660row7_col11 {\n",
              "            background-color:  #c6d6f1;\n",
              "            color:  #000000;\n",
              "        }    #T_a0c8278a_9b63_11ea_91b8_70188bd91660row8_col0 {\n",
              "            background-color:  #3b4cc0;\n",
              "            color:  #f1f1f1;\n",
              "        }    #T_a0c8278a_9b63_11ea_91b8_70188bd91660row8_col1 {\n",
              "            background-color:  #445acc;\n",
              "            color:  #f1f1f1;\n",
              "        }    #T_a0c8278a_9b63_11ea_91b8_70188bd91660row8_col2 {\n",
              "            background-color:  #3b4cc0;\n",
              "            color:  #f1f1f1;\n",
              "        }    #T_a0c8278a_9b63_11ea_91b8_70188bd91660row8_col3 {\n",
              "            background-color:  #3b4cc0;\n",
              "            color:  #f1f1f1;\n",
              "        }    #T_a0c8278a_9b63_11ea_91b8_70188bd91660row8_col4 {\n",
              "            background-color:  #3b4cc0;\n",
              "            color:  #f1f1f1;\n",
              "        }    #T_a0c8278a_9b63_11ea_91b8_70188bd91660row8_col5 {\n",
              "            background-color:  #3f53c6;\n",
              "            color:  #f1f1f1;\n",
              "        }    #T_a0c8278a_9b63_11ea_91b8_70188bd91660row8_col6 {\n",
              "            background-color:  #4055c8;\n",
              "            color:  #f1f1f1;\n",
              "        }    #T_a0c8278a_9b63_11ea_91b8_70188bd91660row8_col7 {\n",
              "            background-color:  #3f53c6;\n",
              "            color:  #f1f1f1;\n",
              "        }    #T_a0c8278a_9b63_11ea_91b8_70188bd91660row8_col8 {\n",
              "            background-color:  #b40426;\n",
              "            color:  #f1f1f1;\n",
              "        }    #T_a0c8278a_9b63_11ea_91b8_70188bd91660row8_col9 {\n",
              "            background-color:  #3b4cc0;\n",
              "            color:  #f1f1f1;\n",
              "        }    #T_a0c8278a_9b63_11ea_91b8_70188bd91660row8_col10 {\n",
              "            background-color:  #3b4cc0;\n",
              "            color:  #f1f1f1;\n",
              "        }    #T_a0c8278a_9b63_11ea_91b8_70188bd91660row8_col11 {\n",
              "            background-color:  #abc8fd;\n",
              "            color:  #000000;\n",
              "        }    #T_a0c8278a_9b63_11ea_91b8_70188bd91660row9_col0 {\n",
              "            background-color:  #f7bca1;\n",
              "            color:  #000000;\n",
              "        }    #T_a0c8278a_9b63_11ea_91b8_70188bd91660row9_col1 {\n",
              "            background-color:  #b7cff9;\n",
              "            color:  #000000;\n",
              "        }    #T_a0c8278a_9b63_11ea_91b8_70188bd91660row9_col2 {\n",
              "            background-color:  #f3c7b1;\n",
              "            color:  #000000;\n",
              "        }    #T_a0c8278a_9b63_11ea_91b8_70188bd91660row9_col3 {\n",
              "            background-color:  #f18f71;\n",
              "            color:  #000000;\n",
              "        }    #T_a0c8278a_9b63_11ea_91b8_70188bd91660row9_col4 {\n",
              "            background-color:  #6180e9;\n",
              "            color:  #000000;\n",
              "        }    #T_a0c8278a_9b63_11ea_91b8_70188bd91660row9_col5 {\n",
              "            background-color:  #e3d9d3;\n",
              "            color:  #000000;\n",
              "        }    #T_a0c8278a_9b63_11ea_91b8_70188bd91660row9_col6 {\n",
              "            background-color:  #5572df;\n",
              "            color:  #000000;\n",
              "        }    #T_a0c8278a_9b63_11ea_91b8_70188bd91660row9_col7 {\n",
              "            background-color:  #85a8fc;\n",
              "            color:  #000000;\n",
              "        }    #T_a0c8278a_9b63_11ea_91b8_70188bd91660row9_col8 {\n",
              "            background-color:  #4e68d8;\n",
              "            color:  #000000;\n",
              "        }    #T_a0c8278a_9b63_11ea_91b8_70188bd91660row9_col9 {\n",
              "            background-color:  #b40426;\n",
              "            color:  #f1f1f1;\n",
              "        }    #T_a0c8278a_9b63_11ea_91b8_70188bd91660row9_col10 {\n",
              "            background-color:  #ef886b;\n",
              "            color:  #000000;\n",
              "        }    #T_a0c8278a_9b63_11ea_91b8_70188bd91660row9_col11 {\n",
              "            background-color:  #aac7fd;\n",
              "            color:  #000000;\n",
              "        }    #T_a0c8278a_9b63_11ea_91b8_70188bd91660row10_col0 {\n",
              "            background-color:  #f1cdba;\n",
              "            color:  #000000;\n",
              "        }    #T_a0c8278a_9b63_11ea_91b8_70188bd91660row10_col1 {\n",
              "            background-color:  #dbdcde;\n",
              "            color:  #000000;\n",
              "        }    #T_a0c8278a_9b63_11ea_91b8_70188bd91660row10_col2 {\n",
              "            background-color:  #f4c5ad;\n",
              "            color:  #000000;\n",
              "        }    #T_a0c8278a_9b63_11ea_91b8_70188bd91660row10_col3 {\n",
              "            background-color:  #da5a49;\n",
              "            color:  #000000;\n",
              "        }    #T_a0c8278a_9b63_11ea_91b8_70188bd91660row10_col4 {\n",
              "            background-color:  #779af7;\n",
              "            color:  #000000;\n",
              "        }    #T_a0c8278a_9b63_11ea_91b8_70188bd91660row10_col5 {\n",
              "            background-color:  #f0cdbb;\n",
              "            color:  #000000;\n",
              "        }    #T_a0c8278a_9b63_11ea_91b8_70188bd91660row10_col6 {\n",
              "            background-color:  #536edd;\n",
              "            color:  #000000;\n",
              "        }    #T_a0c8278a_9b63_11ea_91b8_70188bd91660row10_col7 {\n",
              "            background-color:  #6788ee;\n",
              "            color:  #000000;\n",
              "        }    #T_a0c8278a_9b63_11ea_91b8_70188bd91660row10_col8 {\n",
              "            background-color:  #4a63d3;\n",
              "            color:  #f1f1f1;\n",
              "        }    #T_a0c8278a_9b63_11ea_91b8_70188bd91660row10_col9 {\n",
              "            background-color:  #f08a6c;\n",
              "            color:  #000000;\n",
              "        }    #T_a0c8278a_9b63_11ea_91b8_70188bd91660row10_col10 {\n",
              "            background-color:  #b40426;\n",
              "            color:  #f1f1f1;\n",
              "        }    #T_a0c8278a_9b63_11ea_91b8_70188bd91660row10_col11 {\n",
              "            background-color:  #6b8df0;\n",
              "            color:  #000000;\n",
              "        }    #T_a0c8278a_9b63_11ea_91b8_70188bd91660row11_col0 {\n",
              "            background-color:  #9ebeff;\n",
              "            color:  #000000;\n",
              "        }    #T_a0c8278a_9b63_11ea_91b8_70188bd91660row11_col1 {\n",
              "            background-color:  #a3c2fe;\n",
              "            color:  #000000;\n",
              "        }    #T_a0c8278a_9b63_11ea_91b8_70188bd91660row11_col2 {\n",
              "            background-color:  #b9d0f9;\n",
              "            color:  #000000;\n",
              "        }    #T_a0c8278a_9b63_11ea_91b8_70188bd91660row11_col3 {\n",
              "            background-color:  #d4dbe6;\n",
              "            color:  #000000;\n",
              "        }    #T_a0c8278a_9b63_11ea_91b8_70188bd91660row11_col4 {\n",
              "            background-color:  #4257c9;\n",
              "            color:  #f1f1f1;\n",
              "        }    #T_a0c8278a_9b63_11ea_91b8_70188bd91660row11_col5 {\n",
              "            background-color:  #3b4cc0;\n",
              "            color:  #f1f1f1;\n",
              "        }    #T_a0c8278a_9b63_11ea_91b8_70188bd91660row11_col6 {\n",
              "            background-color:  #5572df;\n",
              "            color:  #000000;\n",
              "        }    #T_a0c8278a_9b63_11ea_91b8_70188bd91660row11_col7 {\n",
              "            background-color:  #8fb1fe;\n",
              "            color:  #000000;\n",
              "        }    #T_a0c8278a_9b63_11ea_91b8_70188bd91660row11_col8 {\n",
              "            background-color:  #a7c5fe;\n",
              "            color:  #000000;\n",
              "        }    #T_a0c8278a_9b63_11ea_91b8_70188bd91660row11_col9 {\n",
              "            background-color:  #96b7ff;\n",
              "            color:  #000000;\n",
              "        }    #T_a0c8278a_9b63_11ea_91b8_70188bd91660row11_col10 {\n",
              "            background-color:  #5673e0;\n",
              "            color:  #000000;\n",
              "        }    #T_a0c8278a_9b63_11ea_91b8_70188bd91660row11_col11 {\n",
              "            background-color:  #b40426;\n",
              "            color:  #f1f1f1;\n",
              "        }</style><table id=\"T_a0c8278a_9b63_11ea_91b8_70188bd91660\" ><thead>    <tr>        <th class=\"blank level0\" ></th>        <th class=\"col_heading level0 col0\" >price</th>        <th class=\"col_heading level0 col1\" >bedrooms</th>        <th class=\"col_heading level0 col2\" >bathrooms</th>        <th class=\"col_heading level0 col3\" >sqft_living</th>        <th class=\"col_heading level0 col4\" >sqft_lot</th>        <th class=\"col_heading level0 col5\" >floors</th>        <th class=\"col_heading level0 col6\" >waterfront</th>        <th class=\"col_heading level0 col7\" >view</th>        <th class=\"col_heading level0 col8\" >condition</th>        <th class=\"col_heading level0 col9\" >grade</th>        <th class=\"col_heading level0 col10\" >sqft_above</th>        <th class=\"col_heading level0 col11\" >sqft_basement</th>    </tr></thead><tbody>\n",
              "                <tr>\n",
              "                        <th id=\"T_a0c8278a_9b63_11ea_91b8_70188bd91660level0_row0\" class=\"row_heading level0 row0\" >price</th>\n",
              "                        <td id=\"T_a0c8278a_9b63_11ea_91b8_70188bd91660row0_col0\" class=\"data row0 col0\" >1</td>\n",
              "                        <td id=\"T_a0c8278a_9b63_11ea_91b8_70188bd91660row0_col1\" class=\"data row0 col1\" >0.315983</td>\n",
              "                        <td id=\"T_a0c8278a_9b63_11ea_91b8_70188bd91660row0_col2\" class=\"data row0 col2\" >0.518936</td>\n",
              "                        <td id=\"T_a0c8278a_9b63_11ea_91b8_70188bd91660row0_col3\" class=\"data row0 col3\" >0.702066</td>\n",
              "                        <td id=\"T_a0c8278a_9b63_11ea_91b8_70188bd91660row0_col4\" class=\"data row0 col4\" >0.0896634</td>\n",
              "                        <td id=\"T_a0c8278a_9b63_11ea_91b8_70188bd91660row0_col5\" class=\"data row0 col5\" >0.24493</td>\n",
              "                        <td id=\"T_a0c8278a_9b63_11ea_91b8_70188bd91660row0_col6\" class=\"data row0 col6\" >0.266371</td>\n",
              "                        <td id=\"T_a0c8278a_9b63_11ea_91b8_70188bd91660row0_col7\" class=\"data row0 col7\" >0.397299</td>\n",
              "                        <td id=\"T_a0c8278a_9b63_11ea_91b8_70188bd91660row0_col8\" class=\"data row0 col8\" >0.0363348</td>\n",
              "                        <td id=\"T_a0c8278a_9b63_11ea_91b8_70188bd91660row0_col9\" class=\"data row0 col9\" >0.667451</td>\n",
              "                        <td id=\"T_a0c8278a_9b63_11ea_91b8_70188bd91660row0_col10\" class=\"data row0 col10\" >0.605601</td>\n",
              "                        <td id=\"T_a0c8278a_9b63_11ea_91b8_70188bd91660row0_col11\" class=\"data row0 col11\" >0.323817</td>\n",
              "            </tr>\n",
              "            <tr>\n",
              "                        <th id=\"T_a0c8278a_9b63_11ea_91b8_70188bd91660level0_row1\" class=\"row_heading level0 row1\" >bedrooms</th>\n",
              "                        <td id=\"T_a0c8278a_9b63_11ea_91b8_70188bd91660row1_col0\" class=\"data row1 col0\" >0.315983</td>\n",
              "                        <td id=\"T_a0c8278a_9b63_11ea_91b8_70188bd91660row1_col1\" class=\"data row1 col1\" >1</td>\n",
              "                        <td id=\"T_a0c8278a_9b63_11ea_91b8_70188bd91660row1_col2\" class=\"data row1 col2\" >0.501999</td>\n",
              "                        <td id=\"T_a0c8278a_9b63_11ea_91b8_70188bd91660row1_col3\" class=\"data row1 col3\" >0.59206</td>\n",
              "                        <td id=\"T_a0c8278a_9b63_11ea_91b8_70188bd91660row1_col4\" class=\"data row1 col4\" >0.0329562</td>\n",
              "                        <td id=\"T_a0c8278a_9b63_11ea_91b8_70188bd91660row1_col5\" class=\"data row1 col5\" >0.183543</td>\n",
              "                        <td id=\"T_a0c8278a_9b63_11ea_91b8_70188bd91660row1_col6\" class=\"data row1 col6\" >-0.00658795</td>\n",
              "                        <td id=\"T_a0c8278a_9b63_11ea_91b8_70188bd91660row1_col7\" class=\"data row1 col7\" >0.0821831</td>\n",
              "                        <td id=\"T_a0c8278a_9b63_11ea_91b8_70188bd91660row1_col8\" class=\"data row1 col8\" >0.0257649</td>\n",
              "                        <td id=\"T_a0c8278a_9b63_11ea_91b8_70188bd91660row1_col9\" class=\"data row1 col9\" >0.367323</td>\n",
              "                        <td id=\"T_a0c8278a_9b63_11ea_91b8_70188bd91660row1_col10\" class=\"data row1 col10\" >0.491122</td>\n",
              "                        <td id=\"T_a0c8278a_9b63_11ea_91b8_70188bd91660row1_col11\" class=\"data row1 col11\" >0.309729</td>\n",
              "            </tr>\n",
              "            <tr>\n",
              "                        <th id=\"T_a0c8278a_9b63_11ea_91b8_70188bd91660level0_row2\" class=\"row_heading level0 row2\" >bathrooms</th>\n",
              "                        <td id=\"T_a0c8278a_9b63_11ea_91b8_70188bd91660row2_col0\" class=\"data row2 col0\" >0.518936</td>\n",
              "                        <td id=\"T_a0c8278a_9b63_11ea_91b8_70188bd91660row2_col1\" class=\"data row2 col1\" >0.501999</td>\n",
              "                        <td id=\"T_a0c8278a_9b63_11ea_91b8_70188bd91660row2_col2\" class=\"data row2 col2\" >1</td>\n",
              "                        <td id=\"T_a0c8278a_9b63_11ea_91b8_70188bd91660row2_col3\" class=\"data row2 col3\" >0.70177</td>\n",
              "                        <td id=\"T_a0c8278a_9b63_11ea_91b8_70188bd91660row2_col4\" class=\"data row2 col4\" >0.0900047</td>\n",
              "                        <td id=\"T_a0c8278a_9b63_11ea_91b8_70188bd91660row2_col5\" class=\"data row2 col5\" >0.326438</td>\n",
              "                        <td id=\"T_a0c8278a_9b63_11ea_91b8_70188bd91660row2_col6\" class=\"data row2 col6\" >0.0654353</td>\n",
              "                        <td id=\"T_a0c8278a_9b63_11ea_91b8_70188bd91660row2_col7\" class=\"data row2 col7\" >0.202672</td>\n",
              "                        <td id=\"T_a0c8278a_9b63_11ea_91b8_70188bd91660row2_col8\" class=\"data row2 col8\" >-0.0666521</td>\n",
              "                        <td id=\"T_a0c8278a_9b63_11ea_91b8_70188bd91660row2_col9\" class=\"data row2 col9\" >0.591329</td>\n",
              "                        <td id=\"T_a0c8278a_9b63_11ea_91b8_70188bd91660row2_col10\" class=\"data row2 col10\" >0.599355</td>\n",
              "                        <td id=\"T_a0c8278a_9b63_11ea_91b8_70188bd91660row2_col11\" class=\"data row2 col11\" >0.33489</td>\n",
              "            </tr>\n",
              "            <tr>\n",
              "                        <th id=\"T_a0c8278a_9b63_11ea_91b8_70188bd91660level0_row3\" class=\"row_heading level0 row3\" >sqft_living</th>\n",
              "                        <td id=\"T_a0c8278a_9b63_11ea_91b8_70188bd91660row3_col0\" class=\"data row3 col0\" >0.702066</td>\n",
              "                        <td id=\"T_a0c8278a_9b63_11ea_91b8_70188bd91660row3_col1\" class=\"data row3 col1\" >0.59206</td>\n",
              "                        <td id=\"T_a0c8278a_9b63_11ea_91b8_70188bd91660row3_col2\" class=\"data row3 col2\" >0.70177</td>\n",
              "                        <td id=\"T_a0c8278a_9b63_11ea_91b8_70188bd91660row3_col3\" class=\"data row3 col3\" >1</td>\n",
              "                        <td id=\"T_a0c8278a_9b63_11ea_91b8_70188bd91660row3_col4\" class=\"data row3 col4\" >0.172837</td>\n",
              "                        <td id=\"T_a0c8278a_9b63_11ea_91b8_70188bd91660row3_col5\" class=\"data row3 col5\" >0.321947</td>\n",
              "                        <td id=\"T_a0c8278a_9b63_11ea_91b8_70188bd91660row3_col6\" class=\"data row3 col6\" >0.103823</td>\n",
              "                        <td id=\"T_a0c8278a_9b63_11ea_91b8_70188bd91660row3_col7\" class=\"data row3 col7\" >0.284628</td>\n",
              "                        <td id=\"T_a0c8278a_9b63_11ea_91b8_70188bd91660row3_col8\" class=\"data row3 col8\" >-0.0586771</td>\n",
              "                        <td id=\"T_a0c8278a_9b63_11ea_91b8_70188bd91660row3_col9\" class=\"data row3 col9\" >0.762751</td>\n",
              "                        <td id=\"T_a0c8278a_9b63_11ea_91b8_70188bd91660row3_col10\" class=\"data row3 col10\" >0.876594</td>\n",
              "                        <td id=\"T_a0c8278a_9b63_11ea_91b8_70188bd91660row3_col11\" class=\"data row3 col11\" >0.435048</td>\n",
              "            </tr>\n",
              "            <tr>\n",
              "                        <th id=\"T_a0c8278a_9b63_11ea_91b8_70188bd91660level0_row4\" class=\"row_heading level0 row4\" >sqft_lot</th>\n",
              "                        <td id=\"T_a0c8278a_9b63_11ea_91b8_70188bd91660row4_col0\" class=\"data row4 col0\" >0.0896634</td>\n",
              "                        <td id=\"T_a0c8278a_9b63_11ea_91b8_70188bd91660row4_col1\" class=\"data row4 col1\" >0.0329562</td>\n",
              "                        <td id=\"T_a0c8278a_9b63_11ea_91b8_70188bd91660row4_col2\" class=\"data row4 col2\" >0.0900047</td>\n",
              "                        <td id=\"T_a0c8278a_9b63_11ea_91b8_70188bd91660row4_col3\" class=\"data row4 col3\" >0.172837</td>\n",
              "                        <td id=\"T_a0c8278a_9b63_11ea_91b8_70188bd91660row4_col4\" class=\"data row4 col4\" >1</td>\n",
              "                        <td id=\"T_a0c8278a_9b63_11ea_91b8_70188bd91660row4_col5\" class=\"data row4 col5\" >-0.00194741</td>\n",
              "                        <td id=\"T_a0c8278a_9b63_11ea_91b8_70188bd91660row4_col6\" class=\"data row4 col6\" >0.0216019</td>\n",
              "                        <td id=\"T_a0c8278a_9b63_11ea_91b8_70188bd91660row4_col7\" class=\"data row4 col7\" >0.074704</td>\n",
              "                        <td id=\"T_a0c8278a_9b63_11ea_91b8_70188bd91660row4_col8\" class=\"data row4 col8\" >-0.00894185</td>\n",
              "                        <td id=\"T_a0c8278a_9b63_11ea_91b8_70188bd91660row4_col9\" class=\"data row4 col9\" >0.113611</td>\n",
              "                        <td id=\"T_a0c8278a_9b63_11ea_91b8_70188bd91660row4_col10\" class=\"data row4 col10\" >0.183518</td>\n",
              "                        <td id=\"T_a0c8278a_9b63_11ea_91b8_70188bd91660row4_col11\" class=\"data row4 col11\" >0.0153011</td>\n",
              "            </tr>\n",
              "            <tr>\n",
              "                        <th id=\"T_a0c8278a_9b63_11ea_91b8_70188bd91660level0_row5\" class=\"row_heading level0 row5\" >floors</th>\n",
              "                        <td id=\"T_a0c8278a_9b63_11ea_91b8_70188bd91660row5_col0\" class=\"data row5 col0\" >0.24493</td>\n",
              "                        <td id=\"T_a0c8278a_9b63_11ea_91b8_70188bd91660row5_col1\" class=\"data row5 col1\" >0.183543</td>\n",
              "                        <td id=\"T_a0c8278a_9b63_11ea_91b8_70188bd91660row5_col2\" class=\"data row5 col2\" >0.326438</td>\n",
              "                        <td id=\"T_a0c8278a_9b63_11ea_91b8_70188bd91660row5_col3\" class=\"data row5 col3\" >0.321947</td>\n",
              "                        <td id=\"T_a0c8278a_9b63_11ea_91b8_70188bd91660row5_col4\" class=\"data row5 col4\" >-0.00194741</td>\n",
              "                        <td id=\"T_a0c8278a_9b63_11ea_91b8_70188bd91660row5_col5\" class=\"data row5 col5\" >1</td>\n",
              "                        <td id=\"T_a0c8278a_9b63_11ea_91b8_70188bd91660row5_col6\" class=\"data row5 col6\" >0.0258399</td>\n",
              "                        <td id=\"T_a0c8278a_9b63_11ea_91b8_70188bd91660row5_col7\" class=\"data row5 col7\" >0.0279706</td>\n",
              "                        <td id=\"T_a0c8278a_9b63_11ea_91b8_70188bd91660row5_col8\" class=\"data row5 col8\" >-0.223167</td>\n",
              "                        <td id=\"T_a0c8278a_9b63_11ea_91b8_70188bd91660row5_col9\" class=\"data row5 col9\" >0.407693</td>\n",
              "                        <td id=\"T_a0c8278a_9b63_11ea_91b8_70188bd91660row5_col10\" class=\"data row5 col10\" >0.488376</td>\n",
              "                        <td id=\"T_a0c8278a_9b63_11ea_91b8_70188bd91660row5_col11\" class=\"data row5 col11\" >-0.245672</td>\n",
              "            </tr>\n",
              "            <tr>\n",
              "                        <th id=\"T_a0c8278a_9b63_11ea_91b8_70188bd91660level0_row6\" class=\"row_heading level0 row6\" >waterfront</th>\n",
              "                        <td id=\"T_a0c8278a_9b63_11ea_91b8_70188bd91660row6_col0\" class=\"data row6 col0\" >0.266371</td>\n",
              "                        <td id=\"T_a0c8278a_9b63_11ea_91b8_70188bd91660row6_col1\" class=\"data row6 col1\" >-0.00658795</td>\n",
              "                        <td id=\"T_a0c8278a_9b63_11ea_91b8_70188bd91660row6_col2\" class=\"data row6 col2\" >0.0654353</td>\n",
              "                        <td id=\"T_a0c8278a_9b63_11ea_91b8_70188bd91660row6_col3\" class=\"data row6 col3\" >0.103823</td>\n",
              "                        <td id=\"T_a0c8278a_9b63_11ea_91b8_70188bd91660row6_col4\" class=\"data row6 col4\" >0.0216019</td>\n",
              "                        <td id=\"T_a0c8278a_9b63_11ea_91b8_70188bd91660row6_col5\" class=\"data row6 col5\" >0.0258399</td>\n",
              "                        <td id=\"T_a0c8278a_9b63_11ea_91b8_70188bd91660row6_col6\" class=\"data row6 col6\" >1</td>\n",
              "                        <td id=\"T_a0c8278a_9b63_11ea_91b8_70188bd91660row6_col7\" class=\"data row6 col7\" >0.401857</td>\n",
              "                        <td id=\"T_a0c8278a_9b63_11ea_91b8_70188bd91660row6_col8\" class=\"data row6 col8\" >0.0166629</td>\n",
              "                        <td id=\"T_a0c8278a_9b63_11ea_91b8_70188bd91660row6_col9\" class=\"data row6 col9\" >0.0827716</td>\n",
              "                        <td id=\"T_a0c8278a_9b63_11ea_91b8_70188bd91660row6_col10\" class=\"data row6 col10\" >0.0720762</td>\n",
              "                        <td id=\"T_a0c8278a_9b63_11ea_91b8_70188bd91660row6_col11\" class=\"data row6 col11\" >0.0805951</td>\n",
              "            </tr>\n",
              "            <tr>\n",
              "                        <th id=\"T_a0c8278a_9b63_11ea_91b8_70188bd91660level0_row7\" class=\"row_heading level0 row7\" >view</th>\n",
              "                        <td id=\"T_a0c8278a_9b63_11ea_91b8_70188bd91660row7_col0\" class=\"data row7 col0\" >0.397299</td>\n",
              "                        <td id=\"T_a0c8278a_9b63_11ea_91b8_70188bd91660row7_col1\" class=\"data row7 col1\" >0.0821831</td>\n",
              "                        <td id=\"T_a0c8278a_9b63_11ea_91b8_70188bd91660row7_col2\" class=\"data row7 col2\" >0.202672</td>\n",
              "                        <td id=\"T_a0c8278a_9b63_11ea_91b8_70188bd91660row7_col3\" class=\"data row7 col3\" >0.284628</td>\n",
              "                        <td id=\"T_a0c8278a_9b63_11ea_91b8_70188bd91660row7_col4\" class=\"data row7 col4\" >0.074704</td>\n",
              "                        <td id=\"T_a0c8278a_9b63_11ea_91b8_70188bd91660row7_col5\" class=\"data row7 col5\" >0.0279706</td>\n",
              "                        <td id=\"T_a0c8278a_9b63_11ea_91b8_70188bd91660row7_col6\" class=\"data row7 col6\" >0.401857</td>\n",
              "                        <td id=\"T_a0c8278a_9b63_11ea_91b8_70188bd91660row7_col7\" class=\"data row7 col7\" >1</td>\n",
              "                        <td id=\"T_a0c8278a_9b63_11ea_91b8_70188bd91660row7_col8\" class=\"data row7 col8\" >0.0460224</td>\n",
              "                        <td id=\"T_a0c8278a_9b63_11ea_91b8_70188bd91660row7_col9\" class=\"data row7 col9\" >0.251309</td>\n",
              "                        <td id=\"T_a0c8278a_9b63_11ea_91b8_70188bd91660row7_col10\" class=\"data row7 col10\" >0.167653</td>\n",
              "                        <td id=\"T_a0c8278a_9b63_11ea_91b8_70188bd91660row7_col11\" class=\"data row7 col11\" >0.276973</td>\n",
              "            </tr>\n",
              "            <tr>\n",
              "                        <th id=\"T_a0c8278a_9b63_11ea_91b8_70188bd91660level0_row8\" class=\"row_heading level0 row8\" >condition</th>\n",
              "                        <td id=\"T_a0c8278a_9b63_11ea_91b8_70188bd91660row8_col0\" class=\"data row8 col0\" >0.0363348</td>\n",
              "                        <td id=\"T_a0c8278a_9b63_11ea_91b8_70188bd91660row8_col1\" class=\"data row8 col1\" >0.0257649</td>\n",
              "                        <td id=\"T_a0c8278a_9b63_11ea_91b8_70188bd91660row8_col2\" class=\"data row8 col2\" >-0.0666521</td>\n",
              "                        <td id=\"T_a0c8278a_9b63_11ea_91b8_70188bd91660row8_col3\" class=\"data row8 col3\" >-0.0586771</td>\n",
              "                        <td id=\"T_a0c8278a_9b63_11ea_91b8_70188bd91660row8_col4\" class=\"data row8 col4\" >-0.00894185</td>\n",
              "                        <td id=\"T_a0c8278a_9b63_11ea_91b8_70188bd91660row8_col5\" class=\"data row8 col5\" >-0.223167</td>\n",
              "                        <td id=\"T_a0c8278a_9b63_11ea_91b8_70188bd91660row8_col6\" class=\"data row8 col6\" >0.0166629</td>\n",
              "                        <td id=\"T_a0c8278a_9b63_11ea_91b8_70188bd91660row8_col7\" class=\"data row8 col7\" >0.0460224</td>\n",
              "                        <td id=\"T_a0c8278a_9b63_11ea_91b8_70188bd91660row8_col8\" class=\"data row8 col8\" >1</td>\n",
              "                        <td id=\"T_a0c8278a_9b63_11ea_91b8_70188bd91660row8_col9\" class=\"data row8 col9\" >-0.14465</td>\n",
              "                        <td id=\"T_a0c8278a_9b63_11ea_91b8_70188bd91660row8_col10\" class=\"data row8 col10\" >-0.158118</td>\n",
              "                        <td id=\"T_a0c8278a_9b63_11ea_91b8_70188bd91660row8_col11\" class=\"data row8 col11\" >0.174081</td>\n",
              "            </tr>\n",
              "            <tr>\n",
              "                        <th id=\"T_a0c8278a_9b63_11ea_91b8_70188bd91660level0_row9\" class=\"row_heading level0 row9\" >grade</th>\n",
              "                        <td id=\"T_a0c8278a_9b63_11ea_91b8_70188bd91660row9_col0\" class=\"data row9 col0\" >0.667451</td>\n",
              "                        <td id=\"T_a0c8278a_9b63_11ea_91b8_70188bd91660row9_col1\" class=\"data row9 col1\" >0.367323</td>\n",
              "                        <td id=\"T_a0c8278a_9b63_11ea_91b8_70188bd91660row9_col2\" class=\"data row9 col2\" >0.591329</td>\n",
              "                        <td id=\"T_a0c8278a_9b63_11ea_91b8_70188bd91660row9_col3\" class=\"data row9 col3\" >0.762751</td>\n",
              "                        <td id=\"T_a0c8278a_9b63_11ea_91b8_70188bd91660row9_col4\" class=\"data row9 col4\" >0.113611</td>\n",
              "                        <td id=\"T_a0c8278a_9b63_11ea_91b8_70188bd91660row9_col5\" class=\"data row9 col5\" >0.407693</td>\n",
              "                        <td id=\"T_a0c8278a_9b63_11ea_91b8_70188bd91660row9_col6\" class=\"data row9 col6\" >0.0827716</td>\n",
              "                        <td id=\"T_a0c8278a_9b63_11ea_91b8_70188bd91660row9_col7\" class=\"data row9 col7\" >0.251309</td>\n",
              "                        <td id=\"T_a0c8278a_9b63_11ea_91b8_70188bd91660row9_col8\" class=\"data row9 col8\" >-0.14465</td>\n",
              "                        <td id=\"T_a0c8278a_9b63_11ea_91b8_70188bd91660row9_col9\" class=\"data row9 col9\" >1</td>\n",
              "                        <td id=\"T_a0c8278a_9b63_11ea_91b8_70188bd91660row9_col10\" class=\"data row9 col10\" >0.755953</td>\n",
              "                        <td id=\"T_a0c8278a_9b63_11ea_91b8_70188bd91660row9_col11\" class=\"data row9 col11\" >0.168433</td>\n",
              "            </tr>\n",
              "            <tr>\n",
              "                        <th id=\"T_a0c8278a_9b63_11ea_91b8_70188bd91660level0_row10\" class=\"row_heading level0 row10\" >sqft_above</th>\n",
              "                        <td id=\"T_a0c8278a_9b63_11ea_91b8_70188bd91660row10_col0\" class=\"data row10 col0\" >0.605601</td>\n",
              "                        <td id=\"T_a0c8278a_9b63_11ea_91b8_70188bd91660row10_col1\" class=\"data row10 col1\" >0.491122</td>\n",
              "                        <td id=\"T_a0c8278a_9b63_11ea_91b8_70188bd91660row10_col2\" class=\"data row10 col2\" >0.599355</td>\n",
              "                        <td id=\"T_a0c8278a_9b63_11ea_91b8_70188bd91660row10_col3\" class=\"data row10 col3\" >0.876594</td>\n",
              "                        <td id=\"T_a0c8278a_9b63_11ea_91b8_70188bd91660row10_col4\" class=\"data row10 col4\" >0.183518</td>\n",
              "                        <td id=\"T_a0c8278a_9b63_11ea_91b8_70188bd91660row10_col5\" class=\"data row10 col5\" >0.488376</td>\n",
              "                        <td id=\"T_a0c8278a_9b63_11ea_91b8_70188bd91660row10_col6\" class=\"data row10 col6\" >0.0720762</td>\n",
              "                        <td id=\"T_a0c8278a_9b63_11ea_91b8_70188bd91660row10_col7\" class=\"data row10 col7\" >0.167653</td>\n",
              "                        <td id=\"T_a0c8278a_9b63_11ea_91b8_70188bd91660row10_col8\" class=\"data row10 col8\" >-0.158118</td>\n",
              "                        <td id=\"T_a0c8278a_9b63_11ea_91b8_70188bd91660row10_col9\" class=\"data row10 col9\" >0.755953</td>\n",
              "                        <td id=\"T_a0c8278a_9b63_11ea_91b8_70188bd91660row10_col10\" class=\"data row10 col10\" >1</td>\n",
              "                        <td id=\"T_a0c8278a_9b63_11ea_91b8_70188bd91660row10_col11\" class=\"data row10 col11\" >-0.0519426</td>\n",
              "            </tr>\n",
              "            <tr>\n",
              "                        <th id=\"T_a0c8278a_9b63_11ea_91b8_70188bd91660level0_row11\" class=\"row_heading level0 row11\" >sqft_basement</th>\n",
              "                        <td id=\"T_a0c8278a_9b63_11ea_91b8_70188bd91660row11_col0\" class=\"data row11 col0\" >0.323817</td>\n",
              "                        <td id=\"T_a0c8278a_9b63_11ea_91b8_70188bd91660row11_col1\" class=\"data row11 col1\" >0.309729</td>\n",
              "                        <td id=\"T_a0c8278a_9b63_11ea_91b8_70188bd91660row11_col2\" class=\"data row11 col2\" >0.33489</td>\n",
              "                        <td id=\"T_a0c8278a_9b63_11ea_91b8_70188bd91660row11_col3\" class=\"data row11 col3\" >0.435048</td>\n",
              "                        <td id=\"T_a0c8278a_9b63_11ea_91b8_70188bd91660row11_col4\" class=\"data row11 col4\" >0.0153011</td>\n",
              "                        <td id=\"T_a0c8278a_9b63_11ea_91b8_70188bd91660row11_col5\" class=\"data row11 col5\" >-0.245672</td>\n",
              "                        <td id=\"T_a0c8278a_9b63_11ea_91b8_70188bd91660row11_col6\" class=\"data row11 col6\" >0.0805951</td>\n",
              "                        <td id=\"T_a0c8278a_9b63_11ea_91b8_70188bd91660row11_col7\" class=\"data row11 col7\" >0.276973</td>\n",
              "                        <td id=\"T_a0c8278a_9b63_11ea_91b8_70188bd91660row11_col8\" class=\"data row11 col8\" >0.174081</td>\n",
              "                        <td id=\"T_a0c8278a_9b63_11ea_91b8_70188bd91660row11_col9\" class=\"data row11 col9\" >0.168433</td>\n",
              "                        <td id=\"T_a0c8278a_9b63_11ea_91b8_70188bd91660row11_col10\" class=\"data row11 col10\" >-0.0519426</td>\n",
              "                        <td id=\"T_a0c8278a_9b63_11ea_91b8_70188bd91660row11_col11\" class=\"data row11 col11\" >1</td>\n",
              "            </tr>\n",
              "    </tbody></table>"
            ],
            "text/plain": [
              "<pandas.io.formats.style.Styler at 0x53fe143988>"
            ]
          },
          "metadata": {
            "tags": []
          },
          "execution_count": 45
        }
      ]
    },
    {
      "cell_type": "code",
      "metadata": {
        "id": "tX_sRYKhWOpU",
        "outputId": "828ca44f-d648-4ec3-fdfa-ee948ec185c2"
      },
      "source": [
        "plt.figure(figsize=(7,7))\n",
        "sns.heatmap(sales_df.corr(),cmap='coolwarm',vmin=-1,vmax=1)"
      ],
      "execution_count": null,
      "outputs": [
        {
          "output_type": "execute_result",
          "data": {
            "text/plain": [
              "<matplotlib.axes._subplots.AxesSubplot at 0x53816a20c8>"
            ]
          },
          "metadata": {
            "tags": []
          },
          "execution_count": 46
        },
        {
          "output_type": "display_data",
          "data": {
            "image/png": "[encoded data removed]",
            "text/plain": [
              "<Figure size 504x504 with 2 Axes>"
            ]
          },
          "metadata": {
            "tags": [],
            "needs_background": "light"
          }
        }
      ]
    },
    {
      "cell_type": "markdown",
      "metadata": {
        "id": "yA1ZZnwIWOpX"
      },
      "source": [
        "## Model building"
      ]
    },
    {
      "cell_type": "code",
      "metadata": {
        "id": "7hglZ6abWOpX",
        "outputId": "2962af49-6caf-4105-c060-b92df5a546fc"
      },
      "source": [
        "X=sales_df.iloc[:,1:].values\n",
        "y=sales_df.iloc[:,0].values\n",
        "print(X.shape)\n",
        "print(y.shape)"
      ],
      "execution_count": null,
      "outputs": [
        {
          "output_type": "stream",
          "text": [
            "(21611, 11)\n",
            "(21611,)\n"
          ],
          "name": "stdout"
        }
      ]
    },
    {
      "cell_type": "code",
      "metadata": {
        "id": "gKsGcQa5WOpa"
      },
      "source": [
        "from sklearn.model_selection import train_test_split\n",
        "X_train,X_test,y_train,y_test=train_test_split(X,y,test_size=.25,random_state=0)"
      ],
      "execution_count": null,
      "outputs": []
    },
    {
      "cell_type": "markdown",
      "metadata": {
        "id": "_zNhsUmKWOpd"
      },
      "source": [
        "### Multiple Regression"
      ]
    },
    {
      "cell_type": "code",
      "metadata": {
        "id": "HpbhcxI5WOpd"
      },
      "source": [
        "from sklearn.linear_model import LinearRegression\n",
        "regressor=LinearRegression(normalize=True)"
      ],
      "execution_count": null,
      "outputs": []
    },
    {
      "cell_type": "code",
      "metadata": {
        "id": "Mlh7pb_LWOpg",
        "outputId": "1f959115-8ff3-4a71-819a-5597555056bb"
      },
      "source": [
        "regressor.fit(X_train,y_train)"
      ],
      "execution_count": null,
      "outputs": [
        {
          "output_type": "execute_result",
          "data": {
            "text/plain": [
              "LinearRegression(copy_X=True, fit_intercept=True, n_jobs=None, normalize=True)"
            ]
          },
          "metadata": {
            "tags": []
          },
          "execution_count": 50
        }
      ]
    },
    {
      "cell_type": "code",
      "metadata": {
        "id": "5sERtfnKWOpm"
      },
      "source": [
        "from math import sqrt\n",
        "from sklearn.metrics import mean_squared_error"
      ],
      "execution_count": null,
      "outputs": []
    },
    {
      "cell_type": "code",
      "metadata": {
        "id": "46pZGh8sWOpr",
        "outputId": "11921409-7b27-4c90-86c2-0b4c057fee35"
      },
      "source": [
        "y_pred=regressor.predict(X_test)\n",
        "print('RMSE:',sqrt(mean_squared_error(y_test,y_pred)))"
      ],
      "execution_count": null,
      "outputs": [
        {
          "output_type": "stream",
          "text": [
            "RMSE: 236255.94447212113\n"
          ],
          "name": "stdout"
        }
      ]
    },
    {
      "cell_type": "markdown",
      "metadata": {
        "id": "0vlIYyoXhBqi"
      },
      "source": [
        "**RMSE value obtained by Linear Regression model is 236255.944**"
      ]
    },
    {
      "cell_type": "markdown",
      "metadata": {
        "id": "otv8p1gWWOpz"
      },
      "source": [
        "### Decision Tree Regressor"
      ]
    },
    {
      "cell_type": "code",
      "metadata": {
        "id": "TdgY-r_EWOp0",
        "outputId": "881ce3c4-99d8-4f35-a9a7-0abd63449e62"
      },
      "source": [
        "from sklearn.tree import DecisionTreeRegressor\n",
        "regressor=DecisionTreeRegressor(random_state=0,max_features=9)\n",
        "regressor.fit(X_train,y_train)"
      ],
      "execution_count": null,
      "outputs": [
        {
          "output_type": "execute_result",
          "data": {
            "text/plain": [
              "DecisionTreeRegressor(criterion='mse', max_depth=None, max_features=9,\n",
              "                      max_leaf_nodes=None, min_impurity_decrease=0.0,\n",
              "                      min_impurity_split=None, min_samples_leaf=1,\n",
              "                      min_samples_split=2, min_weight_fraction_leaf=0.0,\n",
              "                      presort=False, random_state=0, splitter='best')"
            ]
          },
          "metadata": {
            "tags": []
          },
          "execution_count": 53
        }
      ]
    },
    {
      "cell_type": "code",
      "metadata": {
        "id": "xXmMr8u3WOp3",
        "outputId": "17470c92-005c-431d-f021-326766dbfad1"
      },
      "source": [
        "y_pred=regressor.predict(X_test)\n",
        "print('RMSE:',sqrt(mean_squared_error(y_test,y_pred)))"
      ],
      "execution_count": null,
      "outputs": [
        {
          "output_type": "stream",
          "text": [
            "RMSE: 269139.4247624496\n"
          ],
          "name": "stdout"
        }
      ]
    },
    {
      "cell_type": "markdown",
      "metadata": {
        "id": "LEpWX9K4hNva"
      },
      "source": [
        "**RMSE value obtained in Decision Tree Regression is 269139.424**"
      ]
    },
    {
      "cell_type": "markdown",
      "metadata": {
        "id": "uTH3wOFsWOp-"
      },
      "source": [
        "### Random Forest Regressor"
      ]
    },
    {
      "cell_type": "code",
      "metadata": {
        "id": "oIbTuGsiWOp-",
        "outputId": "7a3efc61-de52-4258-8367-1c61356f4304"
      },
      "source": [
        "from sklearn.ensemble import RandomForestRegressor\n",
        "regressor=RandomForestRegressor(n_estimators=150,random_state=0)\n",
        "regressor.fit(X_train,y_train)"
      ],
      "execution_count": null,
      "outputs": [
        {
          "output_type": "execute_result",
          "data": {
            "text/plain": [
              "RandomForestRegressor(bootstrap=True, criterion='mse', max_depth=None,\n",
              "                      max_features='auto', max_leaf_nodes=None,\n",
              "                      min_impurity_decrease=0.0, min_impurity_split=None,\n",
              "                      min_samples_leaf=1, min_samples_split=2,\n",
              "                      min_weight_fraction_leaf=0.0, n_estimators=150,\n",
              "                      n_jobs=None, oob_score=False, random_state=0, verbose=0,\n",
              "                      warm_start=False)"
            ]
          },
          "metadata": {
            "tags": []
          },
          "execution_count": 55
        }
      ]
    },
    {
      "cell_type": "code",
      "metadata": {
        "id": "zfv9eRcIWOqD",
        "outputId": "89098071-7a06-4e88-889c-f12d1a4efce7"
      },
      "source": [
        "y_pred=regressor.predict(X_test)\n",
        "print('RMSE:',sqrt(mean_squared_error(y_test,y_pred)))"
      ],
      "execution_count": null,
      "outputs": [
        {
          "output_type": "stream",
          "text": [
            "RMSE: 206399.65131297178\n"
          ],
          "name": "stdout"
        }
      ]
    },
    {
      "cell_type": "markdown",
      "metadata": {
        "id": "jBEdVp5ehZKQ"
      },
      "source": [
        "**RMSE value obtained by Random Forest Regression model is 206399.65**"
      ]
    },
    {
      "cell_type": "markdown",
      "metadata": {
        "id": "Td4UrGFwWOqG"
      },
      "source": [
        "### Gradient Boost Regressor"
      ]
    },
    {
      "cell_type": "code",
      "metadata": {
        "id": "D59mIOiCWOqI",
        "outputId": "d0c46d58-7ec7-4a92-9acb-b9e7e4abf396"
      },
      "source": [
        "from sklearn.ensemble import GradientBoostingRegressor\n",
        "regressor= GradientBoostingRegressor(alpha=.9,learning_rate=.1,n_estimators=200,random_state=0)\n",
        "regressor.fit(X_train,y_train)"
      ],
      "execution_count": null,
      "outputs": [
        {
          "output_type": "execute_result",
          "data": {
            "text/plain": [
              "GradientBoostingRegressor(alpha=0.9, criterion='friedman_mse', init=None,\n",
              "                          learning_rate=0.1, loss='ls', max_depth=3,\n",
              "                          max_features=None, max_leaf_nodes=None,\n",
              "                          min_impurity_decrease=0.0, min_impurity_split=None,\n",
              "                          min_samples_leaf=1, min_samples_split=2,\n",
              "                          min_weight_fraction_leaf=0.0, n_estimators=200,\n",
              "                          n_iter_no_change=None, presort='auto', random_state=0,\n",
              "                          subsample=1.0, tol=0.0001, validation_fraction=0.1,\n",
              "                          verbose=0, warm_start=False)"
            ]
          },
          "metadata": {
            "tags": []
          },
          "execution_count": 57
        }
      ]
    },
    {
      "cell_type": "code",
      "metadata": {
        "id": "sHVvsOliWOqN",
        "outputId": "a6cab680-ae64-4a19-99c5-3449ac7519c2"
      },
      "source": [
        "y_pred=regressor.predict(X_test)\n",
        "print('RMSE:',sqrt(mean_squared_error(y_test,y_pred)))"
      ],
      "execution_count": null,
      "outputs": [
        {
          "output_type": "stream",
          "text": [
            "RMSE: 204882.66013597167\n"
          ],
          "name": "stdout"
        }
      ]
    },
    {
      "cell_type": "markdown",
      "metadata": {
        "id": "gMQU5--xhl6e"
      },
      "source": [
        "**RMSE value obtained in Gradient Boosting Regression model is 204882.66**"
      ]
    },
    {
      "cell_type": "markdown",
      "metadata": {
        "id": "YCgoNtjEWOqY"
      },
      "source": [
        "**From all the above models, the best model is GradientBoostingRegression**"
      ]
    }
  ]
}